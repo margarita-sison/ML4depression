{
 "cells": [
  {
   "attachments": {},
   "cell_type": "markdown",
   "metadata": {},
   "source": [
    "# Predicting depression and anxiety in college students during the Argentinean quarantine for the COVID-19 pandemic"
   ]
  },
  {
   "attachments": {},
   "cell_type": "markdown",
   "metadata": {},
   "source": [
    "# 4 of 5. Predicting depression scores in college students using regression"
   ]
  },
  {
   "attachments": {},
   "cell_type": "markdown",
   "metadata": {},
   "source": [
    "The data was collected for the study entitled \"A longitudinal study on depression and anxiety in college students during the first 106-days of the lengthy Argentinean quarantine for the COVID-19 pandemic\" by López Steinmetz et al., published in the Journal of Mental Health in 2021. To access the data, visit https://osf.io/2v84n/.\n",
    "\n",
    "In this Jupyter notebook, regression models, namely linear regression, random forest and support vector machine (SVM) regressors are trained to predict the scores of college students in the Beck Depression Inventory using the following features as inputs: depression and anxiety scores from the first measurement, three broad quarantine subperiods to which answers were assigned based on the date of response for the first measurement, the sex and age of the participant, and their mental disorder and suicidal history. The performance of the models are evaluated across several metrics and compared with the performance of three dummy/baseline regressors. \n",
    "\n",
    "<b>Prior to preprocessing, an initial inspection of the data was performed in the first notebook named '1_Data_intro.ipynb'. Descriptions of each column can also be found in the aforementioned notebook. For additional information about the data, visit https://doi.org/10.1080/09638237.2021.1952952.</b>"
   ]
  },
  {
   "attachments": {},
   "cell_type": "markdown",
   "metadata": {},
   "source": [
    "<b>Outline</b>\n",
    "<br>\n",
    "<br>4.1. Preprocessing the data\n",
    "<br>4.2. Training the models\n",
    "<br>&nbsp;&nbsp;&nbsp;&nbsp;&nbsp;&nbsp;&nbsp;&nbsp;4.2.1. Dummy regressors (baselines)\n",
    "<br>&nbsp;&nbsp;&nbsp;&nbsp;&nbsp;&nbsp;&nbsp;&nbsp;4.2.2. Linear regression\n",
    "<br>&nbsp;&nbsp;&nbsp;&nbsp;&nbsp;&nbsp;&nbsp;&nbsp;4.2.3. Random forest regressor\n",
    "<br>&nbsp;&nbsp;&nbsp;&nbsp;&nbsp;&nbsp;&nbsp;&nbsp;4.2.4. SVM regressor\n",
    "<br>4.3. Comparing the performance of univariate and multivariate models (feature importance)"
   ]
  },
  {
   "cell_type": "code",
   "execution_count": 1,
   "metadata": {},
   "outputs": [],
   "source": [
    "# Load 'dataset.xlsx' file as pandas DataFrame to keep tabular format\n",
    "import pandas as pd\n",
    "\n",
    "data = pd.read_excel('/Users/margaritasison/Downloads/M3.5 Lab Rotation 3/dataset.xlsx', sheet_name=0, header=0) # data = pd.read_excel('Edit string path accordingly', load first sheet, set first row as header)"
   ]
  },
  {
   "attachments": {},
   "cell_type": "markdown",
   "metadata": {},
   "source": [
    "### 4.1. Preprocessing the data"
   ]
  },
  {
   "cell_type": "code",
   "execution_count": 2,
   "metadata": {},
   "outputs": [],
   "source": [
    "# Drop columns 'participant' and 'BANXIETY'\n",
    "data = data.drop(['participant', 'BANXIETY'], axis=1)"
   ]
  },
  {
   "cell_type": "code",
   "execution_count": 3,
   "metadata": {},
   "outputs": [
    {
     "name": "stdout",
     "output_type": "stream",
     "text": [
      "Columns before 'get_dummies' conversion:\n",
      "['ADEPRESSION', 'BDEPRESSION', 'AANXIETY', 'quarantinesubperiod', 'sex', 'age', 'mentdishist', 'suic']\n",
      "Columns after 'get_dummies' conversion:\n",
      "['ADEPRESSION', 'BDEPRESSION', 'AANXIETY', 'age', 'quarantinesubperiod_quar first', 'quarantinesubperiod_quar second', 'quarantinesubperiod_quar third', 'sex_man', 'sex_woman', 'mentdishist_no', 'mentdishist_yes', 'suic_no', 'suic_yes']\n"
     ]
    }
   ],
   "source": [
    "# Convert categorical variables into dummy variables\n",
    "print(\"Columns before 'get_dummies' conversion:\\n{}\".format(list(data.columns)))\n",
    "\n",
    "data = pd.get_dummies(data)\n",
    "print(\"Columns after 'get_dummies' conversion:\\n{}\".format(list(data.columns)))"
   ]
  },
  {
   "cell_type": "code",
   "execution_count": 4,
   "metadata": {},
   "outputs": [],
   "source": [
    "# Convert 'data' DataFrame into a NumPy array to make it compatible with scikit-learn functions\n",
    "import numpy as np\n",
    "\n",
    "data = np.array(data)"
   ]
  },
  {
   "cell_type": "code",
   "execution_count": 5,
   "metadata": {},
   "outputs": [
    {
     "name": "stdout",
     "output_type": "stream",
     "text": [
      "First five rows of 'X':\n",
      " [[ 1 33 22  1  0  0  0  1  1  0  1  0]\n",
      " [11 21 24  1  0  0  0  1  1  0  0  1]\n",
      " [11 20 30  1  0  0  0  1  1  0  0  1]\n",
      " [24 41 22  1  0  0  0  1  0  1  0  1]\n",
      " [17 37 25  1  0  0  0  1  1  0  0  1]] \n",
      "Shape of 'X': (1492, 12)\n",
      "\n",
      "First five rows of 'y':\n",
      " [[13]\n",
      " [16]\n",
      " [ 5]\n",
      " [28]\n",
      " [17]] \n",
      "Shape of 'y': (1492, 1)\n"
     ]
    }
   ],
   "source": [
    "# Assign features to 'X' and target to 'y'\n",
    "X = data[:, 1:] # 'ADEPRESSION', 'AANXIETY', 'age', 'quarantinesubperiod_quar first', 'quarantinesubperiod_quar second', 'quarantinesubperiod_quar third', 'sex_man', 'sex_woman', 'mentdishist_no', 'mentdishist_yes', 'suic_no', 'suic_yes'\n",
    "y = data[:, :1] # 'BDEPRESSION'\n",
    "\n",
    "# Run the following lines to check 'X' and 'y':\n",
    "print(\"First five rows of 'X':\\n\", X[0:5], \"\\nShape of 'X':\", X.shape)\n",
    "print(\"\\nFirst five rows of 'y':\\n\", y[0:5], \"\\nShape of 'y':\", y.shape)"
   ]
  },
  {
   "cell_type": "code",
   "execution_count": 6,
   "metadata": {},
   "outputs": [
    {
     "name": "stdout",
     "output_type": "stream",
     "text": [
      "Shape of 'X_train': (1119, 12) \n",
      "Shape of 'y_train': (1119, 1)\n",
      "Shape of 'X_test': (373, 12) \n",
      "Shape of 'y_test': (373, 1)\n"
     ]
    }
   ],
   "source": [
    "# Split 'X' and 'y' into a training set and a test set\n",
    "from sklearn.model_selection import train_test_split\n",
    "\n",
    "X_train, X_test, y_train, y_test = train_test_split(\n",
    "    X, y,\n",
    "    random_state=0)\n",
    "\n",
    "# Run the following lines to check training and test set dimensions:\n",
    "print(\"Shape of 'X_train':\", X_train.shape, \"\\nShape of 'y_train':\", y_train.shape) # (1119, 12) (1119, 1)\n",
    "print(\"Shape of 'X_test':\", X_test.shape, \"\\nShape of 'y_test':\", y_test.shape) # (373, 12) (373, 1)"
   ]
  },
  {
   "cell_type": "code",
   "execution_count": 7,
   "metadata": {},
   "outputs": [
    {
     "name": "stdout",
     "output_type": "stream",
     "text": [
      "First five rows of 'scaled_X_train' (before scaling):\n",
      " [[ 6 34 18]\n",
      " [22 14 25]\n",
      " [19 31 18]\n",
      " [13 32 23]\n",
      " [20 28 25]] \n",
      "Shape of 'scaled_X_train' (before scaling): (1119, 3)\n",
      "\n",
      "First five rows of 'scaled_X_test' (before scaling):\n",
      " [[17 40 19]\n",
      " [ 6 17 20]\n",
      " [35 38 25]\n",
      " [ 6 12 25]\n",
      " [28 34 33]] \n",
      "Shape of 'scaled_X_test' (before scaling): (373, 3)\n"
     ]
    }
   ],
   "source": [
    "# Assign the features that will be scaled to 'scaled_X_train' and 'scaled_X_test'\n",
    "scaled_X_train = X_train[:, :3] # 'ADEPRESSION', 'AANXIETY', 'age'\n",
    "scaled_X_test = X_test[:, :3] # 'ADEPRESSION', 'AANXIETY', 'age'\n",
    "\n",
    "# Run the following lines to check 'scaled_X_train' and 'scaled_X_test':\n",
    "print(\"First five rows of 'scaled_X_train' (before scaling):\\n\", scaled_X_train[0:5], \"\\nShape of 'scaled_X_train' (before scaling):\", scaled_X_train.shape)\n",
    "print(\"\\nFirst five rows of 'scaled_X_test' (before scaling):\\n\", scaled_X_test[0:5], \"\\nShape of 'scaled_X_test' (before scaling):\", scaled_X_test.shape)"
   ]
  },
  {
   "cell_type": "code",
   "execution_count": 8,
   "metadata": {},
   "outputs": [
    {
     "name": "stdout",
     "output_type": "stream",
     "text": [
      "First five rows of 'scaled_X_train' (after scaling):\n",
      " [[-1.1473155   0.2406714  -1.77392186]\n",
      " [ 0.45146888 -1.36525737  0.74635093]\n",
      " [ 0.2200582   0.02007445 -1.77392186]\n",
      " [-0.300542    0.09549215  0.2239158 ]\n",
      " [ 0.30448193 -0.18931001  0.74635093]] \n",
      "Shape of 'scaled_X_train' (after scaling): (1119, 3)\n",
      "\n",
      "First five rows of 'scaled_X_test' (after scaling):\n",
      " [[ 0.05271629  0.72987685 -1.17188995]\n",
      " [-1.1473155  -1.06188413 -0.74800946]\n",
      " [ 1.19462844  0.53653104  0.74635093]\n",
      " [-1.1473155  -1.60221032  0.74635093]\n",
      " [ 0.81265408  0.2406714   1.56698962]] \n",
      "Shape of 'scaled_X_test' (after scaling): (373, 3)\n"
     ]
    }
   ],
   "source": [
    "# Scale 'ADEPRESSION', 'AANXIETY' and 'age'\n",
    "from sklearn.preprocessing import QuantileTransformer\n",
    "\n",
    "qt_norm = QuantileTransformer(output_distribution='normal').fit(scaled_X_train)\n",
    "\n",
    "scaled_X_train = qt_norm.transform(scaled_X_train)\n",
    "scaled_X_test = qt_norm.transform(scaled_X_test)\n",
    "\n",
    "# Run the following lines to check 'scaled_X_train' and 'scaled_X_test':\n",
    "print(\"First five rows of 'scaled_X_train' (after scaling):\\n\", scaled_X_train[0:5], \"\\nShape of 'scaled_X_train' (after scaling):\", scaled_X_train.shape)\n",
    "print(\"\\nFirst five rows of 'scaled_X_test' (after scaling):\\n\", scaled_X_test[0:5], \"\\nShape of 'scaled_X_test' (after scaling):\", scaled_X_test.shape)"
   ]
  },
  {
   "cell_type": "code",
   "execution_count": 9,
   "metadata": {},
   "outputs": [
    {
     "name": "stdout",
     "output_type": "stream",
     "text": [
      "First five rows of 'PCA_scaled_X_train':\n",
      " [[-0.12110444  1.89778948 -0.9021829 ]\n",
      " [-0.78364968 -0.58696194  1.30551675]\n",
      " [ 0.69489765  1.62137668  0.18230334]\n",
      " [-0.20926966 -0.18067771 -0.26841739]\n",
      " [-0.12346148 -0.76792333  0.33811721]] \n",
      "Shape of 'PCA_scaled_X_train': (1119, 3)\n",
      "\n",
      "First five rows of 'PCA_scaled_X_test':\n",
      " [[ 0.86106935  0.95514121 -0.4679139 ]\n",
      " [-1.26848949  1.1557275   0.03696498]\n",
      " [ 0.97209834 -1.10683514  0.40209768]\n",
      " [-2.05897408 -0.17328529  0.40292189]\n",
      " [ 0.27061053 -1.74834719  0.34498069]] \n",
      "Shape of 'PCA_scaled_X_test': (373, 3)\n"
     ]
    }
   ],
   "source": [
    "# Apply dimensionality reduction using PCA\n",
    "from sklearn.decomposition import PCA\n",
    "\n",
    "pca = PCA(n_components=.95).fit(scaled_X_train)\n",
    "\n",
    "PCA_scaled_X_train = pca.transform(scaled_X_train)\n",
    "PCA_scaled_X_test = pca.transform(scaled_X_test)\n",
    "\n",
    "# Run the following lines to check 'PCA_scaled_X_train' and 'PCA_scaled_X_test':\n",
    "print(\"First five rows of 'PCA_scaled_X_train':\\n\", PCA_scaled_X_train[0:5], \"\\nShape of 'PCA_scaled_X_train':\", PCA_scaled_X_train.shape)\n",
    "print(\"\\nFirst five rows of 'PCA_scaled_X_test':\\n\", PCA_scaled_X_test[0:5],  \"\\nShape of 'PCA_scaled_X_test':\", PCA_scaled_X_test.shape)"
   ]
  },
  {
   "cell_type": "code",
   "execution_count": 10,
   "metadata": {},
   "outputs": [
    {
     "name": "stdout",
     "output_type": "stream",
     "text": [
      "First five rows of 'X_train':\n",
      " [[0 0 1 0 1 1 0 0 1]\n",
      " [1 0 0 0 1 1 0 0 1]\n",
      " [1 0 0 0 1 1 0 0 1]\n",
      " [1 0 0 0 1 1 0 0 1]\n",
      " [1 0 0 0 1 1 0 0 1]] \n",
      "Shape of 'X_train': (1119, 9)\n",
      "\n",
      "First five rows of 'X_test':\n",
      " [[0 0 1 0 1 1 0 1 0]\n",
      " [0 0 1 0 1 1 0 1 0]\n",
      " [1 0 0 0 1 0 1 0 1]\n",
      " [1 0 0 0 1 1 0 1 0]\n",
      " [1 0 0 0 1 0 1 1 0]] \n",
      "Shape of 'X_test': (373, 9)\n"
     ]
    }
   ],
   "source": [
    "# Drop unscaled features from 'X_train' and 'X_test'\n",
    "X_train = np.delete(X_train, [0, 1, 2], axis=1)\n",
    "X_test = np.delete(X_test, [0, 1, 2], axis=1)\n",
    "\n",
    "# Run the following lines to check 'X_train' and 'X_test':\n",
    "print(\"First five rows of 'X_train':\\n\", X_train[0:5], \"\\nShape of 'X_train':\", X_train.shape)\n",
    "print(\"\\nFirst five rows of 'X_test':\\n\", X_test[0:5], \"\\nShape of 'X_test':\", X_test.shape)"
   ]
  },
  {
   "cell_type": "code",
   "execution_count": 11,
   "metadata": {},
   "outputs": [
    {
     "name": "stdout",
     "output_type": "stream",
     "text": [
      "First five rows of 'X_train':\n",
      " [[-0.12110444  1.89778948 -0.9021829   0.          0.          1.\n",
      "   0.          1.          1.          0.          0.          1.        ]\n",
      " [-0.78364968 -0.58696194  1.30551675  1.          0.          0.\n",
      "   0.          1.          1.          0.          0.          1.        ]\n",
      " [ 0.69489765  1.62137668  0.18230334  1.          0.          0.\n",
      "   0.          1.          1.          0.          0.          1.        ]\n",
      " [-0.20926966 -0.18067771 -0.26841739  1.          0.          0.\n",
      "   0.          1.          1.          0.          0.          1.        ]\n",
      " [-0.12346148 -0.76792333  0.33811721  1.          0.          0.\n",
      "   0.          1.          1.          0.          0.          1.        ]] \n",
      "Shape of 'X_train': (1119, 12)\n",
      "\n",
      "First five rows of 'X_test':\n",
      " [[ 0.86106935  0.95514121 -0.4679139   0.          0.          1.\n",
      "   0.          1.          1.          0.          1.          0.        ]\n",
      " [-1.26848949  1.1557275   0.03696498  0.          0.          1.\n",
      "   0.          1.          1.          0.          1.          0.        ]\n",
      " [ 0.97209834 -1.10683514  0.40209768  1.          0.          0.\n",
      "   0.          1.          0.          1.          0.          1.        ]\n",
      " [-2.05897408 -0.17328529  0.40292189  1.          0.          0.\n",
      "   0.          1.          1.          0.          1.          0.        ]\n",
      " [ 0.27061053 -1.74834719  0.34498069  1.          0.          0.\n",
      "   0.          1.          0.          1.          1.          0.        ]] \n",
      "Shape of 'X_test': (373, 12)\n"
     ]
    }
   ],
   "source": [
    "# Concatenate scaled features and dummy variables\n",
    "import numpy as np\n",
    "\n",
    "X_train = np.concatenate([PCA_scaled_X_train, X_train], axis=1)\n",
    "X_test = np.concatenate([PCA_scaled_X_test, X_test], axis=1)\n",
    "\n",
    "# Run the following lines to check 'X_train' and 'X_test':\n",
    "print(\"First five rows of 'X_train':\\n\", X_train[0:5], \"\\nShape of 'X_train':\", X_train.shape)\n",
    "print(\"\\nFirst five rows of 'X_test':\\n\", X_test[0:5], \"\\nShape of 'X_test':\", X_test.shape)"
   ]
  },
  {
   "cell_type": "code",
   "execution_count": 12,
   "metadata": {},
   "outputs": [
    {
     "name": "stdout",
     "output_type": "stream",
     "text": [
      "First five rows of 'y_train':\n",
      " [[ 0.2200582 ]\n",
      " [-1.17940175]\n",
      " [ 0.90330062]\n",
      " [ 1.4568958 ]\n",
      " [ 0.2200582 ]] \n",
      "Shape of 'y_train': (1119, 1)\n",
      "\n",
      "First five rows of 'y_test':\n",
      " [[ 1.3041214 ]\n",
      " [-1.33101771]\n",
      " [ 0.77822491]\n",
      " [-0.62414474]\n",
      " [ 0.71359852]] \n",
      "Shape of 'y_test': (373, 1)\n"
     ]
    }
   ],
   "source": [
    "# Scale 'y'\n",
    "qt_norm = QuantileTransformer(output_distribution='normal').fit(y_train)\n",
    "\n",
    "y_train = qt_norm.transform(y_train)\n",
    "y_test = qt_norm.transform(y_test)\n",
    "\n",
    "# Run the following lines to check 'y_train' and 'y_test':\n",
    "print(\"First five rows of 'y_train':\\n\", y_train[0:5], \"\\nShape of 'y_train':\", y_train.shape)\n",
    "print(\"\\nFirst five rows of 'y_test':\\n\", y_test[0:5], \"\\nShape of 'y_test':\", y_test.shape)"
   ]
  },
  {
   "attachments": {},
   "cell_type": "markdown",
   "metadata": {},
   "source": [
    "### 4.2. Training the models"
   ]
  },
  {
   "attachments": {},
   "cell_type": "markdown",
   "metadata": {},
   "source": [
    "##### 4.2.1. Dummy regressors (baselines)"
   ]
  },
  {
   "cell_type": "code",
   "execution_count": 13,
   "metadata": {},
   "outputs": [
    {
     "name": "stdout",
     "output_type": "stream",
     "text": [
      "Mean scores for randomly shuffled baseline with 95% confidence intervals:\n",
      "    R2 score: -1.00 [-1.27, -0.72]\n",
      "    Mean absolute error: 1.09 [1.02, 1.16]\n",
      "    Mean squared error: 1.93 [1.68, 2.17]\n"
     ]
    }
   ],
   "source": [
    "### MAKE DUMMY REGRESSORS (BASELINES)\n",
    "from sklearn.dummy import DummyRegressor\n",
    "from sklearn.utils import resample # For bootstrapping 'y_test' with replacement\n",
    "from sklearn.metrics import r2_score, mean_absolute_error, mean_squared_error  # Performance metrics\n",
    "\n",
    "### BASELINE 1 OF 3: RANDOMLY SHUFFLED BASELINE\n",
    "y_test_shuffled = np.copy(y_test)\n",
    "\n",
    "# Make empty lists for storing scores generated by bootstrapping 'y_test' 100 times\n",
    "r2_rand = []\n",
    "mae_rand = []\n",
    "mse_rand = []\n",
    "\n",
    "for i in range(100):\n",
    "    X_test_resampled, y_test_resampled = resample(X_test, y_test, replace=True, n_samples=len(y_test), random_state=0+i)\n",
    "    np.random.shuffle(y_test_shuffled)\n",
    "    # Store the scores in the empty lists so that we can calculate the mean scores and lower and upper limits of the 95% confidence interval\n",
    "    r2_rand.append(r2_score(y_test_resampled, y_test_shuffled)) # r2_score(y_true, y_pred)\n",
    "    mae_rand.append(mean_absolute_error(y_test_resampled, y_test_shuffled)) # mean_absolute_error(y_true, y_pred)\n",
    "    mse_rand.append(mean_squared_error(y_test_resampled, y_test_shuffled)) # mean_squared_error(y_true, y_pred)\n",
    "\n",
    "print(\"Mean scores for randomly shuffled baseline with 95% confidence intervals:\")\n",
    "print(\"    R2 score: {:.2f} [{:.2f}, {:.2f}]\".format(np.mean(r2_rand), np.percentile(r2_rand, 2.5), np.percentile(r2_rand, 97.5)))\n",
    "print(\"    Mean absolute error: {:.2f} [{:.2f}, {:.2f}]\".format(np.mean(mae_rand), np.percentile(mae_rand, 2.5), np.percentile(mae_rand, 97.5)))\n",
    "print(\"    Mean squared error: {:.2f} [{:.2f}, {:.2f}]\".format(np.mean(mse_rand), np.percentile(mse_rand, 2.5), np.percentile(mse_rand, 97.5)))"
   ]
  },
  {
   "cell_type": "code",
   "execution_count": 14,
   "metadata": {},
   "outputs": [
    {
     "name": "stdout",
     "output_type": "stream",
     "text": [
      "Mean scores for mean baseline with 95% confidence intervals:\n",
      "    R2 score: -0.00 [-0.02, -0.00]\n",
      "    Mean absolute error: 0.77 [0.71, 0.82]\n",
      "    Mean squared error: 0.97 [0.81, 1.13]\n"
     ]
    }
   ],
   "source": [
    "### BASELINE 2 OF 3: MEAN BASELINE\n",
    "mean_regr = DummyRegressor(strategy='mean')\n",
    "\n",
    "r2_mean = []\n",
    "mae_mean = []\n",
    "mse_mean = []\n",
    "\n",
    "for i in range(100):\n",
    "    X_test_resampled, y_test_resampled = resample(X_test, y_test, replace=True, n_samples=len(y_test), random_state=0+i)\n",
    "    mean_regr = mean_regr.fit(X_train, y_train)\n",
    "    y_pred = mean_regr.predict(X_test_resampled)\n",
    "    r2_mean.append(r2_score(y_test_resampled, y_pred))\n",
    "    mae_mean.append(mean_absolute_error(y_test_resampled, y_pred))\n",
    "    mse_mean.append(mean_squared_error(y_test_resampled, y_pred))\n",
    "\n",
    "print(\"Mean scores for mean baseline with 95% confidence intervals:\")\n",
    "print(\"    R2 score: {:.2f} [{:.2f}, {:.2f}]\".format(np.mean(r2_mean), np.percentile(r2_mean, 2.5), np.percentile(r2_mean, 97.5)))\n",
    "print(\"    Mean absolute error: {:.2f} [{:.2f}, {:.2f}]\".format(np.mean(mae_mean), np.percentile(mae_mean, 2.5), np.percentile(mae_mean, 97.5)))\n",
    "print(\"    Mean squared error: {:.2f} [{:.2f}, {:.2f}]\".format(np.mean(mse_mean), np.percentile(mse_mean, 2.5), np.percentile(mse_mean, 97.5)))"
   ]
  },
  {
   "cell_type": "code",
   "execution_count": 15,
   "metadata": {},
   "outputs": [
    {
     "name": "stdout",
     "output_type": "stream",
     "text": [
      "Mean scores for median baseline with 95% confidence intervals:\n",
      "    R2 score: -0.01 [-0.04, -0.00]\n",
      "    Mean absolute error: 0.77 [0.71, 0.82]\n",
      "    Mean squared error: 0.98 [0.81, 1.14]\n"
     ]
    }
   ],
   "source": [
    "### BASELINE 3 OF 3: MEDIAN BASELINE\n",
    "median_regr = DummyRegressor(strategy='median')\n",
    "\n",
    "r2_median = []\n",
    "mae_median = []\n",
    "mse_median = []\n",
    "\n",
    "for i in range(100):\n",
    "    X_test_resampled, y_test_resampled = resample(X_test, y_test, replace=True, n_samples=len(y_test), random_state=0+i)\n",
    "    median_regr = median_regr.fit(X_train, y_train)\n",
    "    y_pred = median_regr.predict(X_test_resampled)\n",
    "    r2_median.append(r2_score(y_test_resampled, y_pred))\n",
    "    mae_median.append(mean_absolute_error(y_test_resampled, y_pred))\n",
    "    mse_median.append(mean_squared_error(y_test_resampled, y_pred))\n",
    "\n",
    "print(\"Mean scores for median baseline with 95% confidence intervals:\")\n",
    "print(\"    R2 score: {:.2f} [{:.2f}, {:.2f}]\".format(np.mean(r2_median), np.percentile(r2_median, 2.5), np.percentile(r2_median, 97.5)))\n",
    "print(\"    Mean absolute error: {:.2f} [{:.2f}, {:.2f}]\".format(np.mean(mae_median), np.percentile(mae_median, 2.5), np.percentile(mae_median, 97.5)))\n",
    "print(\"    Mean squared error: {:.2f} [{:.2f}, {:.2f}]\".format(np.mean(mse_median), np.percentile(mse_median, 2.5), np.percentile(mse_median, 97.5)))"
   ]
  },
  {
   "attachments": {},
   "cell_type": "markdown",
   "metadata": {},
   "source": [
    "##### 4.2.2. Linear regression"
   ]
  },
  {
   "cell_type": "code",
   "execution_count": 16,
   "metadata": {},
   "outputs": [
    {
     "name": "stdout",
     "output_type": "stream",
     "text": [
      "Mean scores for linear regression on training set:\n",
      "    R2 score: 0.6687062543543233\n",
      "    Mean absolute error: -0.44598321916331407\n",
      "    Mean squared error: -0.3706413099806104\n"
     ]
    }
   ],
   "source": [
    "### LINEAR REGRESSION\n",
    "# 10-FOLD CROSS-VALIDATION\n",
    "from sklearn.linear_model import LinearRegression\n",
    "from sklearn.model_selection import cross_validate, KFold\n",
    "\n",
    "scoring = {\"r2\": \"r2\", \"mae\": \"neg_mean_absolute_error\", \"mse\": \"neg_mean_squared_error\"}\n",
    "\n",
    "cv_LR = cross_validate(\n",
    "    LinearRegression(),\n",
    "    X_train, y=y_train, scoring=scoring,\n",
    "    cv=KFold(n_splits=10, shuffle=True, random_state=0),\n",
    "    n_jobs=-1, verbose=0, fit_params=None,\n",
    "    return_train_score=True, return_estimator=False)\n",
    "\n",
    "# Obtain performance of linear regression on training set\n",
    "print(\"Mean scores for linear regression on training set:\")\n",
    "print(\"    R2 score: {}\".format(np.mean(cv_LR['test_r2'])))\n",
    "print(\"    Mean absolute error: {}\".format(np.mean(cv_LR['test_mae'])))\n",
    "print(\"    Mean squared error: {}\".format(np.mean(cv_LR['test_mse'])))"
   ]
  },
  {
   "cell_type": "code",
   "execution_count": 17,
   "metadata": {},
   "outputs": [
    {
     "name": "stdout",
     "output_type": "stream",
     "text": [
      "Mean scores for linear regression with 95% confidence intervals:\n",
      "    R2 score: 0.70 [0.64, 0.75]\n",
      "    Mean absolute error: 0.42 [0.39, 0.45]\n",
      "    Mean squared error: 0.29 [0.25, 0.34]\n"
     ]
    }
   ],
   "source": [
    "LR_regr = LinearRegression().fit(X_train, y_train)\n",
    "\n",
    "r2_LR = []\n",
    "mae_LR = []\n",
    "mse_LR = []\n",
    "\n",
    "for i in range(100):\n",
    "    X_test_resampled, y_test_resampled = resample(X_test, y_test, replace=True, n_samples=len(y_test), random_state=0+i)\n",
    "    y_pred = LR_regr.predict(X_test_resampled)\n",
    "    r2_LR.append(r2_score(y_test_resampled, y_pred))\n",
    "    mae_LR.append(mean_absolute_error(y_test_resampled, y_pred))\n",
    "    mse_LR.append(mean_squared_error(y_test_resampled, y_pred))\n",
    "\n",
    "print(\"Mean scores for linear regression with 95% confidence intervals:\")\n",
    "print(\"    R2 score: {:.2f} [{:.2f}, {:.2f}]\".format(np.mean(r2_LR), np.percentile(r2_LR, 2.5), np.percentile(r2_LR, 97.5)))\n",
    "print(\"    Mean absolute error: {:.2f} [{:.2f}, {:.2f}]\".format(np.mean(mae_LR), np.percentile(mae_LR, 2.5), np.percentile(mae_LR, 97.5)))\n",
    "print(\"    Mean squared error: {:.2f} [{:.2f}, {:.2f}]\".format(np.mean(mse_LR), np.percentile(mse_LR, 2.5), np.percentile(mse_LR, 97.5)))"
   ]
  },
  {
   "attachments": {},
   "cell_type": "markdown",
   "metadata": {},
   "source": [
    "##### 4.2.3. Random forest regressor"
   ]
  },
  {
   "cell_type": "code",
   "execution_count": 18,
   "metadata": {},
   "outputs": [
    {
     "name": "stderr",
     "output_type": "stream",
     "text": [
      "/Users/margaritasison/opt/anaconda3/lib/python3.9/site-packages/joblib/externals/loky/process_executor.py:702: UserWarning: A worker stopped while some jobs were given to the executor. This can be caused by a too short worker timeout or by a memory leak.\n",
      "  warnings.warn(\n"
     ]
    },
    {
     "data": {
      "text/html": [
       "<style>#sk-container-id-1 {color: black;background-color: white;}#sk-container-id-1 pre{padding: 0;}#sk-container-id-1 div.sk-toggleable {background-color: white;}#sk-container-id-1 label.sk-toggleable__label {cursor: pointer;display: block;width: 100%;margin-bottom: 0;padding: 0.3em;box-sizing: border-box;text-align: center;}#sk-container-id-1 label.sk-toggleable__label-arrow:before {content: \"▸\";float: left;margin-right: 0.25em;color: #696969;}#sk-container-id-1 label.sk-toggleable__label-arrow:hover:before {color: black;}#sk-container-id-1 div.sk-estimator:hover label.sk-toggleable__label-arrow:before {color: black;}#sk-container-id-1 div.sk-toggleable__content {max-height: 0;max-width: 0;overflow: hidden;text-align: left;background-color: #f0f8ff;}#sk-container-id-1 div.sk-toggleable__content pre {margin: 0.2em;color: black;border-radius: 0.25em;background-color: #f0f8ff;}#sk-container-id-1 input.sk-toggleable__control:checked~div.sk-toggleable__content {max-height: 200px;max-width: 100%;overflow: auto;}#sk-container-id-1 input.sk-toggleable__control:checked~label.sk-toggleable__label-arrow:before {content: \"▾\";}#sk-container-id-1 div.sk-estimator input.sk-toggleable__control:checked~label.sk-toggleable__label {background-color: #d4ebff;}#sk-container-id-1 div.sk-label input.sk-toggleable__control:checked~label.sk-toggleable__label {background-color: #d4ebff;}#sk-container-id-1 input.sk-hidden--visually {border: 0;clip: rect(1px 1px 1px 1px);clip: rect(1px, 1px, 1px, 1px);height: 1px;margin: -1px;overflow: hidden;padding: 0;position: absolute;width: 1px;}#sk-container-id-1 div.sk-estimator {font-family: monospace;background-color: #f0f8ff;border: 1px dotted black;border-radius: 0.25em;box-sizing: border-box;margin-bottom: 0.5em;}#sk-container-id-1 div.sk-estimator:hover {background-color: #d4ebff;}#sk-container-id-1 div.sk-parallel-item::after {content: \"\";width: 100%;border-bottom: 1px solid gray;flex-grow: 1;}#sk-container-id-1 div.sk-label:hover label.sk-toggleable__label {background-color: #d4ebff;}#sk-container-id-1 div.sk-serial::before {content: \"\";position: absolute;border-left: 1px solid gray;box-sizing: border-box;top: 0;bottom: 0;left: 50%;z-index: 0;}#sk-container-id-1 div.sk-serial {display: flex;flex-direction: column;align-items: center;background-color: white;padding-right: 0.2em;padding-left: 0.2em;position: relative;}#sk-container-id-1 div.sk-item {position: relative;z-index: 1;}#sk-container-id-1 div.sk-parallel {display: flex;align-items: stretch;justify-content: center;background-color: white;position: relative;}#sk-container-id-1 div.sk-item::before, #sk-container-id-1 div.sk-parallel-item::before {content: \"\";position: absolute;border-left: 1px solid gray;box-sizing: border-box;top: 0;bottom: 0;left: 50%;z-index: -1;}#sk-container-id-1 div.sk-parallel-item {display: flex;flex-direction: column;z-index: 1;position: relative;background-color: white;}#sk-container-id-1 div.sk-parallel-item:first-child::after {align-self: flex-end;width: 50%;}#sk-container-id-1 div.sk-parallel-item:last-child::after {align-self: flex-start;width: 50%;}#sk-container-id-1 div.sk-parallel-item:only-child::after {width: 0;}#sk-container-id-1 div.sk-dashed-wrapped {border: 1px dashed gray;margin: 0 0.4em 0.5em 0.4em;box-sizing: border-box;padding-bottom: 0.4em;background-color: white;}#sk-container-id-1 div.sk-label label {font-family: monospace;font-weight: bold;display: inline-block;line-height: 1.2em;}#sk-container-id-1 div.sk-label-container {text-align: center;}#sk-container-id-1 div.sk-container {/* jupyter's `normalize.less` sets `[hidden] { display: none; }` but bootstrap.min.css set `[hidden] { display: none !important; }` so we also need the `!important` here to be able to override the default hidden behavior on the sphinx rendered scikit-learn.org. See: https://github.com/scikit-learn/scikit-learn/issues/21755 */display: inline-block !important;position: relative;}#sk-container-id-1 div.sk-text-repr-fallback {display: none;}</style><div id=\"sk-container-id-1\" class=\"sk-top-container\"><div class=\"sk-text-repr-fallback\"><pre>GridSearchCV(cv=KFold(n_splits=10, random_state=0, shuffle=True),\n",
       "             estimator=RandomForestRegressor(random_state=0), n_jobs=-1,\n",
       "             param_grid={&#x27;n_estimators&#x27;: [100, 500, 1000, 5000, 10000]},\n",
       "             return_train_score=True, scoring=&#x27;r2&#x27;)</pre><b>In a Jupyter environment, please rerun this cell to show the HTML representation or trust the notebook. <br />On GitHub, the HTML representation is unable to render, please try loading this page with nbviewer.org.</b></div><div class=\"sk-container\" hidden><div class=\"sk-item sk-dashed-wrapped\"><div class=\"sk-label-container\"><div class=\"sk-label sk-toggleable\"><input class=\"sk-toggleable__control sk-hidden--visually\" id=\"sk-estimator-id-1\" type=\"checkbox\" ><label for=\"sk-estimator-id-1\" class=\"sk-toggleable__label sk-toggleable__label-arrow\">GridSearchCV</label><div class=\"sk-toggleable__content\"><pre>GridSearchCV(cv=KFold(n_splits=10, random_state=0, shuffle=True),\n",
       "             estimator=RandomForestRegressor(random_state=0), n_jobs=-1,\n",
       "             param_grid={&#x27;n_estimators&#x27;: [100, 500, 1000, 5000, 10000]},\n",
       "             return_train_score=True, scoring=&#x27;r2&#x27;)</pre></div></div></div><div class=\"sk-parallel\"><div class=\"sk-parallel-item\"><div class=\"sk-item\"><div class=\"sk-label-container\"><div class=\"sk-label sk-toggleable\"><input class=\"sk-toggleable__control sk-hidden--visually\" id=\"sk-estimator-id-2\" type=\"checkbox\" ><label for=\"sk-estimator-id-2\" class=\"sk-toggleable__label sk-toggleable__label-arrow\">estimator: RandomForestRegressor</label><div class=\"sk-toggleable__content\"><pre>RandomForestRegressor(random_state=0)</pre></div></div></div><div class=\"sk-serial\"><div class=\"sk-item\"><div class=\"sk-estimator sk-toggleable\"><input class=\"sk-toggleable__control sk-hidden--visually\" id=\"sk-estimator-id-3\" type=\"checkbox\" ><label for=\"sk-estimator-id-3\" class=\"sk-toggleable__label sk-toggleable__label-arrow\">RandomForestRegressor</label><div class=\"sk-toggleable__content\"><pre>RandomForestRegressor(random_state=0)</pre></div></div></div></div></div></div></div></div></div></div>"
      ],
      "text/plain": [
       "GridSearchCV(cv=KFold(n_splits=10, random_state=0, shuffle=True),\n",
       "             estimator=RandomForestRegressor(random_state=0), n_jobs=-1,\n",
       "             param_grid={'n_estimators': [100, 500, 1000, 5000, 10000]},\n",
       "             return_train_score=True, scoring='r2')"
      ]
     },
     "execution_count": 18,
     "metadata": {},
     "output_type": "execute_result"
    }
   ],
   "source": [
    "### RANDOM FOREST REGRESSOR\n",
    "# GRID SEARCH WITH 10-FOLD CROSS-VALIDATION\n",
    "from sklearn.ensemble import RandomForestRegressor\n",
    "from sklearn.model_selection import GridSearchCV\n",
    "\n",
    "p_grid_RF = {'n_estimators': [100, 500, 1000, 5000, 10000]}\n",
    "\n",
    "gs_RF = GridSearchCV(\n",
    "    estimator=RandomForestRegressor(random_state=0),\n",
    "    param_grid=p_grid_RF,\n",
    "    scoring='r2',\n",
    "    n_jobs=-1,\n",
    "    refit=True,\n",
    "    cv=KFold(n_splits=10, shuffle=True, random_state=0),\n",
    "    return_train_score=True)\n",
    "\n",
    "gs_RF.fit(X_train, np.ravel(y_train))"
   ]
  },
  {
   "cell_type": "code",
   "execution_count": 19,
   "metadata": {},
   "outputs": [
    {
     "name": "stdout",
     "output_type": "stream",
     "text": [
      "Best R2 score (mean cross-validated score of best estimator): 0.6080071776667054\n",
      "Best parameters for random forest regressor: {'n_estimators': 10000}\n",
      "\n",
      "Performance of random forest regressor on training set:\n",
      "    R2 score: 0.9435350730312917\n",
      "    Mean absolute error: 0.1819852869650237\n",
      "    Mean squared error: 0.0630595094123516\n"
     ]
    }
   ],
   "source": [
    "# print(gs_RF.cv_results_)\n",
    "print(\"Best R2 score (mean cross-validated score of best estimator): {}\". format(gs_RF.best_score_))\n",
    "print(\"Best parameters for random forest regressor: {}\".format(gs_RF.best_params_)) # Parameter setting that gave the best results on the hold out data.\n",
    "\n",
    "# Obtain performance of random forest regressor on training set\n",
    "RF_regr = gs_RF.best_estimator_.fit(X_train, np.ravel(y_train)) # also performed by 'GridSearchCV(refit=True)'\n",
    "y_pred = RF_regr.predict(X_train)\n",
    "\n",
    "print(\"\\nPerformance of random forest regressor on training set:\")\n",
    "print(\"    R2 score: {}\".format(r2_score(y_train, y_pred)))\n",
    "print(\"    Mean absolute error: {}\".format(mean_absolute_error(y_train, y_pred)))\n",
    "print(\"    Mean squared error: {}\".format(mean_squared_error(y_train, y_pred)))"
   ]
  },
  {
   "cell_type": "code",
   "execution_count": 20,
   "metadata": {},
   "outputs": [
    {
     "name": "stdout",
     "output_type": "stream",
     "text": [
      "Mean scores for random forest regressor with 95% confidence intervals:\n",
      "    R2 score: 0.64 [0.58, 0.70]\n",
      "    Mean absolute error: 0.46 [0.43, 0.49]\n",
      "    Mean squared error: 0.35 [0.30, 0.41]\n"
     ]
    }
   ],
   "source": [
    "# print(gs_RF.best_estimator_.score(X_test, y_test))\n",
    "\n",
    "r2_RF = []\n",
    "mae_RF = []\n",
    "mse_RF = []\n",
    "\n",
    "for i in range(100):\n",
    "    X_test_resampled, y_test_resampled = resample(X_test, y_test, replace=True, n_samples=len(y_test), random_state=0+i)\n",
    "    y_pred = RF_regr.predict(X_test_resampled)\n",
    "    r2_RF.append(r2_score(y_test_resampled, y_pred))\n",
    "    mae_RF.append(mean_absolute_error(y_test_resampled, y_pred))\n",
    "    mse_RF.append(mean_squared_error(y_test_resampled, y_pred))\n",
    "\n",
    "print(\"Mean scores for random forest regressor with 95% confidence intervals:\")\n",
    "print(\"    R2 score: {:.2f} [{:.2f}, {:.2f}]\".format(np.mean(r2_RF), np.percentile(r2_RF, 2.5), np.percentile(r2_RF, 97.5)))\n",
    "print(\"    Mean absolute error: {:.2f} [{:.2f}, {:.2f}]\".format(np.mean(mae_RF), np.percentile(mae_RF, 2.5), np.percentile(mae_RF, 97.5)))\n",
    "print(\"    Mean squared error: {:.2f} [{:.2f}, {:.2f}]\".format(np.mean(mse_RF), np.percentile(mse_RF, 2.5), np.percentile(mse_RF, 97.5)))"
   ]
  },
  {
   "attachments": {},
   "cell_type": "markdown",
   "metadata": {},
   "source": [
    "##### 4.2.4. SVM Regressor"
   ]
  },
  {
   "cell_type": "code",
   "execution_count": 21,
   "metadata": {},
   "outputs": [
    {
     "data": {
      "text/html": [
       "<style>#sk-container-id-2 {color: black;background-color: white;}#sk-container-id-2 pre{padding: 0;}#sk-container-id-2 div.sk-toggleable {background-color: white;}#sk-container-id-2 label.sk-toggleable__label {cursor: pointer;display: block;width: 100%;margin-bottom: 0;padding: 0.3em;box-sizing: border-box;text-align: center;}#sk-container-id-2 label.sk-toggleable__label-arrow:before {content: \"▸\";float: left;margin-right: 0.25em;color: #696969;}#sk-container-id-2 label.sk-toggleable__label-arrow:hover:before {color: black;}#sk-container-id-2 div.sk-estimator:hover label.sk-toggleable__label-arrow:before {color: black;}#sk-container-id-2 div.sk-toggleable__content {max-height: 0;max-width: 0;overflow: hidden;text-align: left;background-color: #f0f8ff;}#sk-container-id-2 div.sk-toggleable__content pre {margin: 0.2em;color: black;border-radius: 0.25em;background-color: #f0f8ff;}#sk-container-id-2 input.sk-toggleable__control:checked~div.sk-toggleable__content {max-height: 200px;max-width: 100%;overflow: auto;}#sk-container-id-2 input.sk-toggleable__control:checked~label.sk-toggleable__label-arrow:before {content: \"▾\";}#sk-container-id-2 div.sk-estimator input.sk-toggleable__control:checked~label.sk-toggleable__label {background-color: #d4ebff;}#sk-container-id-2 div.sk-label input.sk-toggleable__control:checked~label.sk-toggleable__label {background-color: #d4ebff;}#sk-container-id-2 input.sk-hidden--visually {border: 0;clip: rect(1px 1px 1px 1px);clip: rect(1px, 1px, 1px, 1px);height: 1px;margin: -1px;overflow: hidden;padding: 0;position: absolute;width: 1px;}#sk-container-id-2 div.sk-estimator {font-family: monospace;background-color: #f0f8ff;border: 1px dotted black;border-radius: 0.25em;box-sizing: border-box;margin-bottom: 0.5em;}#sk-container-id-2 div.sk-estimator:hover {background-color: #d4ebff;}#sk-container-id-2 div.sk-parallel-item::after {content: \"\";width: 100%;border-bottom: 1px solid gray;flex-grow: 1;}#sk-container-id-2 div.sk-label:hover label.sk-toggleable__label {background-color: #d4ebff;}#sk-container-id-2 div.sk-serial::before {content: \"\";position: absolute;border-left: 1px solid gray;box-sizing: border-box;top: 0;bottom: 0;left: 50%;z-index: 0;}#sk-container-id-2 div.sk-serial {display: flex;flex-direction: column;align-items: center;background-color: white;padding-right: 0.2em;padding-left: 0.2em;position: relative;}#sk-container-id-2 div.sk-item {position: relative;z-index: 1;}#sk-container-id-2 div.sk-parallel {display: flex;align-items: stretch;justify-content: center;background-color: white;position: relative;}#sk-container-id-2 div.sk-item::before, #sk-container-id-2 div.sk-parallel-item::before {content: \"\";position: absolute;border-left: 1px solid gray;box-sizing: border-box;top: 0;bottom: 0;left: 50%;z-index: -1;}#sk-container-id-2 div.sk-parallel-item {display: flex;flex-direction: column;z-index: 1;position: relative;background-color: white;}#sk-container-id-2 div.sk-parallel-item:first-child::after {align-self: flex-end;width: 50%;}#sk-container-id-2 div.sk-parallel-item:last-child::after {align-self: flex-start;width: 50%;}#sk-container-id-2 div.sk-parallel-item:only-child::after {width: 0;}#sk-container-id-2 div.sk-dashed-wrapped {border: 1px dashed gray;margin: 0 0.4em 0.5em 0.4em;box-sizing: border-box;padding-bottom: 0.4em;background-color: white;}#sk-container-id-2 div.sk-label label {font-family: monospace;font-weight: bold;display: inline-block;line-height: 1.2em;}#sk-container-id-2 div.sk-label-container {text-align: center;}#sk-container-id-2 div.sk-container {/* jupyter's `normalize.less` sets `[hidden] { display: none; }` but bootstrap.min.css set `[hidden] { display: none !important; }` so we also need the `!important` here to be able to override the default hidden behavior on the sphinx rendered scikit-learn.org. See: https://github.com/scikit-learn/scikit-learn/issues/21755 */display: inline-block !important;position: relative;}#sk-container-id-2 div.sk-text-repr-fallback {display: none;}</style><div id=\"sk-container-id-2\" class=\"sk-top-container\"><div class=\"sk-text-repr-fallback\"><pre>GridSearchCV(cv=KFold(n_splits=10, random_state=0, shuffle=True),\n",
       "             estimator=SVR(), n_jobs=-1,\n",
       "             param_grid=[{&#x27;C&#x27;: [0.01, 0.1, 1, 10, 100, 500, 1000],\n",
       "                          &#x27;epsilon&#x27;: [0.001, 0.01, 0.1, 1],\n",
       "                          &#x27;gamma&#x27;: [1e-05, 0.0001, 0.001, 0.01, 0.1, 1, 10],\n",
       "                          &#x27;kernel&#x27;: [&#x27;rbf&#x27;]},\n",
       "                         {&#x27;C&#x27;: [0.01, 0.1, 1, 10, 100, 500, 1000],\n",
       "                          &#x27;epsilon&#x27;: [0.001, 0.01, 0.1, 1],\n",
       "                          &#x27;kernel&#x27;: [&#x27;linear&#x27;]}],\n",
       "             return_train_score=True, scoring=&#x27;r2&#x27;)</pre><b>In a Jupyter environment, please rerun this cell to show the HTML representation or trust the notebook. <br />On GitHub, the HTML representation is unable to render, please try loading this page with nbviewer.org.</b></div><div class=\"sk-container\" hidden><div class=\"sk-item sk-dashed-wrapped\"><div class=\"sk-label-container\"><div class=\"sk-label sk-toggleable\"><input class=\"sk-toggleable__control sk-hidden--visually\" id=\"sk-estimator-id-4\" type=\"checkbox\" ><label for=\"sk-estimator-id-4\" class=\"sk-toggleable__label sk-toggleable__label-arrow\">GridSearchCV</label><div class=\"sk-toggleable__content\"><pre>GridSearchCV(cv=KFold(n_splits=10, random_state=0, shuffle=True),\n",
       "             estimator=SVR(), n_jobs=-1,\n",
       "             param_grid=[{&#x27;C&#x27;: [0.01, 0.1, 1, 10, 100, 500, 1000],\n",
       "                          &#x27;epsilon&#x27;: [0.001, 0.01, 0.1, 1],\n",
       "                          &#x27;gamma&#x27;: [1e-05, 0.0001, 0.001, 0.01, 0.1, 1, 10],\n",
       "                          &#x27;kernel&#x27;: [&#x27;rbf&#x27;]},\n",
       "                         {&#x27;C&#x27;: [0.01, 0.1, 1, 10, 100, 500, 1000],\n",
       "                          &#x27;epsilon&#x27;: [0.001, 0.01, 0.1, 1],\n",
       "                          &#x27;kernel&#x27;: [&#x27;linear&#x27;]}],\n",
       "             return_train_score=True, scoring=&#x27;r2&#x27;)</pre></div></div></div><div class=\"sk-parallel\"><div class=\"sk-parallel-item\"><div class=\"sk-item\"><div class=\"sk-label-container\"><div class=\"sk-label sk-toggleable\"><input class=\"sk-toggleable__control sk-hidden--visually\" id=\"sk-estimator-id-5\" type=\"checkbox\" ><label for=\"sk-estimator-id-5\" class=\"sk-toggleable__label sk-toggleable__label-arrow\">estimator: SVR</label><div class=\"sk-toggleable__content\"><pre>SVR()</pre></div></div></div><div class=\"sk-serial\"><div class=\"sk-item\"><div class=\"sk-estimator sk-toggleable\"><input class=\"sk-toggleable__control sk-hidden--visually\" id=\"sk-estimator-id-6\" type=\"checkbox\" ><label for=\"sk-estimator-id-6\" class=\"sk-toggleable__label sk-toggleable__label-arrow\">SVR</label><div class=\"sk-toggleable__content\"><pre>SVR()</pre></div></div></div></div></div></div></div></div></div></div>"
      ],
      "text/plain": [
       "GridSearchCV(cv=KFold(n_splits=10, random_state=0, shuffle=True),\n",
       "             estimator=SVR(), n_jobs=-1,\n",
       "             param_grid=[{'C': [0.01, 0.1, 1, 10, 100, 500, 1000],\n",
       "                          'epsilon': [0.001, 0.01, 0.1, 1],\n",
       "                          'gamma': [1e-05, 0.0001, 0.001, 0.01, 0.1, 1, 10],\n",
       "                          'kernel': ['rbf']},\n",
       "                         {'C': [0.01, 0.1, 1, 10, 100, 500, 1000],\n",
       "                          'epsilon': [0.001, 0.01, 0.1, 1],\n",
       "                          'kernel': ['linear']}],\n",
       "             return_train_score=True, scoring='r2')"
      ]
     },
     "execution_count": 21,
     "metadata": {},
     "output_type": "execute_result"
    }
   ],
   "source": [
    "### SVM REGRESSOR\n",
    "# GRID SEARCH WITH 10-FOLD CROSS-VALIDATION\n",
    "from sklearn.svm import SVR\n",
    "\n",
    "p_grid_SVR = [\n",
    "    {'C': [0.01, 0.1, 1, 10, 100, 500, 1000], # np.logspace(-2, 10, 13)\n",
    "    'epsilon': [0.001, 0.01, 0.1, 1],\n",
    "    'kernel': ['rbf'],\n",
    "    'gamma': [0.00001, 0.0001, 0.001, 0.01, 0.1, 1, 10]}, # np.logspace(-9, 3, 13)\n",
    "    {'C': [0.01, 0.1, 1, 10, 100, 500, 1000], # np.logspace(-2, 10, 13)\n",
    "    'epsilon': [0.001, 0.01, 0.1, 1],\n",
    "    'kernel': ['linear']}]\n",
    "\n",
    "gs_SVR = GridSearchCV(\n",
    "    estimator=SVR(),\n",
    "    param_grid=p_grid_SVR,\n",
    "    scoring='r2',\n",
    "    n_jobs=-1,\n",
    "    refit=True,\n",
    "    cv=KFold(n_splits=10, shuffle=True, random_state=0),\n",
    "    return_train_score=True)\n",
    "\n",
    "gs_SVR.fit(X_train, np.ravel(y_train))"
   ]
  },
  {
   "cell_type": "code",
   "execution_count": 22,
   "metadata": {},
   "outputs": [
    {
     "name": "stdout",
     "output_type": "stream",
     "text": [
      "Best R2 score (mean cross-validated score of best estimator): 0.6777902181098737\n",
      "Best parameters for SVM regressor: {'C': 100, 'epsilon': 0.1, 'gamma': 0.01, 'kernel': 'rbf'}\n",
      "\n",
      "Performance of SVM regressor on training set:\n",
      "    R2 score: 0.7060266245502693\n",
      "    Mean absolute error: 0.41351270595607637\n",
      "    Mean squared error: 0.32830675308278207\n"
     ]
    }
   ],
   "source": [
    "# print(gs_SVR.cv_results_)\n",
    "print(\"Best R2 score (mean cross-validated score of best estimator): {}\". format(gs_SVR.best_score_))\n",
    "print(\"Best parameters for SVM regressor: {}\".format(gs_SVR.best_params_)) # Parameter setting that gave the best results on the hold out data.\n",
    "\n",
    "# Obtain performance of SVM regressor on training set\n",
    "SVM_regr = gs_SVR.best_estimator_.fit(X_train, np.ravel(y_train)) # also performed by 'GridSearchCV(refit=True)'\n",
    "y_pred = SVM_regr.predict(X_train)\n",
    "\n",
    "print(\"\\nPerformance of SVM regressor on training set:\")\n",
    "print(\"    R2 score: {}\".format(r2_score(y_train, y_pred)))\n",
    "print(\"    Mean absolute error: {}\".format(mean_absolute_error(y_train, y_pred)))\n",
    "print(\"    Mean squared error: {}\".format(mean_squared_error(y_train, y_pred)))"
   ]
  },
  {
   "cell_type": "code",
   "execution_count": 23,
   "metadata": {},
   "outputs": [
    {
     "name": "stdout",
     "output_type": "stream",
     "text": [
      "Mean scores for SVM regressor with 95% confidence intervals:\n",
      "    R2 score: 0.69 [0.63, 0.74]\n",
      "    Mean absolute error: 0.42 [0.39, 0.45]\n",
      "    Mean squared error: 0.30 [0.25, 0.35]\n"
     ]
    }
   ],
   "source": [
    "# print(gs_SVR.best_estimator_.score(X_test, y_test))\n",
    "\n",
    "r2_SVR = []\n",
    "mae_SVR = []\n",
    "mse_SVR = []\n",
    "\n",
    "for i in range(100):\n",
    "    X_test_resampled, y_test_resampled = resample(X_test, y_test, replace=True, n_samples=len(y_test), random_state=0+i)\n",
    "    y_pred = SVM_regr.predict(X_test_resampled)\n",
    "    r2_SVR.append(r2_score(y_test_resampled, y_pred))\n",
    "    mae_SVR.append(mean_absolute_error(y_test_resampled, y_pred))\n",
    "    mse_SVR.append(mean_squared_error(y_test_resampled, y_pred))\n",
    "\n",
    "print(\"Mean scores for SVM regressor with 95% confidence intervals:\")\n",
    "print(\"    R2 score: {:.2f} [{:.2f}, {:.2f}]\".format(np.mean(r2_SVR), np.percentile(r2_SVR, 2.5), np.percentile(r2_SVR, 97.5)))\n",
    "print(\"    Mean absolute error: {:.2f} [{:.2f}, {:.2f}]\".format(np.mean(mae_SVR), np.percentile(mae_SVR, 2.5), np.percentile(mae_SVR, 97.5)))\n",
    "print(\"    Mean squared error: {:.2f} [{:.2f}, {:.2f}]\".format(np.mean(mse_SVR), np.percentile(mse_SVR, 2.5), np.percentile(mse_SVR, 97.5)))"
   ]
  },
  {
   "attachments": {},
   "cell_type": "markdown",
   "metadata": {},
   "source": [
    "### 4.3. Feature importance: univariate versus multivariate scores"
   ]
  },
  {
   "cell_type": "code",
   "execution_count": 24,
   "metadata": {},
   "outputs": [],
   "source": [
    "# Load 'dataset.xlsx' file again as pandas DataFrame\n",
    "data = pd.read_excel('/Users/margaritasison/Downloads/M3.5 Lab Rotation 3/dataset.xlsx', sheet_name=0, header=0)"
   ]
  },
  {
   "attachments": {},
   "cell_type": "markdown",
   "metadata": {},
   "source": [
    "##### Preprocessing"
   ]
  },
  {
   "cell_type": "code",
   "execution_count": 25,
   "metadata": {},
   "outputs": [],
   "source": [
    "# Assign the target 'BDEPRESSION' and each feature to separate variables\n",
    "ADEPRESSION = data[['BDEPRESSION', 'ADEPRESSION']]\n",
    "AANXIETY = data[['BDEPRESSION', 'AANXIETY']]\n",
    "quarantinesubperiod = data[['BDEPRESSION', 'quarantinesubperiod']]\n",
    "sex = data[['BDEPRESSION', 'sex']]\n",
    "age = data[['BDEPRESSION', 'age']]\n",
    "mentdishist = data[['BDEPRESSION', 'mentdishist']]\n",
    "suic = data[['BDEPRESSION', 'suic']]"
   ]
  },
  {
   "cell_type": "code",
   "execution_count": 26,
   "metadata": {},
   "outputs": [
    {
     "name": "stdout",
     "output_type": "stream",
     "text": [
      "'quarantinesubperiod' columns:\n",
      "['BDEPRESSION', 'quarantinesubperiod_quar first', 'quarantinesubperiod_quar second', 'quarantinesubperiod_quar third']\n",
      "\n",
      "'sex' columns:\n",
      "['BDEPRESSION', 'sex_man', 'sex_woman']\n",
      "\n",
      "'mentdishist' columns:\n",
      "['BDEPRESSION', 'mentdishist_no', 'mentdishist_yes']\n",
      "\n",
      "'suic' columns:\n",
      "['BDEPRESSION', 'suic_no', 'suic_yes']\n"
     ]
    }
   ],
   "source": [
    "# Convert categorical features into dummy variables\n",
    "quarantinesubperiod = pd.get_dummies(quarantinesubperiod, columns=['quarantinesubperiod'])\n",
    "sex = pd.get_dummies(sex, columns=['sex'])\n",
    "mentdishist = pd.get_dummies(mentdishist, columns=['mentdishist'])\n",
    "suic = pd.get_dummies(suic, columns=['suic'])\n",
    "\n",
    "# Run the following lines to check if the conversion was executed correctly:\n",
    "print(\"'quarantinesubperiod' columns:\\n{}\".format(list(quarantinesubperiod.columns)))\n",
    "print(\"\\n'sex' columns:\\n{}\".format(list(sex.columns)))\n",
    "print(\"\\n'mentdishist' columns:\\n{}\".format(list(mentdishist.columns)))\n",
    "print(\"\\n'suic' columns:\\n{}\".format(list(suic.columns)))"
   ]
  },
  {
   "cell_type": "code",
   "execution_count": 27,
   "metadata": {},
   "outputs": [],
   "source": [
    "# Convert DataFrames into NumPy arrays to make them compatible with scikit-learn functions\n",
    "ADEPRESSION = np.array(ADEPRESSION)\n",
    "AANXIETY = np.array(AANXIETY)\n",
    "quarantinesubperiod = np.array(quarantinesubperiod)\n",
    "sex = np.array(sex)\n",
    "age = np.array(age)\n",
    "mentdishist = np.array(mentdishist)\n",
    "suic = np.array(suic)\n"
   ]
  },
  {
   "cell_type": "code",
   "execution_count": 28,
   "metadata": {},
   "outputs": [
    {
     "name": "stdout",
     "output_type": "stream",
     "text": [
      "Shown below are the first five rows of each variable and their corresponding shape.\n",
      "\n",
      "'ADEP_X':\n",
      " [[13]\n",
      " [16]\n",
      " [ 5]\n",
      " [28]\n",
      " [17]] (1492, 1)\n",
      "\n",
      "'ADEP_y':\n",
      " [[ 1]\n",
      " [11]\n",
      " [11]\n",
      " [24]\n",
      " [17]] (1492, 1)\n",
      "\n",
      "'AANX_X':\n",
      " [[33]\n",
      " [21]\n",
      " [20]\n",
      " [41]\n",
      " [37]] (1492, 1)\n",
      "\n",
      "'AANX_y':\n",
      " [[ 1]\n",
      " [11]\n",
      " [11]\n",
      " [24]\n",
      " [17]] (1492, 1)\n",
      "\n",
      "'quar_X':\n",
      " [[1 0 0]\n",
      " [1 0 0]\n",
      " [1 0 0]\n",
      " [1 0 0]\n",
      " [1 0 0]] (1492, 3)\n",
      "\n",
      "'quar_y':\n",
      " [[ 1]\n",
      " [11]\n",
      " [11]\n",
      " [24]\n",
      " [17]] (1492, 1)\n",
      "\n",
      "'sex_X':\n",
      " [[0 1]\n",
      " [0 1]\n",
      " [0 1]\n",
      " [0 1]\n",
      " [0 1]] (1492, 2)\n",
      "\n",
      "'sex_y':\n",
      " [[ 1]\n",
      " [11]\n",
      " [11]\n",
      " [24]\n",
      " [17]] (1492, 1)\n",
      "\n",
      "'age_X':\n",
      " [[22]\n",
      " [24]\n",
      " [30]\n",
      " [22]\n",
      " [25]] (1492, 1)\n",
      "\n",
      "'age_y':\n",
      " [[ 1]\n",
      " [11]\n",
      " [11]\n",
      " [24]\n",
      " [17]] (1492, 1)\n",
      "\n",
      "'ment_X':\n",
      " [[1 0]\n",
      " [1 0]\n",
      " [1 0]\n",
      " [0 1]\n",
      " [1 0]] (1492, 2)\n",
      "\n",
      "'ment_y':\n",
      " [[ 1]\n",
      " [11]\n",
      " [11]\n",
      " [24]\n",
      " [17]] (1492, 1)\n",
      "\n",
      "'suic_X':\n",
      " [[1 0]\n",
      " [0 1]\n",
      " [0 1]\n",
      " [0 1]\n",
      " [0 1]] (1492, 2)\n",
      "\n",
      "'suic_y':\n",
      " [[ 1]\n",
      " [11]\n",
      " [11]\n",
      " [24]\n",
      " [17]] (1492, 1)\n"
     ]
    }
   ],
   "source": [
    "# Assign features to 'X' and target to 'y'\n",
    "print(\"Shown below are the first five rows of each variable and their corresponding shape.\")\n",
    "\n",
    "# ADEPRESSION\n",
    "ADEP_X = ADEPRESSION[:, 1:]\n",
    "ADEP_y = ADEPRESSION[:, :1]\n",
    "\n",
    "# Run the following lines to check 'ADEP_X' and 'ADEP_y':\n",
    "print(\"\\n'ADEP_X':\\n\", ADEP_X[0:5], ADEP_X.shape)\n",
    "print(\"\\n'ADEP_y':\\n\", ADEP_y[0:5], ADEP_y.shape)\n",
    "##################################################\n",
    "\n",
    "# AANXIETY\n",
    "AANX_X = AANXIETY[:, 1:]\n",
    "AANX_y = AANXIETY[:, :1]\n",
    "\n",
    "# Run the following lines to check 'AANX_X' and 'AANX_y':\n",
    "print(\"\\n'AANX_X':\\n\", AANX_X[0:5], AANX_X.shape)\n",
    "print(\"\\n'AANX_y':\\n\", AANX_y[0:5], AANX_y.shape)\n",
    "##################################################\n",
    "\n",
    "# quarantinesubperiod\n",
    "quar_X = quarantinesubperiod[:, 1:]\n",
    "quar_y = quarantinesubperiod[:, :1]\n",
    "\n",
    "# Run the following lines to check 'quar_X' and 'quar_y':\n",
    "print(\"\\n'quar_X':\\n\", quar_X[0:5], quar_X.shape)\n",
    "print(\"\\n'quar_y':\\n\", quar_y[0:5], quar_y.shape)\n",
    "##################################################\n",
    "\n",
    "# sex\n",
    "sex_X = sex[:, 1:]\n",
    "sex_y = sex[:, :1]\n",
    "\n",
    "# Run the following lines to check 'sex_X' and 'sex_y':\n",
    "print(\"\\n'sex_X':\\n\", sex_X[0:5], sex_X.shape)\n",
    "print(\"\\n'sex_y':\\n\", sex_y[0:5], sex_y.shape)\n",
    "##################################################\n",
    "\n",
    "# age\n",
    "age_X = age[:, 1:]\n",
    "age_y = age[:, :1]\n",
    "\n",
    "# Run the following lines to check 'age_X' and 'age_y':\n",
    "print(\"\\n'age_X':\\n\", age_X[0:5], age_X.shape)\n",
    "print(\"\\n'age_y':\\n\", age_y[0:5], age_y.shape)\n",
    "##################################################\n",
    "\n",
    "# mentdishist\n",
    "ment_X = mentdishist[:, 1:]\n",
    "ment_y = mentdishist[:, :1]\n",
    "\n",
    "# Run the following lines to check 'ment_X' and 'ment_y':\n",
    "print(\"\\n'ment_X':\\n\", ment_X[0:5], ment_X.shape)\n",
    "print(\"\\n'ment_y':\\n\", ment_y[0:5], ment_y.shape)\n",
    "##################################################\n",
    "\n",
    "# suic\n",
    "suic_X = suic[:, 1:]\n",
    "suic_y = suic[:, :1]\n",
    "\n",
    "# Run the following lines to check 'suic_X' and 'suic_y':\n",
    "print(\"\\n'suic_X':\\n\", suic_X[0:5], suic_X.shape)\n",
    "print(\"\\n'suic_y':\\n\", suic_y[0:5], suic_y.shape)"
   ]
  },
  {
   "cell_type": "code",
   "execution_count": 29,
   "metadata": {},
   "outputs": [
    {
     "name": "stdout",
     "output_type": "stream",
     "text": [
      "'ADEPRESSION' training set -  features: (1119, 1); target: (1119, 1)\n",
      "'ADEPRESSION' test set -  features: (373, 1); target: (373, 1)\n",
      "\n",
      "'AANXIETY' training set -  features: (1119, 1); target: (1119, 1)\n",
      "'AANXIETY' test set -  features: (373, 1); target: (373, 1)\n",
      "\n",
      "'quarantinesubperiod' training set -  features: (1119, 3); target: (1119, 1)\n",
      "'quarantinesubperiod' test set -  features: (373, 3); target: (373, 1)\n",
      "\n",
      "'sex' training set -  features: (1119, 2); target: (1119, 1)\n",
      "'sex' test set -  features: (373, 2); target: (373, 1)\n",
      "\n",
      "'age' training set -  features: (1119, 1); target: (1119, 1)\n",
      "'age' test set -  features: (373, 1); target: (373, 1)\n",
      "\n",
      "'mentdishist' training set -  features: (1119, 2); target: (1119, 1)\n",
      "'mentdishist' test set -  features: (373, 2); target: (373, 1)\n",
      "\n",
      "'suic' training set -  features: (1119, 2); target: (1119, 1)\n",
      "'suic' test set -  features: (373, 2); target: (373, 1)\n"
     ]
    }
   ],
   "source": [
    "# Split 'X' and 'y' into a training set and a test set\n",
    "\n",
    "# 'ADEPRESSION' feature\n",
    "ADEP_X_train, ADEP_X_test, ADEP_y_train, ADEP_y_test = train_test_split(\n",
    "    ADEP_X, ADEP_y,\n",
    "    random_state=0)\n",
    "\n",
    "# Run the following lines to check training and test set dimensions:\n",
    "print(\"'ADEPRESSION' training set - \", \"features: {}; target: {}\".format(ADEP_X_train.shape, ADEP_y_train.shape))\n",
    "print(\"'ADEPRESSION' test set - \", \"features: {}; target: {}\".format(ADEP_X_test.shape, ADEP_y_test.shape))\n",
    "####################################################################################################\n",
    "\n",
    "# 'AANXIETY' feature\n",
    "AANX_X_train, AANX_X_test, AANX_y_train, AANX_y_test = train_test_split(\n",
    "    AANX_X, AANX_y,\n",
    "    random_state=0)\n",
    "\n",
    "# Run the following lines to check training and test set dimensions:\n",
    "print(\"\\n'AANXIETY' training set - \", \"features: {}; target: {}\".format(AANX_X_train.shape, AANX_y_train.shape))\n",
    "print(\"'AANXIETY' test set - \", \"features: {}; target: {}\".format(AANX_X_test.shape, AANX_y_test.shape))\n",
    "####################################################################################################\n",
    "\n",
    "# 'quarantinesubperiod' feature\n",
    "quar_X_train, quar_X_test, quar_y_train, quar_y_test = train_test_split(\n",
    "    quar_X, quar_y,\n",
    "    random_state=0)\n",
    "\n",
    "# Run the following lines to check training and test set dimensions:\n",
    "print(\"\\n'quarantinesubperiod' training set - \", \"features: {}; target: {}\".format(quar_X_train.shape, quar_y_train.shape))\n",
    "print(\"'quarantinesubperiod' test set - \", \"features: {}; target: {}\".format(quar_X_test.shape, quar_y_test.shape))\n",
    "####################################################################################################\n",
    "\n",
    "# 'sex' feature\n",
    "sex_X_train, sex_X_test, sex_y_train, sex_y_test = train_test_split(\n",
    "    sex_X, sex_y,\n",
    "    random_state=0)\n",
    "\n",
    "# Run the following lines to check training and test set dimensions:\n",
    "print(\"\\n'sex' training set - \", \"features: {}; target: {}\".format(sex_X_train.shape, sex_y_train.shape))\n",
    "print(\"'sex' test set - \", \"features: {}; target: {}\".format(sex_X_test.shape, sex_y_test.shape))\n",
    "####################################################################################################\n",
    "\n",
    "# 'age' feature\n",
    "age_X_train, age_X_test, age_y_train, age_y_test = train_test_split(\n",
    "    age_X, age_y,\n",
    "    random_state=0)\n",
    "\n",
    "# Run the following lines to check training and test set dimensions:\n",
    "print(\"\\n'age' training set - \", \"features: {}; target: {}\".format(age_X_train.shape, age_y_train.shape))\n",
    "print(\"'age' test set - \", \"features: {}; target: {}\".format(age_X_test.shape, age_y_test.shape))\n",
    "####################################################################################################\n",
    "\n",
    "# 'mentdishist' feature\n",
    "ment_X_train, ment_X_test, ment_y_train, ment_y_test = train_test_split(\n",
    "    ment_X, ment_y,\n",
    "    random_state=0)\n",
    "\n",
    "# Run the following lines to check training and test set dimensions:\n",
    "print(\"\\n'mentdishist' training set - \", \"features: {}; target: {}\".format(ment_X_train.shape, ment_y_train.shape))\n",
    "print(\"'mentdishist' test set - \", \"features: {}; target: {}\".format(ment_X_test.shape, ment_y_test.shape))\n",
    "####################################################################################################\n",
    "\n",
    "# 'suic' feature\n",
    "suic_X_train, suic_X_test, suic_y_train, suic_y_test = train_test_split(\n",
    "    suic_X, suic_y,\n",
    "    random_state=0)\n",
    "\n",
    "# Run the following lines to check training and test set dimensions:\n",
    "print(\"\\n'suic' training set - \", \"features: {}; target: {}\".format(suic_X_train.shape, suic_y_train.shape))\n",
    "print(\"'suic' test set - \", \"features: {}; target: {}\".format(suic_X_test.shape, suic_y_test.shape))"
   ]
  },
  {
   "cell_type": "code",
   "execution_count": 30,
   "metadata": {},
   "outputs": [
    {
     "name": "stdout",
     "output_type": "stream",
     "text": [
      "Shown below are the first five rows of each variable and their corresponding shape.\n",
      "'ADEP_X_train':\n",
      " [[ 0.2200582 ]\n",
      " [-1.17940175]\n",
      " [ 0.90330062]\n",
      " [ 1.4568958 ]\n",
      " [ 0.2200582 ]] (1119, 1)\n",
      "\n",
      "'ADEP_X_test':\n",
      " [[ 1.3041214 ]\n",
      " [-1.33101771]\n",
      " [ 0.77822491]\n",
      " [-0.62414474]\n",
      " [ 0.71359852]] (373, 1)\n",
      "\n",
      "'AANX_X_train':\n",
      " [[ 0.2406714 ]\n",
      " [-1.36525737]\n",
      " [ 0.02007445]\n",
      " [ 0.09549215]\n",
      " [-0.18931001]] (1119, 1)\n",
      "\n",
      "'AANX_X_test':\n",
      " [[ 0.72987685]\n",
      " [-1.06188413]\n",
      " [ 0.53653104]\n",
      " [-1.60221032]\n",
      " [ 0.2406714 ]] (373, 1)\n",
      "\n",
      "'age_X_train':\n",
      " [[-1.77392186]\n",
      " [ 0.74635093]\n",
      " [-1.77392186]\n",
      " [ 0.2239158 ]\n",
      " [ 0.74635093]] (1119, 1)\n",
      "\n",
      "'age_X_test':\n",
      " [[-1.17188995]\n",
      " [-0.74800946]\n",
      " [ 0.74635093]\n",
      " [ 0.74635093]\n",
      " [ 1.56698962]] (373, 1)\n"
     ]
    }
   ],
   "source": [
    "# Scale the features\n",
    "print(\"Shown below are the first five rows of each variable and their corresponding shape.\")\n",
    "\n",
    "# 'ADEPRESSION'\n",
    "qt_norm = QuantileTransformer(output_distribution='normal').fit(ADEP_X_train)\n",
    "ADEP_X_train = qt_norm.transform(ADEP_X_train)\n",
    "ADEP_X_test = qt_norm.transform(ADEP_X_test)\n",
    "\n",
    "# Run the following lines to check 'ADEP_X_train' and 'ADEP_X_test':\n",
    "print(\"'ADEP_X_train':\\n\", ADEP_X_train[0:5], ADEP_X_train.shape)\n",
    "print(\"\\n'ADEP_X_test':\\n\", ADEP_X_test[0:5], ADEP_X_test.shape)\n",
    "################################################################################\n",
    "\n",
    "# 'AANXIETY'\n",
    "qt_norm = QuantileTransformer(output_distribution='normal').fit(AANX_X_train)\n",
    "AANX_X_train = qt_norm.transform(AANX_X_train)\n",
    "AANX_X_test = qt_norm.transform(AANX_X_test)\n",
    "\n",
    "# Run the following lines to check 'AANX_X_train' and 'AANX_X_test':\n",
    "print(\"\\n'AANX_X_train':\\n\", AANX_X_train[0:5], AANX_X_train.shape)\n",
    "print(\"\\n'AANX_X_test':\\n\", AANX_X_test[0:5], AANX_X_test.shape)\n",
    "################################################################################\n",
    "\n",
    "# 'age'\n",
    "qt_norm = QuantileTransformer(output_distribution='normal').fit(age_X_train)\n",
    "age_X_train = qt_norm.transform(age_X_train)\n",
    "age_X_test = qt_norm.transform(age_X_test)\n",
    "\n",
    "# Run the following lines to check 'age_X_train' and 'age_X_test':\n",
    "print(\"\\n'age_X_train':\\n\", age_X_train[0:5], age_X_train.shape)\n",
    "print(\"\\n'age_X_test':\\n\", age_X_test[0:5], age_X_test.shape)"
   ]
  },
  {
   "attachments": {},
   "cell_type": "markdown",
   "metadata": {},
   "source": [
    "##### Logistic regression classifier"
   ]
  },
  {
   "cell_type": "code",
   "execution_count": 31,
   "metadata": {},
   "outputs": [
    {
     "name": "stdout",
     "output_type": "stream",
     "text": [
      "Mean univariate scores for logistic regression model with 95% confidence intervals:\n",
      "    'ADEPRESSION' R2 score: 0.48 [0.39, 0.57]\n",
      "    'AANXIETY' R2 score: 0.39 [0.30, 0.47]\n",
      "    'quarantinesubperiod' R2 score: -0.00 [-0.02, 0.00]\n",
      "    'sex' R2 score: 0.01 [-0.02, 0.03]\n",
      "    'age' R2 score: 0.03 [0.00, 0.05]\n",
      "    'mentdishist' R2 score: 0.03 [-0.01, 0.07]\n",
      "    'suic' R2 score: 0.13 [0.07, 0.20]\n"
     ]
    }
   ],
   "source": [
    "# Obtain the univariate scores\n",
    "ADEP_LR_score = []\n",
    "AANX_LR_score = []\n",
    "quar_LR_score = []\n",
    "sex_LR_score = []\n",
    "age_LR_score = []\n",
    "ment_LR_score = []\n",
    "suic_LR_score = []\n",
    "\n",
    "# 'ADEPRESSION'\n",
    "ADEP_LR = LR_regr.fit(ADEP_X_train, np.ravel(ADEP_y_train)) #np.ravel(ADEP_y_train)\n",
    "\n",
    "for i in range(100):\n",
    "    ADEP_X_test_resampled, ADEP_y_test_resampled = resample(ADEP_X_test, ADEP_y_test, replace=True, n_samples=len(ADEP_y_test), random_state=0+i)\n",
    "    ADEP_y_pred = ADEP_LR.predict(ADEP_X_test_resampled)\n",
    "    ADEP_LR_score.append(r2_score(ADEP_y_test_resampled, ADEP_y_pred))\n",
    "\n",
    "# 'AANXIETY'\n",
    "AANX_LR = LR_regr.fit(AANX_X_train, np.ravel(AANX_y_train))\n",
    "\n",
    "for i in range(100):\n",
    "    AANX_X_test_resampled, AANX_y_test_resampled = resample(AANX_X_test, AANX_y_test, replace=True, n_samples=len(AANX_y_test), random_state=0+i)\n",
    "    AANX_y_pred = AANX_LR.predict(AANX_X_test_resampled)\n",
    "    AANX_LR_score.append(r2_score(AANX_y_test_resampled, AANX_y_pred))\n",
    "\n",
    "# 'quarantinesubperiod'\n",
    "quar_LR = LR_regr.fit(quar_X_train, np.ravel(quar_y_train))\n",
    "\n",
    "for i in range(100):\n",
    "    quar_X_test_resampled, quar_y_test_resampled = resample(quar_X_test, quar_y_test, replace=True, n_samples=len(quar_y_test), random_state=0+i)\n",
    "    quar_y_pred = quar_LR.predict(quar_X_test_resampled)\n",
    "    quar_LR_score.append(r2_score(quar_y_test_resampled, quar_y_pred)) \n",
    "\n",
    "# 'sex'\n",
    "sex_LR = LR_regr.fit(sex_X_train, np.ravel(sex_y_train))\n",
    "\n",
    "for i in range(100):\n",
    "    sex_X_test_resampled, sex_y_test_resampled = resample(sex_X_test, sex_y_test, replace=True, n_samples=len(sex_y_test), random_state=0+i)\n",
    "    sex_y_pred = sex_LR.predict(sex_X_test_resampled)\n",
    "    sex_LR_score.append(r2_score(sex_y_test_resampled, sex_y_pred)) \n",
    "\n",
    "# 'age'\n",
    "age_LR = LR_regr.fit(age_X_train, np.ravel(age_y_train))\n",
    "\n",
    "for i in range(100):\n",
    "    age_X_test_resampled, age_y_test_resampled = resample(age_X_test, age_y_test, replace=True, n_samples=len(age_y_test), random_state=0+i)\n",
    "    age_y_pred = age_LR.predict(age_X_test_resampled)\n",
    "    age_LR_score.append(r2_score(age_y_test_resampled, age_y_pred)) \n",
    "\n",
    "# 'mentdishist'\n",
    "ment_LR = LR_regr.fit(ment_X_train, np.ravel(ment_y_train))\n",
    "\n",
    "for i in range(100):\n",
    "    ment_X_test_resampled, ment_y_test_resampled = resample(ment_X_test, ment_y_test, replace=True, n_samples=len(ment_y_test), random_state=0+i)\n",
    "    ment_y_pred = ment_LR.predict(ment_X_test_resampled)\n",
    "    ment_LR_score.append(r2_score(ment_y_test_resampled, ment_y_pred))\n",
    "\n",
    "# 'suic'\n",
    "suic_LR = LR_regr.fit(suic_X_train, np.ravel(suic_y_train))\n",
    "\n",
    "for i in range(100):\n",
    "    suic_X_test_resampled, suic_y_test_resampled = resample(suic_X_test, suic_y_test, replace=True, n_samples=len(suic_y_test), random_state=0+i)\n",
    "    suic_y_pred = suic_LR.predict(suic_X_test_resampled)\n",
    "    suic_LR_score.append(r2_score(suic_y_test_resampled, suic_y_pred))\n",
    "\n",
    "print(\"Mean univariate scores for logistic regression model with 95% confidence intervals:\")\n",
    "print(\"    'ADEPRESSION' R2 score: {:.2f} [{:.2f}, {:.2f}]\".format(np.mean(ADEP_LR_score), np.percentile(ADEP_LR_score, 2.5), np.percentile(ADEP_LR_score, 97.5)))\n",
    "print(\"    'AANXIETY' R2 score: {:.2f} [{:.2f}, {:.2f}]\".format(np.mean(AANX_LR_score), np.percentile(AANX_LR_score, 2.5), np.percentile(AANX_LR_score, 97.5)))\n",
    "print(\"    'quarantinesubperiod' R2 score: {:.2f} [{:.2f}, {:.2f}]\".format(np.mean(quar_LR_score), np.percentile(quar_LR_score, 2.5), np.percentile(quar_LR_score, 97.5)))\n",
    "print(\"    'sex' R2 score: {:.2f} [{:.2f}, {:.2f}]\".format(np.mean(sex_LR_score), np.percentile(sex_LR_score, 2.5), np.percentile(sex_LR_score, 97.5)))\n",
    "print(\"    'age' R2 score: {:.2f} [{:.2f}, {:.2f}]\".format(np.mean(age_LR_score), np.percentile(age_LR_score, 2.5), np.percentile(age_LR_score, 97.5)))\n",
    "print(\"    'mentdishist' R2 score: {:.2f} [{:.2f}, {:.2f}]\".format(np.mean(ment_LR_score), np.percentile(ment_LR_score, 2.5), np.percentile(ment_LR_score, 97.5)))\n",
    "print(\"    'suic' R2 score: {:.2f} [{:.2f}, {:.2f}]\".format(np.mean(suic_LR_score), np.percentile(suic_LR_score, 2.5), np.percentile(suic_LR_score, 97.5)))"
   ]
  },
  {
   "cell_type": "code",
   "execution_count": 32,
   "metadata": {},
   "outputs": [],
   "source": [
    "# Prepare the inputs for the plot\n",
    "scores = [r2_LR, ADEP_LR_score, AANX_LR_score, quar_LR_score, sex_LR_score, age_LR_score, ment_LR_score, suic_LR_score]\n",
    "models = ['All', 'DEP', 'ANX', 'SUBP', 'Sex', 'Age', 'MDH', 'SH']\n",
    "\n",
    "mean_scores = []\n",
    "ci_lower = []\n",
    "ci_upper = []\n",
    "\n",
    "for i in scores:\n",
    "    mean_scores.append(np.mean(i))\n",
    "    ci_lower.append(np.percentile(i, 2.5))\n",
    "    ci_upper.append(np.percentile(i, 97.5))\n",
    "\n",
    "ci_lower = [ci_lower]\n",
    "ci_upper = [ci_upper]\n",
    "\n",
    "ci_lower = np.array(mean_scores) - np.array(ci_lower)\n",
    "ci_upper =np.array(ci_upper) - np.array(mean_scores)\n",
    "\n",
    "ci = np.append(ci_lower, ci_upper, axis=0)"
   ]
  },
  {
   "cell_type": "code",
   "execution_count": 33,
   "metadata": {},
   "outputs": [
    {
     "data": {
      "image/png": "[encoded data removed]",
      "text/plain": [
       "<Figure size 720x504 with 1 Axes>"
      ]
     },
     "metadata": {
      "needs_background": "light"
     },
     "output_type": "display_data"
    }
   ],
   "source": [
    "# Generate the plot\n",
    "import matplotlib.pyplot as plt\n",
    "\n",
    "plt.figure(figsize=(10, 7))\n",
    "\n",
    "plt.errorbar(models, mean_scores, yerr=ci, fmt='-ob', capsize=3)\n",
    "\n",
    "ax = plt.gca()\n",
    "ax.set_ylim(-0.1, 1)\n",
    "\n",
    "plt.title('Mean multi- and univariate scores for the LR model (depression)', size=14)\n",
    "plt.xlabel('Multivariate and univariate models', size=12, labelpad=10.0)\n",
    "plt.ylabel('Mean R-squared scores', size=12)\n",
    "\n",
    "plt.show()"
   ]
  },
  {
   "attachments": {},
   "cell_type": "markdown",
   "metadata": {},
   "source": [
    "##### Random forest regressor"
   ]
  },
  {
   "cell_type": "code",
   "execution_count": 34,
   "metadata": {},
   "outputs": [
    {
     "name": "stdout",
     "output_type": "stream",
     "text": [
      "Mean univariate scores for random forest regressor with 95% confidence intervals:\n",
      "    'ADEPRESSION' R2 score: 0.43 [0.26, 0.56]\n",
      "    'AANXIETY' R2 score: 0.37 [0.24, 0.45]\n",
      "    'quarantinesubperiod' R2 score: -0.00 [-0.02, 0.00]\n",
      "    'sex' R2 score: 0.01 [-0.02, 0.03]\n",
      "    'age' R2 score: 0.00 [-0.05, 0.04]\n",
      "    'mentdishist' R2 score: 0.03 [-0.02, 0.07]\n",
      "    'suic' R2 score: 0.13 [0.07, 0.20]\n"
     ]
    }
   ],
   "source": [
    "# Obtain the univariate scores\n",
    "ADEP_RF_score = []\n",
    "AANX_RF_score = []\n",
    "quar_RF_score = []\n",
    "sex_RF_score = []\n",
    "age_RF_score = []\n",
    "ment_RF_score = []\n",
    "suic_RF_score = []\n",
    "\n",
    "# 'ADEPRESSION'\n",
    "ADEP_RF = gs_RF.best_estimator_.fit(ADEP_X_train, np.ravel(ADEP_y_train)) #np.ravel(ADEP_y_train)\n",
    "\n",
    "for i in range(100):\n",
    "    ADEP_X_test_resampled, ADEP_y_test_resampled = resample(ADEP_X_test, ADEP_y_test, replace=True, n_samples=len(ADEP_y_test), random_state=0+i)\n",
    "    ADEP_y_pred = ADEP_RF.predict(ADEP_X_test_resampled)\n",
    "    ADEP_RF_score.append(r2_score(ADEP_y_test_resampled, ADEP_y_pred))\n",
    "\n",
    "# 'AANXIETY'\n",
    "AANX_RF = gs_RF.best_estimator_.fit(AANX_X_train, np.ravel(AANX_y_train))\n",
    "\n",
    "for i in range(100):\n",
    "    AANX_X_test_resampled, AANX_y_test_resampled = resample(AANX_X_test, AANX_y_test, replace=True, n_samples=len(AANX_y_test), random_state=0+i)\n",
    "    AANX_y_pred = AANX_RF.predict(AANX_X_test_resampled)\n",
    "    AANX_RF_score.append(r2_score(AANX_y_test_resampled, AANX_y_pred))\n",
    "\n",
    "# 'quarantinesubperiod'\n",
    "quar_RF = gs_RF.best_estimator_.fit(quar_X_train, np.ravel(quar_y_train))\n",
    "\n",
    "for i in range(100):\n",
    "    quar_X_test_resampled, quar_y_test_resampled = resample(quar_X_test, quar_y_test, replace=True, n_samples=len(quar_y_test), random_state=0+i)\n",
    "    quar_y_pred = quar_RF.predict(quar_X_test_resampled)\n",
    "    quar_RF_score.append(r2_score(quar_y_test_resampled, quar_y_pred)) \n",
    "\n",
    "# 'sex'\n",
    "sex_RF = gs_RF.best_estimator_.fit(sex_X_train, np.ravel(sex_y_train))\n",
    "\n",
    "for i in range(100):\n",
    "    sex_X_test_resampled, sex_y_test_resampled = resample(sex_X_test, sex_y_test, replace=True, n_samples=len(sex_y_test), random_state=0+i)\n",
    "    sex_y_pred = sex_RF.predict(sex_X_test_resampled)\n",
    "    sex_RF_score.append(r2_score(sex_y_test_resampled, sex_y_pred)) \n",
    "\n",
    "# 'age'\n",
    "age_RF = gs_RF.best_estimator_.fit(age_X_train, np.ravel(age_y_train))\n",
    "\n",
    "for i in range(100):\n",
    "    age_X_test_resampled, age_y_test_resampled = resample(age_X_test, age_y_test, replace=True, n_samples=len(age_y_test), random_state=0+i)\n",
    "    age_y_pred = age_RF.predict(age_X_test_resampled)\n",
    "    age_RF_score.append(r2_score(age_y_test_resampled, age_y_pred)) \n",
    "\n",
    "# 'mentdishist'\n",
    "ment_RF = gs_RF.best_estimator_.fit(ment_X_train, np.ravel(ment_y_train))\n",
    "\n",
    "for i in range(100):\n",
    "    ment_X_test_resampled, ment_y_test_resampled = resample(ment_X_test, ment_y_test, replace=True, n_samples=len(ment_y_test), random_state=0+i)\n",
    "    ment_y_pred = ment_RF.predict(ment_X_test_resampled)\n",
    "    ment_RF_score.append(r2_score(ment_y_test_resampled, ment_y_pred))\n",
    "\n",
    "# 'suic'\n",
    "suic_RF = gs_RF.best_estimator_.fit(suic_X_train, np.ravel(suic_y_train))\n",
    "\n",
    "for i in range(100):\n",
    "    suic_X_test_resampled, suic_y_test_resampled = resample(suic_X_test, suic_y_test, replace=True, n_samples=len(suic_y_test), random_state=0+i)\n",
    "    suic_y_pred = suic_RF.predict(suic_X_test_resampled)\n",
    "    suic_RF_score.append(r2_score(suic_y_test_resampled, suic_y_pred))\n",
    "\n",
    "print(\"Mean univariate scores for random forest regressor with 95% confidence intervals:\")\n",
    "print(\"    'ADEPRESSION' R2 score: {:.2f} [{:.2f}, {:.2f}]\".format(np.mean(ADEP_RF_score), np.percentile(ADEP_RF_score, 2.5), np.percentile(ADEP_RF_score, 97.5)))\n",
    "print(\"    'AANXIETY' R2 score: {:.2f} [{:.2f}, {:.2f}]\".format(np.mean(AANX_RF_score), np.percentile(AANX_RF_score, 2.5), np.percentile(AANX_RF_score, 97.5)))\n",
    "print(\"    'quarantinesubperiod' R2 score: {:.2f} [{:.2f}, {:.2f}]\".format(np.mean(quar_RF_score), np.percentile(quar_RF_score, 2.5), np.percentile(quar_RF_score, 97.5)))\n",
    "print(\"    'sex' R2 score: {:.2f} [{:.2f}, {:.2f}]\".format(np.mean(sex_RF_score), np.percentile(sex_RF_score, 2.5), np.percentile(sex_RF_score, 97.5)))\n",
    "print(\"    'age' R2 score: {:.2f} [{:.2f}, {:.2f}]\".format(np.mean(age_RF_score), np.percentile(age_RF_score, 2.5), np.percentile(age_RF_score, 97.5)))\n",
    "print(\"    'mentdishist' R2 score: {:.2f} [{:.2f}, {:.2f}]\".format(np.mean(ment_RF_score), np.percentile(ment_RF_score, 2.5), np.percentile(ment_RF_score, 97.5)))\n",
    "print(\"    'suic' R2 score: {:.2f} [{:.2f}, {:.2f}]\".format(np.mean(suic_RF_score), np.percentile(suic_RF_score, 2.5), np.percentile(suic_RF_score, 97.5)))"
   ]
  },
  {
   "cell_type": "code",
   "execution_count": 35,
   "metadata": {},
   "outputs": [],
   "source": [
    "# Prepare the inputs for the plot\n",
    "scores = [r2_RF, ADEP_RF_score, AANX_RF_score, quar_RF_score, sex_RF_score, age_RF_score, ment_RF_score, suic_RF_score]\n",
    "models = ['All', 'DEP', 'ANX', 'SUBP', 'Sex', 'Age', 'MDH', 'SH']\n",
    "\n",
    "mean_scores = []\n",
    "ci_lower = []\n",
    "ci_upper = []\n",
    "\n",
    "for i in scores:\n",
    "    mean_scores.append(np.mean(i))\n",
    "    ci_lower.append(np.percentile(i, 2.5))\n",
    "    ci_upper.append(np.percentile(i, 97.5))\n",
    "\n",
    "ci_lower = [ci_lower]\n",
    "ci_upper = [ci_upper]\n",
    "\n",
    "ci_lower = np.array(mean_scores) - np.array(ci_lower)\n",
    "ci_upper =np.array(ci_upper) - np.array(mean_scores)\n",
    "\n",
    "ci = np.append(ci_lower, ci_upper, axis=0)"
   ]
  },
  {
   "cell_type": "code",
   "execution_count": 36,
   "metadata": {},
   "outputs": [
    {
     "data": {
      "image/png": "[encoded data removed]",
      "text/plain": [
       "<Figure size 720x504 with 1 Axes>"
      ]
     },
     "metadata": {
      "needs_background": "light"
     },
     "output_type": "display_data"
    }
   ],
   "source": [
    "# Generate the plot\n",
    "plt.figure(figsize=(10, 7))\n",
    "\n",
    "plt.errorbar(models, mean_scores, yerr=ci, fmt='-ob', capsize=3)\n",
    "\n",
    "ax = plt.gca()\n",
    "ax.set_ylim(-0.1, 1)\n",
    "\n",
    "plt.title('Mean multi- and univariate scores for RF regressor (depression)', size=14)\n",
    "plt.xlabel('Multivariate and univariate models', size=12, labelpad=10.0)\n",
    "plt.ylabel('Mean R-squared scores', size=12)\n",
    "\n",
    "plt.show()"
   ]
  },
  {
   "attachments": {},
   "cell_type": "markdown",
   "metadata": {},
   "source": [
    "##### SVM regressor"
   ]
  },
  {
   "cell_type": "code",
   "execution_count": 37,
   "metadata": {},
   "outputs": [
    {
     "name": "stdout",
     "output_type": "stream",
     "text": [
      "Mean univariate scores for SVM regressor with 95% confidence intervals:\n",
      "    'ADEPRESSION' R2 score: 0.49 [0.37, 0.60]\n",
      "    'AANXIETY' R2 score: 0.40 [0.28, 0.48]\n",
      "    'quarantinesubperiod' R2 score: -0.03 [-0.08, -0.01]\n",
      "    'sex' R2 score: -0.02 [-0.06, 0.01]\n",
      "    'age' R2 score: 0.01 [-0.02, 0.04]\n",
      "    'mentdishist' R2 score: 0.01 [-0.04, 0.05]\n",
      "    'suic' R2 score: 0.10 [0.04, 0.16]\n"
     ]
    }
   ],
   "source": [
    "# Obtain the univariate scores\n",
    "ADEP_SVR_score = []\n",
    "AANX_SVR_score = []\n",
    "quar_SVR_score = []\n",
    "sex_SVR_score = []\n",
    "age_SVR_score = []\n",
    "ment_SVR_score = []\n",
    "suic_SVR_score = []\n",
    "\n",
    "# 'ADEPRESSION'\n",
    "ADEP_SVR = gs_SVR.best_estimator_.fit(ADEP_X_train, np.ravel(ADEP_y_train)) #np.ravel(ADEP_y_train)\n",
    "\n",
    "for i in range(100):\n",
    "    ADEP_X_test_resampled, ADEP_y_test_resampled = resample(ADEP_X_test, ADEP_y_test, replace=True, n_samples=len(ADEP_y_test), random_state=0+i)\n",
    "    ADEP_y_pred = ADEP_SVR.predict(ADEP_X_test_resampled)\n",
    "    ADEP_SVR_score.append(r2_score(ADEP_y_test_resampled, ADEP_y_pred))\n",
    "\n",
    "# 'AANXIETY'\n",
    "AANX_SVR = gs_SVR.best_estimator_.fit(AANX_X_train, np.ravel(AANX_y_train))\n",
    "\n",
    "for i in range(100):\n",
    "    AANX_X_test_resampled, AANX_y_test_resampled = resample(AANX_X_test, AANX_y_test, replace=True, n_samples=len(AANX_y_test), random_state=0+i)\n",
    "    AANX_y_pred = AANX_SVR.predict(AANX_X_test_resampled)\n",
    "    AANX_SVR_score.append(r2_score(AANX_y_test_resampled, AANX_y_pred))\n",
    "\n",
    "# 'quarantinesubperiod'\n",
    "quar_SVR = gs_SVR.best_estimator_.fit(quar_X_train, np.ravel(quar_y_train))\n",
    "\n",
    "for i in range(100):\n",
    "    quar_X_test_resampled, quar_y_test_resampled = resample(quar_X_test, quar_y_test, replace=True, n_samples=len(quar_y_test), random_state=0+i)\n",
    "    quar_y_pred = quar_SVR.predict(quar_X_test_resampled)\n",
    "    quar_SVR_score.append(r2_score(quar_y_test_resampled, quar_y_pred)) \n",
    "\n",
    "# 'sex'\n",
    "sex_SVR = gs_SVR.best_estimator_.fit(sex_X_train, np.ravel(sex_y_train))\n",
    "\n",
    "for i in range(100):\n",
    "    sex_X_test_resampled, sex_y_test_resampled = resample(sex_X_test, sex_y_test, replace=True, n_samples=len(sex_y_test), random_state=0+i)\n",
    "    sex_y_pred = sex_SVR.predict(sex_X_test_resampled)\n",
    "    sex_SVR_score.append(r2_score(sex_y_test_resampled, sex_y_pred)) \n",
    "\n",
    "# 'age'\n",
    "age_SVR = gs_SVR.best_estimator_.fit(age_X_train, np.ravel(age_y_train))\n",
    "\n",
    "for i in range(100):\n",
    "    age_X_test_resampled, age_y_test_resampled = resample(age_X_test, age_y_test, replace=True, n_samples=len(age_y_test), random_state=0+i)\n",
    "    age_y_pred = age_SVR.predict(age_X_test_resampled)\n",
    "    age_SVR_score.append(r2_score(age_y_test_resampled, age_y_pred)) \n",
    "\n",
    "# 'mentdishist'\n",
    "ment_SVR = gs_SVR.best_estimator_.fit(ment_X_train, np.ravel(ment_y_train))\n",
    "\n",
    "for i in range(100):\n",
    "    ment_X_test_resampled, ment_y_test_resampled = resample(ment_X_test, ment_y_test, replace=True, n_samples=len(ment_y_test), random_state=0+i)\n",
    "    ment_y_pred = ment_SVR.predict(ment_X_test_resampled)\n",
    "    ment_SVR_score.append(r2_score(ment_y_test_resampled, ment_y_pred))\n",
    "\n",
    "# 'suic'\n",
    "suic_SVR = gs_SVR.best_estimator_.fit(suic_X_train, np.ravel(suic_y_train))\n",
    "\n",
    "for i in range(100):\n",
    "    suic_X_test_resampled, suic_y_test_resampled = resample(suic_X_test, suic_y_test, replace=True, n_samples=len(suic_y_test), random_state=0+i)\n",
    "    suic_y_pred = suic_SVR.predict(suic_X_test_resampled)\n",
    "    suic_SVR_score.append(r2_score(suic_y_test_resampled, suic_y_pred))\n",
    "\n",
    "print(\"Mean univariate scores for SVM regressor with 95% confidence intervals:\")\n",
    "print(\"    'ADEPRESSION' R2 score: {:.2f} [{:.2f}, {:.2f}]\".format(np.mean(ADEP_SVR_score), np.percentile(ADEP_SVR_score, 2.5), np.percentile(ADEP_SVR_score, 97.5)))\n",
    "print(\"    'AANXIETY' R2 score: {:.2f} [{:.2f}, {:.2f}]\".format(np.mean(AANX_SVR_score), np.percentile(AANX_SVR_score, 2.5), np.percentile(AANX_SVR_score, 97.5)))\n",
    "print(\"    'quarantinesubperiod' R2 score: {:.2f} [{:.2f}, {:.2f}]\".format(np.mean(quar_SVR_score), np.percentile(quar_SVR_score, 2.5), np.percentile(quar_SVR_score, 97.5)))\n",
    "print(\"    'sex' R2 score: {:.2f} [{:.2f}, {:.2f}]\".format(np.mean(sex_SVR_score), np.percentile(sex_SVR_score, 2.5), np.percentile(sex_SVR_score, 97.5)))\n",
    "print(\"    'age' R2 score: {:.2f} [{:.2f}, {:.2f}]\".format(np.mean(age_SVR_score), np.percentile(age_SVR_score, 2.5), np.percentile(age_SVR_score, 97.5)))\n",
    "print(\"    'mentdishist' R2 score: {:.2f} [{:.2f}, {:.2f}]\".format(np.mean(ment_SVR_score), np.percentile(ment_SVR_score, 2.5), np.percentile(ment_SVR_score, 97.5)))\n",
    "print(\"    'suic' R2 score: {:.2f} [{:.2f}, {:.2f}]\".format(np.mean(suic_SVR_score), np.percentile(suic_SVR_score, 2.5), np.percentile(suic_SVR_score, 97.5)))"
   ]
  },
  {
   "cell_type": "code",
   "execution_count": 38,
   "metadata": {},
   "outputs": [],
   "source": [
    "# Prepare the inputs for the plot\n",
    "scores = [r2_SVR, ADEP_SVR_score, AANX_SVR_score, quar_SVR_score, sex_SVR_score, age_SVR_score, ment_SVR_score, suic_SVR_score]\n",
    "models = ['All', 'DEP', 'ANX', 'SUBP', 'Sex', 'Age', 'MDH', 'SH']\n",
    "\n",
    "mean_scores = []\n",
    "ci_lower = []\n",
    "ci_upper = []\n",
    "\n",
    "for i in scores:\n",
    "    mean_scores.append(np.mean(i))\n",
    "    ci_lower.append(np.percentile(i, 2.5))\n",
    "    ci_upper.append(np.percentile(i, 97.5))\n",
    "\n",
    "ci_lower = [ci_lower]\n",
    "ci_upper = [ci_upper]\n",
    "\n",
    "ci_lower = np.array(mean_scores) - np.array(ci_lower)\n",
    "ci_upper =np.array(ci_upper) - np.array(mean_scores)\n",
    "\n",
    "ci = np.append(ci_lower, ci_upper, axis=0)"
   ]
  },
  {
   "cell_type": "code",
   "execution_count": 39,
   "metadata": {},
   "outputs": [
    {
     "data": {
      "image/png": "[encoded data removed]",
      "text/plain": [
       "<Figure size 720x504 with 1 Axes>"
      ]
     },
     "metadata": {
      "needs_background": "light"
     },
     "output_type": "display_data"
    }
   ],
   "source": [
    "# Generate the plot\n",
    "plt.figure(figsize=(10, 7))\n",
    "\n",
    "plt.errorbar(models, mean_scores, yerr=ci, fmt='-ob', capsize=3)\n",
    "\n",
    "ax = plt.gca()\n",
    "ax.set_ylim(-0.1, 1)\n",
    "\n",
    "plt.title('Mean multi- and univariate scores for SVM regressor (depression)', size=14)\n",
    "plt.xlabel('Multivariate and univariate models', size=12, labelpad=10.0)\n",
    "plt.ylabel('Mean R-squared scores', size=12)\n",
    "\n",
    "plt.show()"
   ]
  }
 ],
 "metadata": {
  "kernelspec": {
   "display_name": "Python 3.9.12 ('base')",
   "language": "python",
   "name": "python3"
  },
  "language_info": {
   "codemirror_mode": {
    "name": "ipython",
    "version": 3
   },
   "file_extension": ".py",
   "mimetype": "text/x-python",
   "name": "python",
   "nbconvert_exporter": "python",
   "pygments_lexer": "ipython3",
   "version": "3.9.12"
  },
  "orig_nbformat": 4,
  "vscode": {
   "interpreter": {
    "hash": "aba9ac38390b12c9e4aaf88d1f168c7fdaa11ad7d9dea13356d850735df39080"
   }
  }
 },
 "nbformat": 4,
 "nbformat_minor": 2
}
