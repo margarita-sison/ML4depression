{
 "cells": [
  {
   "attachments": {},
   "cell_type": "markdown",
   "metadata": {},
   "source": [
    "# Predicting depression and anxiety in college students during the Argentinean quarantine for the COVID-19 pandemic"
   ]
  },
  {
   "attachments": {},
   "cell_type": "markdown",
   "metadata": {},
   "source": [
    "# 2 of 5. Predicting depression in college students using binary classification"
   ]
  },
  {
   "attachments": {},
   "cell_type": "markdown",
   "metadata": {},
   "source": [
    "The data was collected for the study entitled \"A longitudinal study on depression and anxiety in college students during the first 106-days of the lengthy Argentinean quarantine for the COVID-19 pandemic\" by López Steinmetz et al., published in the Journal of Mental Health in 2021. To access the data, visit https://osf.io/2v84n/.\n",
    "\n",
    "In this Jupyter notebook, supervised classification algorithms, namely logistic regression, random forest and support vector machine (SVM) classifiers are trained to predict non-clinical depression in college students from the given data set. Non-clinical depression was assessed using the Argentinean version of the Beck Depression Inventory (Beck et al., 1996; Brenlla & Rodríguez, 2006). Scores greater than 20 were considered to suggest its presence in the participant (Kendall et al., 1987). Based on this specified cut-off, in this classification task scores are assigned a negative or positive label (i.e., 0 or 1) which the algorithms are trained to predict correctly using the following features as inputs: continuous depression and anxiety scores from the first measurement, three broad quarantine subperiods to which answers were assigned based on the date of response for the first measurement, the sex and age of the participant, and their mental disorder and suicidal history. The performance of the models are evaluated across several metrics and compared with the performance of three dummy/baseline classifiers. \n",
    "\n",
    "<b>Prior to preprocessing, an initial inspection of the data was performed in the first notebook named '1_Data_intro.ipynb'. Descriptions of each column can also be found in the aforementioned notebook. For additional information about the data, visit https://doi.org/10.1080/09638237.2021.1952952.</b>"
   ]
  },
  {
   "attachments": {},
   "cell_type": "markdown",
   "metadata": {},
   "source": [
    "<b>Outline</b>\n",
    "<br>\n",
    "<br>2.1. Preprocessing the data\n",
    "<br>2.2. Training the models\n",
    "<br>&nbsp;&nbsp;&nbsp;&nbsp;&nbsp;&nbsp;&nbsp;&nbsp;2.2.1. Dummy classifiers (baselines)\n",
    "<br>&nbsp;&nbsp;&nbsp;&nbsp;&nbsp;&nbsp;&nbsp;&nbsp;2.2.2. Logistic regression classifier\n",
    "<br>&nbsp;&nbsp;&nbsp;&nbsp;&nbsp;&nbsp;&nbsp;&nbsp;2.2.3. Random forest classifier\n",
    "<br>&nbsp;&nbsp;&nbsp;&nbsp;&nbsp;&nbsp;&nbsp;&nbsp;2.2.4. SVM classfier\n",
    "<br>2.3. Plotting the AUPRC and AUROC curves\n",
    "<br>2.4. Comparing the performance of univariate and multivariate models (feature importance)"
   ]
  },
  {
   "cell_type": "code",
   "execution_count": 1,
   "metadata": {},
   "outputs": [],
   "source": [
    "# Load 'dataset.xlsx' file as pandas DataFrame to keep tabular format\n",
    "import pandas as pd\n",
    "\n",
    "data = pd.read_excel('/Users/margaritasison/Downloads/M3.5 Lab Rotation 3/dataset.xlsx', sheet_name=0, header=0) # data = pd.read_excel('Edit string path accordingly', load first sheet, set first row as header)"
   ]
  },
  {
   "attachments": {},
   "cell_type": "markdown",
   "metadata": {},
   "source": [
    "### 2.1. Preprocessing the data"
   ]
  },
  {
   "cell_type": "code",
   "execution_count": 2,
   "metadata": {},
   "outputs": [],
   "source": [
    "# Assign negative and positive labels to 'BDEPRESSION' scores based on the specified cut-off and store them into a new variable 'BDEP_BINARY'\n",
    "\n",
    "### Run the next two lines only once -- running them again causes the following error: 'cannot insert \"BDEP_BINARY\", already exists'\n",
    "BDEP_BINARY = pd.cut(data.BDEPRESSION, bins=[0,20,63], labels=[0, 1], include_lowest=True) # [0, 20], (20, 63]\n",
    "\n",
    "# Insert new column 'BDEP_BINARY' into the existing DataFrame 'data'\n",
    "data.insert(0, 'BDEP_BINARY', BDEP_BINARY)"
   ]
  },
  {
   "cell_type": "code",
   "execution_count": 3,
   "metadata": {},
   "outputs": [],
   "source": [
    "# Drop columns 'participant', 'BDEPRESSION', and 'BANXIETY'\n",
    "data = data.drop(['participant', 'BDEPRESSION', 'BANXIETY'], axis=1)"
   ]
  },
  {
   "cell_type": "code",
   "execution_count": 4,
   "metadata": {},
   "outputs": [
    {
     "name": "stdout",
     "output_type": "stream",
     "text": [
      "Columns before 'get_dummies' conversion:\n",
      "['BDEP_BINARY', 'ADEPRESSION', 'AANXIETY', 'quarantinesubperiod', 'sex', 'age', 'mentdishist', 'suic']\n",
      "\n",
      "Columns after 'get_dummies' conversion:\n",
      "['BDEP_BINARY', 'ADEPRESSION', 'AANXIETY', 'age', 'quarantinesubperiod_quar first', 'quarantinesubperiod_quar second', 'quarantinesubperiod_quar third', 'sex_man', 'sex_woman', 'mentdishist_no', 'mentdishist_yes', 'suic_no', 'suic_yes']\n"
     ]
    }
   ],
   "source": [
    "# Convert 'quarantinesubperiod', 'sex', 'mentdishist', and 'suic' into dummy variables\n",
    "print(\"Columns before 'get_dummies' conversion:\\n{}\".format(list(data.columns)))\n",
    "\n",
    "data = pd.get_dummies(data, columns=['quarantinesubperiod', 'sex', 'mentdishist', 'suic'])\n",
    "print(\"\\nColumns after 'get_dummies' conversion:\\n{}\".format(list(data.columns)))"
   ]
  },
  {
   "cell_type": "code",
   "execution_count": 5,
   "metadata": {},
   "outputs": [],
   "source": [
    "# Convert 'data' DataFrame into a NumPy array to make it compatible with scikit-learn functions\n",
    "import numpy as np\n",
    "\n",
    "data = np.array(data)"
   ]
  },
  {
   "cell_type": "code",
   "execution_count": 6,
   "metadata": {},
   "outputs": [
    {
     "name": "stdout",
     "output_type": "stream",
     "text": [
      "First five rows of 'X':\n",
      " [[13 33 22  1  0  0  0  1  1  0  1  0]\n",
      " [16 21 24  1  0  0  0  1  1  0  0  1]\n",
      " [ 5 20 30  1  0  0  0  1  1  0  0  1]\n",
      " [28 41 22  1  0  0  0  1  0  1  0  1]\n",
      " [17 37 25  1  0  0  0  1  1  0  0  1]] \n",
      "Shape of 'X': (1492, 12)\n",
      "\n",
      "First five rows of 'y':\n",
      " [[0]\n",
      " [0]\n",
      " [0]\n",
      " [1]\n",
      " [0]] \n",
      "Shape of 'y': (1492, 1)\n"
     ]
    }
   ],
   "source": [
    "# Assign features to 'X' and target to 'y'\n",
    "X = data[:, 1:] # 'ADEPRESSION', 'AANXIETY', 'age', 'quarantinesubperiod_quar first', 'quarantinesubperiod_quar second', 'quarantinesubperiod_quar third', 'sex_man', 'sex_woman', 'mentdishist_no', 'mentdishist_yes', 'suic_no', 'suic_yes'\n",
    "y = data[:, :1] # 'BDEP_BINARY'\n",
    "\n",
    "# Run the following lines to check 'X' and 'y':\n",
    "print(\"First five rows of 'X':\\n\", X[0:5], \"\\nShape of 'X':\", X.shape)\n",
    "print(\"\\nFirst five rows of 'y':\\n\", y[0:5], \"\\nShape of 'y':\", y.shape)"
   ]
  },
  {
   "cell_type": "code",
   "execution_count": 7,
   "metadata": {},
   "outputs": [
    {
     "name": "stdout",
     "output_type": "stream",
     "text": [
      "Shape of 'X_train': (1119, 12) \n",
      "Shape of 'y_train': (1119, 1)\n",
      "Shape of 'X_test': (373, 12) \n",
      "Shape of 'y_test': (373, 1)\n"
     ]
    }
   ],
   "source": [
    "# Split 'X' and 'y' into a training set and a test set\n",
    "from sklearn.model_selection import train_test_split\n",
    "\n",
    "X_train, X_test, y_train, y_test = train_test_split(\n",
    "    X, y,\n",
    "    random_state=0,\n",
    "    stratify=y) # Add 'stratify=y' parameter for classification\n",
    "\n",
    "# Run the following lines to check training and test set dimensions:\n",
    "print(\"Shape of 'X_train':\", X_train.shape, \"\\nShape of 'y_train':\", y_train.shape) # (1119, 12) (1119, 1)\n",
    "print(\"Shape of 'X_test':\", X_test.shape, \"\\nShape of 'y_test':\", y_test.shape) # (373, 12) (373, 1)"
   ]
  },
  {
   "cell_type": "code",
   "execution_count": 8,
   "metadata": {},
   "outputs": [
    {
     "name": "stdout",
     "output_type": "stream",
     "text": [
      "First five rows of 'scaled_X_train' (before scaling):\n",
      " [[13 29 22]\n",
      " [32 39 20]\n",
      " [ 5 17 20]\n",
      " [16 26 25]\n",
      " [31 48 19]] \n",
      "Shape of 'scaled_X_train' (before scaling): (1119, 3)\n",
      "\n",
      "First five rows of 'scaled_X_test' (before scaling):\n",
      " [[12 21 23]\n",
      " [12 27 19]\n",
      " [17 42 19]\n",
      " [10 25 22]\n",
      " [19 29 21]] \n",
      "Shape of 'scaled_X_test' (before scaling): (373, 3)\n"
     ]
    }
   ],
   "source": [
    "# Assign the features to be scaled to 'scaled_X_train' and 'scaled_X_test'\n",
    "scaled_X_train = X_train[:, :3] # 'ADEPRESSION', 'AANXIETY', 'age'\n",
    "scaled_X_test = X_test[:, :3] # 'ADEPRESSION', 'AANXIETY', 'age'\n",
    "\n",
    "# Run the following lines to check 'scaled_X_train' and 'scaled_X_test':\n",
    "print(\"First five rows of 'scaled_X_train' (before scaling):\\n\", scaled_X_train[0:5], \"\\nShape of 'scaled_X_train' (before scaling):\", scaled_X_train.shape)\n",
    "print(\"\\nFirst five rows of 'scaled_X_test' (before scaling):\\n\", scaled_X_test[0:5], \"\\nShape of 'scaled_X_test' (before scaling):\", scaled_X_test.shape)"
   ]
  },
  {
   "cell_type": "code",
   "execution_count": 9,
   "metadata": {},
   "outputs": [
    {
     "name": "stdout",
     "output_type": "stream",
     "text": [
      "First five rows of 'scaled_X_train' (after scaling):\n",
      " [[-0.42111149 -0.1194676  -0.06905612]\n",
      " [ 1.03364682  0.65182431 -0.75466427]\n",
      " [-1.50186053 -1.0819398  -0.75466427]\n",
      " [-0.13337869 -0.34415366  0.75800423]\n",
      " [ 0.96742157  1.61133325 -1.17188995]] \n",
      "Shape of 'scaled_X_train' (after scaling): (1119, 3)\n",
      "\n",
      "First five rows of 'scaled_X_test' (after scaling):\n",
      " [[-0.51779027 -0.74800946  0.23938016]\n",
      " [-0.51779027 -0.26008943 -1.17188995]\n",
      " [-0.04894772  0.953493   -1.17188995]\n",
      " [-0.73315571 -0.44314942 -0.06905612]\n",
      " [ 0.14477961 -0.1194676  -0.41016941]] \n",
      "Shape of 'scaled_X_test' (after scaling): (373, 3)\n"
     ]
    }
   ],
   "source": [
    "# Scale 'ADEPRESSION', 'AANXIETY' and 'age'\n",
    "from sklearn.preprocessing import QuantileTransformer\n",
    "\n",
    "qt_norm = QuantileTransformer(output_distribution='normal').fit(scaled_X_train)\n",
    "\n",
    "scaled_X_train = qt_norm.transform(scaled_X_train)\n",
    "scaled_X_test = qt_norm.transform(scaled_X_test)\n",
    "\n",
    "# Run the following lines to check 'scaled_X_train' and 'scaled_X_test':\n",
    "print(\"First five rows of 'scaled_X_train' (after scaling):\\n\", scaled_X_train[0:5], \"\\nShape of 'scaled_X_train' (after scaling):\", scaled_X_train.shape)\n",
    "print(\"\\nFirst five rows of 'scaled_X_test' (after scaling):\\n\", scaled_X_test[0:5], \"\\nShape of 'scaled_X_test' (after scaling):\", scaled_X_test.shape)"
   ]
  },
  {
   "cell_type": "code",
   "execution_count": 10,
   "metadata": {},
   "outputs": [
    {
     "name": "stdout",
     "output_type": "stream",
     "text": [
      "First five rows of 'PCA_scaled_X_train':\n",
      " [[ 0.34455111  0.16926994 -0.19543851]\n",
      " [-1.37658162  0.30373211  0.25277297]\n",
      " [ 1.49336757  1.28425078 -0.23375586]\n",
      " [ 0.56052775 -0.63465131  0.1572193 ]\n",
      " [-2.09284211  0.50886169 -0.48479955]] \n",
      "Shape of 'PCA_scaled_X_train': (1119, 3)\n",
      "\n",
      "First five rows of 'PCA_scaled_X_test':\n",
      " [[ 0.92096587  0.03526367  0.19099768]\n",
      " [ 0.14786202  1.26676769 -0.1487928 ]\n",
      " [-0.96669848  0.89394008 -0.70678035]\n",
      " [ 0.7698791   0.31359979 -0.17527633]\n",
      " [-0.15273068  0.35637665  0.19736284]] \n",
      "Shape of 'PCA_scaled_X_test': (373, 3)\n"
     ]
    }
   ],
   "source": [
    "# Apply dimensionality reduction using PCA\n",
    "from sklearn.decomposition import PCA\n",
    "\n",
    "pca = PCA(n_components=.95).fit(scaled_X_train)\n",
    "\n",
    "PCA_scaled_X_train = pca.transform(scaled_X_train)\n",
    "PCA_scaled_X_test = pca.transform(scaled_X_test)\n",
    "\n",
    "# Run the following lines to check 'PCA_scaled_X_train' and 'PCA_scaled_X_test':\n",
    "print(\"First five rows of 'PCA_scaled_X_train':\\n\", PCA_scaled_X_train[0:5], \"\\nShape of 'PCA_scaled_X_train':\", PCA_scaled_X_train.shape)\n",
    "print(\"\\nFirst five rows of 'PCA_scaled_X_test':\\n\", PCA_scaled_X_test[0:5],  \"\\nShape of 'PCA_scaled_X_test':\", PCA_scaled_X_test.shape)"
   ]
  },
  {
   "cell_type": "code",
   "execution_count": 11,
   "metadata": {},
   "outputs": [
    {
     "name": "stdout",
     "output_type": "stream",
     "text": [
      "First five rows of 'X_train':\n",
      " [[1 0 0 0 1 1 0 0 1]\n",
      " [1 0 0 0 1 1 0 0 1]\n",
      " [1 0 0 0 1 0 1 0 1]\n",
      " [1 0 0 0 1 1 0 0 1]\n",
      " [1 0 0 0 1 1 0 0 1]] \n",
      "Shape of 'X_train': (1119, 9)\n",
      "\n",
      "First five rows of 'X_test':\n",
      " [[1 0 0 1 0 1 0 1 0]\n",
      " [1 0 0 0 1 1 0 1 0]\n",
      " [1 0 0 0 1 1 0 0 1]\n",
      " [1 0 0 0 1 1 0 1 0]\n",
      " [0 0 1 0 1 1 0 1 0]] \n",
      "Shape of 'X_test': (373, 9)\n"
     ]
    }
   ],
   "source": [
    "# Drop unscaled features from 'X_train' and 'X_test'\n",
    "X_train = np.delete(X_train, [0, 1, 2], axis=1)\n",
    "X_test = np.delete(X_test, [0, 1, 2], axis=1)\n",
    "\n",
    "# Run the following lines to check 'X_train' and 'X_test':\n",
    "print(\"First five rows of 'X_train':\\n\", X_train[0:5], \"\\nShape of 'X_train':\", X_train.shape)\n",
    "print(\"\\nFirst five rows of 'X_test':\\n\", X_test[0:5], \"\\nShape of 'X_test':\", X_test.shape)"
   ]
  },
  {
   "cell_type": "code",
   "execution_count": 12,
   "metadata": {},
   "outputs": [
    {
     "name": "stdout",
     "output_type": "stream",
     "text": [
      "First five rows of 'X_train':\n",
      " [[ 0.34455111  0.16926994 -0.19543851  1.          0.          0.\n",
      "   0.          1.          1.          0.          0.          1.        ]\n",
      " [-1.37658162  0.30373211  0.25277297  1.          0.          0.\n",
      "   0.          1.          1.          0.          0.          1.        ]\n",
      " [ 1.49336757  1.28425078 -0.23375586  1.          0.          0.\n",
      "   0.          1.          0.          1.          0.          1.        ]\n",
      " [ 0.56052775 -0.63465131  0.1572193   1.          0.          0.\n",
      "   0.          1.          1.          0.          0.          1.        ]\n",
      " [-2.09284211  0.50886169 -0.48479955  1.          0.          0.\n",
      "   0.          1.          1.          0.          0.          1.        ]] \n",
      "Shape of 'X_train': (1119, 12)\n",
      "\n",
      "First five rows of 'X_test':\n",
      " [[ 0.92096587  0.03526367  0.19099768  1.          0.          0.\n",
      "   1.          0.          1.          0.          1.          0.        ]\n",
      " [ 0.14786202  1.26676769 -0.1487928   1.          0.          0.\n",
      "   0.          1.          1.          0.          1.          0.        ]\n",
      " [-0.96669848  0.89394008 -0.70678035  1.          0.          0.\n",
      "   0.          1.          1.          0.          0.          1.        ]\n",
      " [ 0.7698791   0.31359979 -0.17527633  1.          0.          0.\n",
      "   0.          1.          1.          0.          1.          0.        ]\n",
      " [-0.15273068  0.35637665  0.19736284  0.          0.          1.\n",
      "   0.          1.          1.          0.          1.          0.        ]] \n",
      "Shape of 'X_test': (373, 12)\n"
     ]
    }
   ],
   "source": [
    "# Concatenate scaled features and dummy variables\n",
    "import numpy as np\n",
    "\n",
    "X_train = np.concatenate([PCA_scaled_X_train, X_train], axis=1)\n",
    "X_test = np.concatenate([PCA_scaled_X_test, X_test], axis=1)\n",
    "\n",
    "# Run the following lines to check 'X_train' and 'X_test':\n",
    "print(\"First five rows of 'X_train':\\n\", X_train[0:5], \"\\nShape of 'X_train':\", X_train.shape)\n",
    "print(\"\\nFirst five rows of 'X_test':\\n\", X_test[0:5], \"\\nShape of 'X_test':\", X_test.shape)"
   ]
  },
  {
   "attachments": {},
   "cell_type": "markdown",
   "metadata": {},
   "source": [
    "### 2.2. Training the models"
   ]
  },
  {
   "attachments": {},
   "cell_type": "markdown",
   "metadata": {},
   "source": [
    "##### 2.2.1. Dummy classifiers (baselines)"
   ]
  },
  {
   "cell_type": "code",
   "execution_count": 13,
   "metadata": {},
   "outputs": [
    {
     "name": "stdout",
     "output_type": "stream",
     "text": [
      "Mean scores for uniform random baseline with 95% confidence intervals:\n",
      "    AUPRC: 0.36 [0.33, 0.40]\n",
      "    AUROC: 0.50 [0.50, 0.50]\n",
      "    Balanced accuracy: 0.50 [0.45, 0.55]\n",
      "    Brier score loss: 0.25 [0.25, 0.25]\n",
      "    F1 score: 0.43 [0.37, 0.49]\n",
      "    Hamming loss: 0.51 [0.46, 0.55]\n",
      "    Precision: 0.36 [0.30, 0.43]\n",
      "    Recall: 0.52 [0.46, 0.58]\n"
     ]
    }
   ],
   "source": [
    "### MAKE DUMMY CLASSIFIERS (BASELINES)\n",
    "from sklearn.dummy import DummyClassifier \n",
    "from sklearn.utils import resample # For bootstrapping 'y_test' with replacement \n",
    "from sklearn.metrics import average_precision_score, roc_auc_score, balanced_accuracy_score, brier_score_loss, f1_score, hamming_loss, precision_score, recall_score  # Performance metrics\n",
    "\n",
    "### BASELINE 1 OF 3: UNIFORM RANDOM BASELINE\n",
    "uniform_rand_clf = DummyClassifier(strategy='uniform', random_state=0)\n",
    "\n",
    "# Make empty lists for storing scores generated by bootstrapping 'y_test' 100 times\n",
    "auprc_uniform_rand = []\n",
    "auroc_uniform_rand = []\n",
    "bal_acc_uniform_rand = []\n",
    "brier_uniform_rand = []\n",
    "f1_uniform_rand = []\n",
    "hamm_uniform_rand = []\n",
    "prec_uniform_rand = []\n",
    "recall_uniform_rand = []\n",
    "\n",
    "for i in range(100):\n",
    "    X_test_resampled, y_test_resampled = resample(X_test, y_test, replace=True, n_samples=len(y_test), random_state=0+i)\n",
    "    uniform_rand_clf = uniform_rand_clf.fit(X_train, y_train)\n",
    "    y_prob = uniform_rand_clf.predict_proba(X_test_resampled)[:, 1] # probability estimates of the positive class\n",
    "    y_pred = uniform_rand_clf.predict(X_test_resampled)\n",
    "    # Store the scores in the empty lists so that we can calculate the mean scores and lower and upper limits of the 95% confidence interval\n",
    "    auprc_uniform_rand.append(average_precision_score(y_test_resampled, y_prob)) # average_precision_score(y_true, y_score)\n",
    "    auroc_uniform_rand.append(roc_auc_score(y_test_resampled, y_prob)) # roc_auc_score(y_true, y_score)\n",
    "    bal_acc_uniform_rand.append(balanced_accuracy_score(y_test_resampled, y_pred)) # balanced_accuracy_score(y_true, y_pred, sample_weight=None, adjusted=False)\n",
    "    brier_uniform_rand.append(brier_score_loss(y_test_resampled, y_prob)) # brier_score_loss(y_true, y_prob)\n",
    "    f1_uniform_rand.append(f1_score(y_test_resampled, y_pred)) # f1_score(y_true, y_pred)\n",
    "    hamm_uniform_rand.append(hamming_loss(y_test_resampled, y_pred)) # hamming_loss(y_true, y_pred)\n",
    "    prec_uniform_rand.append(precision_score(y_test_resampled, y_pred)) # precision_score(y_true, y_pred)\n",
    "    recall_uniform_rand.append(recall_score(y_test_resampled, y_pred)) # recall_score(y_true, y_pred)\n",
    "\n",
    "print(\"Mean scores for uniform random baseline with 95% confidence intervals:\")\n",
    "print(\"    AUPRC: {:.2f} [{:.2f}, {:.2f}]\".format(np.mean(auprc_uniform_rand), np.percentile(auprc_uniform_rand, 2.5), np.percentile(auprc_uniform_rand, 97.5)))\n",
    "print(\"    AUROC: {:.2f} [{:.2f}, {:.2f}]\".format(np.mean(auroc_uniform_rand), np.percentile(auroc_uniform_rand, 2.5), np.percentile(auroc_uniform_rand, 97.5)))\n",
    "print(\"    Balanced accuracy: {:.2f} [{:.2f}, {:.2f}]\".format(np.mean(bal_acc_uniform_rand), np.percentile(bal_acc_uniform_rand, 2.5), np.percentile(bal_acc_uniform_rand, 97.5)))\n",
    "print(\"    Brier score loss: {:.2f} [{:.2f}, {:.2f}]\".format(np.mean(brier_uniform_rand), np.percentile(brier_uniform_rand, 2.5), np.percentile(brier_uniform_rand, 97.5)))\n",
    "print(\"    F1 score: {:.2f} [{:.2f}, {:.2f}]\".format(np.mean(f1_uniform_rand), np.percentile(f1_uniform_rand, 2.5), np.percentile(f1_uniform_rand, 97.5)))\n",
    "print(\"    Hamming loss: {:.2f} [{:.2f}, {:.2f}]\".format(np.mean(hamm_uniform_rand), np.percentile(hamm_uniform_rand, 2.5), np.percentile(hamm_uniform_rand, 97.5)))\n",
    "print(\"    Precision: {:.2f} [{:.2f}, {:.2f}]\".format(np.mean(prec_uniform_rand), np.percentile(prec_uniform_rand, 2.5), np.percentile(prec_uniform_rand, 97.5)))\n",
    "print(\"    Recall: {:.2f} [{:.2f}, {:.2f}]\".format(np.mean(recall_uniform_rand), np.percentile(recall_uniform_rand, 2.5), np.percentile(recall_uniform_rand, 97.5)))"
   ]
  },
  {
   "cell_type": "code",
   "execution_count": 14,
   "metadata": {},
   "outputs": [
    {
     "name": "stdout",
     "output_type": "stream",
     "text": [
      "Mean scores for most frequent baseline with 95% confidence intervals:\n",
      "    AUPRC: 0.36 [0.33, 0.40]\n",
      "    AUROC: 0.50 [0.50, 0.50]\n",
      "    Balanced accuracy: 0.50 [0.50, 0.50]\n",
      "    Brier score loss: 0.36 [0.33, 0.40]\n",
      "    F1 score: 0.00 [0.00, 0.00]\n",
      "    Hamming loss: 0.36 [0.33, 0.40]\n",
      "    Precision: 0.00 [0.00, 0.00]\n",
      "    Recall: 0.00 [0.00, 0.00]\n"
     ]
    }
   ],
   "source": [
    "#####################################################\n",
    "# Run this section to suppress warnings\n",
    "from sklearn.exceptions import UndefinedMetricWarning\n",
    "\n",
    "def warn(*args, **kwargs):\n",
    "    pass\n",
    "import warnings\n",
    "warnings.warn = warn\n",
    "#####################################################\n",
    "\n",
    "### BASELINE 2 OF 3: MOST FREQUENT BASELINE\n",
    "mfreq_clf = DummyClassifier(strategy='most_frequent')\n",
    "\n",
    "# Make empty lists for storing scores generated by bootstrapping 'y_test' 100 times\n",
    "auprc_mfreq = []\n",
    "auroc_mfreq = []\n",
    "bal_acc_mfreq = []\n",
    "brier_mfreq = []\n",
    "f1_mfreq = []\n",
    "hamm_mfreq = []\n",
    "prec_mfreq = []\n",
    "recall_mfreq = []\n",
    "\n",
    "for i in range(100):\n",
    "    X_test_resampled, y_test_resampled = resample(X_test, y_test, replace=True, n_samples=len(y_test), random_state=0+i)\n",
    "    mfreq_clf = mfreq_clf.fit(X_train, y_train)\n",
    "    y_prob = mfreq_clf.predict_proba(X_test_resampled)[:, 1] # probability estimates of the positive class\n",
    "    y_pred = mfreq_clf.predict(X_test_resampled)\n",
    "    # Store the scores in the empty lists so that we can calculate the mean scores and lower and upper limits of the 95% confidence interval\n",
    "    auprc_mfreq.append(average_precision_score(y_test_resampled, y_prob)) # average_precision_score(y_true, y_score)\n",
    "    auroc_mfreq.append(roc_auc_score(y_test_resampled, y_prob)) # roc_auc_score(y_true, y_score)\n",
    "    bal_acc_mfreq.append(balanced_accuracy_score(y_test_resampled, y_pred)) # balanced_accuracy_score(y_true, y_pred, sample_weight=None, adjusted=False)\n",
    "    brier_mfreq.append(brier_score_loss(y_test_resampled, y_prob)) # brier_score_loss(y_true, y_prob)\n",
    "    f1_mfreq.append(f1_score(y_test_resampled, y_pred)) # f1_score(y_true, y_pred)\n",
    "    hamm_mfreq.append(hamming_loss(y_test_resampled, y_pred)) # hamming_loss(y_true, y_pred)\n",
    "    prec_mfreq.append(precision_score(y_test_resampled, y_pred)) # precision_score(y_true, y_pred)\n",
    "    recall_mfreq.append(recall_score(y_test_resampled, y_pred)) # recall_score(y_true, y_pred)\n",
    "\n",
    "print(\"Mean scores for most frequent baseline with 95% confidence intervals:\")\n",
    "print(\"    AUPRC: {:.2f} [{:.2f}, {:.2f}]\".format(np.mean(auprc_mfreq), np.percentile(auprc_mfreq, 2.5), np.percentile(auprc_mfreq, 97.5)))\n",
    "print(\"    AUROC: {:.2f} [{:.2f}, {:.2f}]\".format(np.mean(auroc_mfreq), np.percentile(auroc_mfreq, 2.5), np.percentile(auroc_mfreq, 97.5)))\n",
    "print(\"    Balanced accuracy: {:.2f} [{:.2f}, {:.2f}]\".format(np.mean(bal_acc_mfreq), np.percentile(bal_acc_mfreq, 2.5), np.percentile(bal_acc_mfreq, 97.5)))\n",
    "print(\"    Brier score loss: {:.2f} [{:.2f}, {:.2f}]\".format(np.mean(brier_mfreq), np.percentile(brier_mfreq, 2.5), np.percentile(brier_mfreq, 97.5)))\n",
    "print(\"    F1 score: {:.2f} [{:.2f}, {:.2f}]\".format(np.mean(f1_mfreq), np.percentile(f1_mfreq, 2.5), np.percentile(f1_mfreq, 97.5)))\n",
    "print(\"    Hamming loss: {:.2f} [{:.2f}, {:.2f}]\".format(np.mean(hamm_mfreq), np.percentile(hamm_mfreq, 2.5), np.percentile(hamm_mfreq, 97.5)))\n",
    "print(\"    Precision: {:.2f} [{:.2f}, {:.2f}]\".format(np.mean(prec_mfreq), np.percentile(prec_mfreq, 2.5), np.percentile(prec_mfreq, 97.5)))\n",
    "print(\"    Recall: {:.2f} [{:.2f}, {:.2f}]\".format(np.mean(recall_mfreq), np.percentile(recall_mfreq, 2.5), np.percentile(recall_mfreq, 97.5)))"
   ]
  },
  {
   "cell_type": "code",
   "execution_count": 15,
   "metadata": {},
   "outputs": [
    {
     "name": "stdout",
     "output_type": "stream",
     "text": [
      "Mean scores for stratified random baseline with 95% confidence intervals:\n",
      "    AUPRC: 0.36 [0.32, 0.42]\n",
      "    AUROC: 0.50 [0.44, 0.55]\n",
      "    Balanced accuracy: 0.50 [0.44, 0.55]\n",
      "    Brier score loss: 0.46 [0.42, 0.51]\n",
      "    F1 score: 0.36 [0.30, 0.43]\n",
      "    Hamming loss: 0.46 [0.42, 0.51]\n",
      "    Precision: 0.36 [0.29, 0.45]\n",
      "    Recall: 0.36 [0.29, 0.42]\n"
     ]
    }
   ],
   "source": [
    "### BASELINE 3 OF 3: STRATIFIED RANDOM BASELINE\n",
    "strat_rand_clf = DummyClassifier(strategy='stratified', random_state=0)\n",
    "\n",
    "# Make empty lists for storing scores generated by bootstrapping 'y_test' 100 times\n",
    "auprc_strat_rand = []\n",
    "auroc_strat_rand = []\n",
    "bal_acc_strat_rand = []\n",
    "brier_strat_rand = []\n",
    "f1_strat_rand = []\n",
    "hamm_strat_rand = []\n",
    "prec_strat_rand = []\n",
    "recall_strat_rand = []\n",
    "\n",
    "for i in range(100):\n",
    "    X_test_resampled, y_test_resampled = resample(X_test, y_test, replace=True, n_samples=len(y_test), random_state=0+i)\n",
    "    strat_rand_clf = strat_rand_clf.fit(X_train, y_train)\n",
    "    y_prob = strat_rand_clf.predict_proba(X_test_resampled)[:, 1] # probability estimates of the positive class\n",
    "    y_pred = strat_rand_clf.predict(X_test_resampled)\n",
    "    # Store the scores in the empty lists so that we can calculate the mean scores and lower and upper limits of the 95% confidence interval\n",
    "    auprc_strat_rand.append(average_precision_score(y_test_resampled, y_prob)) # average_precision_score(y_true, y_score)\n",
    "    auroc_strat_rand.append(roc_auc_score(y_test_resampled, y_prob)) # roc_auc_score(y_true, y_score)\n",
    "    bal_acc_strat_rand.append(balanced_accuracy_score(y_test_resampled, y_pred)) # balanced_accuracy_score(y_true, y_pred, sample_weight=None, adjusted=False)\n",
    "    brier_strat_rand.append(brier_score_loss(y_test_resampled, y_prob)) # brier_score_loss(y_true, y_prob)\n",
    "    f1_strat_rand.append(f1_score(y_test_resampled, y_pred)) # f1_score(y_true, y_pred)\n",
    "    hamm_strat_rand.append(hamming_loss(y_test_resampled, y_pred)) # hamming_loss(y_true, y_pred)\n",
    "    prec_strat_rand.append(precision_score(y_test_resampled, y_pred)) # precision_score(y_true, y_pred)\n",
    "    recall_strat_rand.append(recall_score(y_test_resampled, y_pred)) # recall_score(y_true, y_pred)\n",
    "\n",
    "print(\"Mean scores for stratified random baseline with 95% confidence intervals:\")\n",
    "print(\"    AUPRC: {:.2f} [{:.2f}, {:.2f}]\".format(np.mean(auprc_strat_rand), np.percentile(auprc_strat_rand, 2.5), np.percentile(auprc_strat_rand, 97.5)))\n",
    "print(\"    AUROC: {:.2f} [{:.2f}, {:.2f}]\".format(np.mean(auroc_strat_rand), np.percentile(auroc_strat_rand, 2.5), np.percentile(auroc_strat_rand, 97.5)))\n",
    "print(\"    Balanced accuracy: {:.2f} [{:.2f}, {:.2f}]\".format(np.mean(bal_acc_strat_rand), np.percentile(bal_acc_strat_rand, 2.5), np.percentile(bal_acc_strat_rand, 97.5)))\n",
    "print(\"    Brier score loss: {:.2f} [{:.2f}, {:.2f}]\".format(np.mean(brier_strat_rand), np.percentile(brier_strat_rand, 2.5), np.percentile(brier_strat_rand, 97.5)))\n",
    "print(\"    F1 score: {:.2f} [{:.2f}, {:.2f}]\".format(np.mean(f1_strat_rand), np.percentile(f1_strat_rand, 2.5), np.percentile(f1_strat_rand, 97.5)))\n",
    "print(\"    Hamming loss: {:.2f} [{:.2f}, {:.2f}]\".format(np.mean(hamm_strat_rand), np.percentile(hamm_strat_rand, 2.5), np.percentile(hamm_strat_rand, 97.5)))\n",
    "print(\"    Precision: {:.2f} [{:.2f}, {:.2f}]\".format(np.mean(prec_strat_rand), np.percentile(prec_strat_rand, 2.5), np.percentile(prec_strat_rand, 97.5)))\n",
    "print(\"    Recall: {:.2f} [{:.2f}, {:.2f}]\".format(np.mean(recall_strat_rand), np.percentile(recall_strat_rand, 2.5), np.percentile(recall_strat_rand, 97.5)))"
   ]
  },
  {
   "attachments": {},
   "cell_type": "markdown",
   "metadata": {},
   "source": [
    "##### 2.2.2. Logistic regression classifier"
   ]
  },
  {
   "cell_type": "code",
   "execution_count": 16,
   "metadata": {},
   "outputs": [
    {
     "data": {
      "text/html": [
       "<style>#sk-container-id-1 {color: black;background-color: white;}#sk-container-id-1 pre{padding: 0;}#sk-container-id-1 div.sk-toggleable {background-color: white;}#sk-container-id-1 label.sk-toggleable__label {cursor: pointer;display: block;width: 100%;margin-bottom: 0;padding: 0.3em;box-sizing: border-box;text-align: center;}#sk-container-id-1 label.sk-toggleable__label-arrow:before {content: \"▸\";float: left;margin-right: 0.25em;color: #696969;}#sk-container-id-1 label.sk-toggleable__label-arrow:hover:before {color: black;}#sk-container-id-1 div.sk-estimator:hover label.sk-toggleable__label-arrow:before {color: black;}#sk-container-id-1 div.sk-toggleable__content {max-height: 0;max-width: 0;overflow: hidden;text-align: left;background-color: #f0f8ff;}#sk-container-id-1 div.sk-toggleable__content pre {margin: 0.2em;color: black;border-radius: 0.25em;background-color: #f0f8ff;}#sk-container-id-1 input.sk-toggleable__control:checked~div.sk-toggleable__content {max-height: 200px;max-width: 100%;overflow: auto;}#sk-container-id-1 input.sk-toggleable__control:checked~label.sk-toggleable__label-arrow:before {content: \"▾\";}#sk-container-id-1 div.sk-estimator input.sk-toggleable__control:checked~label.sk-toggleable__label {background-color: #d4ebff;}#sk-container-id-1 div.sk-label input.sk-toggleable__control:checked~label.sk-toggleable__label {background-color: #d4ebff;}#sk-container-id-1 input.sk-hidden--visually {border: 0;clip: rect(1px 1px 1px 1px);clip: rect(1px, 1px, 1px, 1px);height: 1px;margin: -1px;overflow: hidden;padding: 0;position: absolute;width: 1px;}#sk-container-id-1 div.sk-estimator {font-family: monospace;background-color: #f0f8ff;border: 1px dotted black;border-radius: 0.25em;box-sizing: border-box;margin-bottom: 0.5em;}#sk-container-id-1 div.sk-estimator:hover {background-color: #d4ebff;}#sk-container-id-1 div.sk-parallel-item::after {content: \"\";width: 100%;border-bottom: 1px solid gray;flex-grow: 1;}#sk-container-id-1 div.sk-label:hover label.sk-toggleable__label {background-color: #d4ebff;}#sk-container-id-1 div.sk-serial::before {content: \"\";position: absolute;border-left: 1px solid gray;box-sizing: border-box;top: 0;bottom: 0;left: 50%;z-index: 0;}#sk-container-id-1 div.sk-serial {display: flex;flex-direction: column;align-items: center;background-color: white;padding-right: 0.2em;padding-left: 0.2em;position: relative;}#sk-container-id-1 div.sk-item {position: relative;z-index: 1;}#sk-container-id-1 div.sk-parallel {display: flex;align-items: stretch;justify-content: center;background-color: white;position: relative;}#sk-container-id-1 div.sk-item::before, #sk-container-id-1 div.sk-parallel-item::before {content: \"\";position: absolute;border-left: 1px solid gray;box-sizing: border-box;top: 0;bottom: 0;left: 50%;z-index: -1;}#sk-container-id-1 div.sk-parallel-item {display: flex;flex-direction: column;z-index: 1;position: relative;background-color: white;}#sk-container-id-1 div.sk-parallel-item:first-child::after {align-self: flex-end;width: 50%;}#sk-container-id-1 div.sk-parallel-item:last-child::after {align-self: flex-start;width: 50%;}#sk-container-id-1 div.sk-parallel-item:only-child::after {width: 0;}#sk-container-id-1 div.sk-dashed-wrapped {border: 1px dashed gray;margin: 0 0.4em 0.5em 0.4em;box-sizing: border-box;padding-bottom: 0.4em;background-color: white;}#sk-container-id-1 div.sk-label label {font-family: monospace;font-weight: bold;display: inline-block;line-height: 1.2em;}#sk-container-id-1 div.sk-label-container {text-align: center;}#sk-container-id-1 div.sk-container {/* jupyter's `normalize.less` sets `[hidden] { display: none; }` but bootstrap.min.css set `[hidden] { display: none !important; }` so we also need the `!important` here to be able to override the default hidden behavior on the sphinx rendered scikit-learn.org. See: https://github.com/scikit-learn/scikit-learn/issues/21755 */display: inline-block !important;position: relative;}#sk-container-id-1 div.sk-text-repr-fallback {display: none;}</style><div id=\"sk-container-id-1\" class=\"sk-top-container\"><div class=\"sk-text-repr-fallback\"><pre>GridSearchCV(cv=StratifiedKFold(n_splits=10, random_state=0, shuffle=True),\n",
       "             estimator=LogisticRegression(class_weight=&#x27;balanced&#x27;,\n",
       "                                          max_iter=500),\n",
       "             n_jobs=-1,\n",
       "             param_grid={&#x27;C&#x27;: [0.0001, 0.001, 0.01, 0.1, 1, 10, 1000]},\n",
       "             return_train_score=True, scoring=&#x27;average_precision&#x27;)</pre><b>In a Jupyter environment, please rerun this cell to show the HTML representation or trust the notebook. <br />On GitHub, the HTML representation is unable to render, please try loading this page with nbviewer.org.</b></div><div class=\"sk-container\" hidden><div class=\"sk-item sk-dashed-wrapped\"><div class=\"sk-label-container\"><div class=\"sk-label sk-toggleable\"><input class=\"sk-toggleable__control sk-hidden--visually\" id=\"sk-estimator-id-1\" type=\"checkbox\" ><label for=\"sk-estimator-id-1\" class=\"sk-toggleable__label sk-toggleable__label-arrow\">GridSearchCV</label><div class=\"sk-toggleable__content\"><pre>GridSearchCV(cv=StratifiedKFold(n_splits=10, random_state=0, shuffle=True),\n",
       "             estimator=LogisticRegression(class_weight=&#x27;balanced&#x27;,\n",
       "                                          max_iter=500),\n",
       "             n_jobs=-1,\n",
       "             param_grid={&#x27;C&#x27;: [0.0001, 0.001, 0.01, 0.1, 1, 10, 1000]},\n",
       "             return_train_score=True, scoring=&#x27;average_precision&#x27;)</pre></div></div></div><div class=\"sk-parallel\"><div class=\"sk-parallel-item\"><div class=\"sk-item\"><div class=\"sk-label-container\"><div class=\"sk-label sk-toggleable\"><input class=\"sk-toggleable__control sk-hidden--visually\" id=\"sk-estimator-id-2\" type=\"checkbox\" ><label for=\"sk-estimator-id-2\" class=\"sk-toggleable__label sk-toggleable__label-arrow\">estimator: LogisticRegression</label><div class=\"sk-toggleable__content\"><pre>LogisticRegression(class_weight=&#x27;balanced&#x27;, max_iter=500)</pre></div></div></div><div class=\"sk-serial\"><div class=\"sk-item\"><div class=\"sk-estimator sk-toggleable\"><input class=\"sk-toggleable__control sk-hidden--visually\" id=\"sk-estimator-id-3\" type=\"checkbox\" ><label for=\"sk-estimator-id-3\" class=\"sk-toggleable__label sk-toggleable__label-arrow\">LogisticRegression</label><div class=\"sk-toggleable__content\"><pre>LogisticRegression(class_weight=&#x27;balanced&#x27;, max_iter=500)</pre></div></div></div></div></div></div></div></div></div></div>"
      ],
      "text/plain": [
       "GridSearchCV(cv=StratifiedKFold(n_splits=10, random_state=0, shuffle=True),\n",
       "             estimator=LogisticRegression(class_weight='balanced',\n",
       "                                          max_iter=500),\n",
       "             n_jobs=-1,\n",
       "             param_grid={'C': [0.0001, 0.001, 0.01, 0.1, 1, 10, 1000]},\n",
       "             return_train_score=True, scoring='average_precision')"
      ]
     },
     "execution_count": 16,
     "metadata": {},
     "output_type": "execute_result"
    }
   ],
   "source": [
    "### LOGISTIC REGRESSION CLASSIFIER\n",
    "# GRID SEARCH WITH STRATIFIED 10-FOLD CROSS-VALIDATION\n",
    "from sklearn.linear_model import LogisticRegression\n",
    "from sklearn.model_selection import GridSearchCV, StratifiedKFold\n",
    "\n",
    "p_grid_LR = {'C': [0.0001, 0.001, 0.01, 0.1, 1, 10, 1000]}\n",
    "\n",
    "gs_LR = GridSearchCV(\n",
    "    estimator=LogisticRegression(class_weight='balanced', max_iter=500),\n",
    "    param_grid=p_grid_LR,\n",
    "    scoring='average_precision',\n",
    "    n_jobs=-1,\n",
    "    refit=True,\n",
    "    cv=StratifiedKFold(n_splits=10, shuffle=True, random_state=0),\n",
    "    return_train_score=True)\n",
    "\n",
    "gs_LR.fit(X_train, np.ravel(y_train))"
   ]
  },
  {
   "cell_type": "code",
   "execution_count": 17,
   "metadata": {},
   "outputs": [
    {
     "name": "stdout",
     "output_type": "stream",
     "text": [
      "Best AUPRC score (mean cross-validated score of best estimator): 0.7988385178897375\n",
      "Best parameters for logistic regression classifier: {'C': 0.1}\n",
      "\n",
      "Performance of logistic regression classifier on training set:\n",
      "    AUPRC: 0.7964273386775098\n",
      "    AUROC: 0.8726223670043894\n",
      "    Balanced accuracy: 0.7918208044612539\n",
      "    Brier score loss: 0.1451034708859745\n",
      "    F1 score: 0.7345537757437072\n",
      "    Hamming loss: 0.20732797140303844\n",
      "    Precision: 0.6873661670235546\n",
      "    Recall: 0.7886977886977887\n"
     ]
    }
   ],
   "source": [
    "# print(gs_LR.cv_results_)\n",
    "print(\"Best AUPRC score (mean cross-validated score of best estimator): {}\". format(gs_LR.best_score_))\n",
    "print(\"Best parameters for logistic regression classifier: {}\".format(gs_LR.best_params_)) # Parameter setting that gave the best results on the hold out data.\n",
    "\n",
    "# Obtain performance of logistic regression classifier on training set\n",
    "LR_clf = gs_LR.best_estimator_.fit(X_train, np.ravel(y_train)) # also performed by 'GridSearchCV(refit=True)'\n",
    "y_prob = LR_clf.predict_proba(X_train)[:, 1] # probability estimates of the positive class\n",
    "y_pred = LR_clf.predict(X_train)\n",
    "\n",
    "print(\"\\nPerformance of logistic regression classifier on training set:\")\n",
    "print(\"    AUPRC: {}\".format(average_precision_score(y_train, y_prob)))\n",
    "print(\"    AUROC: {}\".format(roc_auc_score(y_train, y_prob)))\n",
    "print(\"    Balanced accuracy: {}\".format(balanced_accuracy_score(y_train, y_pred)))\n",
    "print(\"    Brier score loss: {}\".format(brier_score_loss(y_train, y_prob)))\n",
    "print(\"    F1 score: {}\".format(f1_score(y_train, y_pred)))\n",
    "print(\"    Hamming loss: {}\".format(hamming_loss(y_train, y_pred)))\n",
    "print(\"    Precision: {}\".format(precision_score(y_train, y_pred)))\n",
    "print(\"    Recall: {}\".format(recall_score(y_train, y_pred)))"
   ]
  },
  {
   "cell_type": "code",
   "execution_count": 18,
   "metadata": {},
   "outputs": [
    {
     "name": "stdout",
     "output_type": "stream",
     "text": [
      "Mean scores for logistic regression classifier with 95% confidence intervals:\n",
      "    AUPRC: 0.76 [0.69, 0.81]\n",
      "    AUROC: 0.85 [0.80, 0.88]\n",
      "    Balanced accuracy: 0.77 [0.72, 0.80]\n",
      "    Brier score loss: 0.16 [0.14, 0.18]\n",
      "    F1 score: 0.71 [0.65, 0.75]\n",
      "    Hamming loss: 0.23 [0.19, 0.26]\n",
      "    Precision: 0.67 [0.60, 0.73]\n",
      "    Recall: 0.75 [0.67, 0.82]\n"
     ]
    }
   ],
   "source": [
    "# print(gs_LR.best_estimator_.score(X_test, y_test))\n",
    "\n",
    "# Make empty lists for storing scores generated by bootstrapping 'y_test' 100 times\n",
    "auprc_LR = []\n",
    "auroc_LR = []\n",
    "bal_acc_LR = []\n",
    "brier_LR = []\n",
    "f1_LR = []\n",
    "hamm_LR = []\n",
    "prec_LR = []\n",
    "recall_LR = []\n",
    "\n",
    "for i in range(100):\n",
    "    X_test_resampled, y_test_resampled = resample(X_test, y_test, replace=True, n_samples=len(y_test), random_state=0+i)\n",
    "    y_prob = LR_clf.predict_proba(X_test_resampled)[:, 1] # probability estimates of the positive class\n",
    "    y_pred = LR_clf.predict(X_test_resampled)\n",
    "    # Store the scores in the empty lists so that we can calculate the mean scores and lower and upper limits of the 95% confidence interval\n",
    "    auprc_LR.append(average_precision_score(y_test_resampled, y_prob)) # average_precision_score(y_true, y_score)\n",
    "    auroc_LR.append(roc_auc_score(y_test_resampled, y_prob)) # roc_auc_score(y_true, y_score)\n",
    "    bal_acc_LR.append(balanced_accuracy_score(y_test_resampled, y_pred)) # balanced_accuracy_score(y_true, y_pred, sample_weight=None, adjusted=False)\n",
    "    brier_LR.append(brier_score_loss(y_test_resampled, y_prob)) # brier_score_loss(y_true, y_prob)\n",
    "    f1_LR.append(f1_score(y_test_resampled, y_pred)) # f1_score(y_true, y_pred)\n",
    "    hamm_LR.append(hamming_loss(y_test_resampled, y_pred)) # hamming_loss(y_true, y_pred)\n",
    "    prec_LR.append(precision_score(y_test_resampled, y_pred)) # precision_score(y_true, y_pred)\n",
    "    recall_LR.append(recall_score(y_test_resampled, y_pred)) # recall_score(y_true, y_pred)\n",
    "\n",
    "print(\"Mean scores for logistic regression classifier with 95% confidence intervals:\")\n",
    "print(\"    AUPRC: {:.2f} [{:.2f}, {:.2f}]\".format(np.mean(auprc_LR), np.percentile(auprc_LR, 2.5), np.percentile(auprc_LR, 97.5)))\n",
    "print(\"    AUROC: {:.2f} [{:.2f}, {:.2f}]\".format(np.mean(auroc_LR), np.percentile(auroc_LR, 2.5), np.percentile(auroc_LR, 97.5)))\n",
    "print(\"    Balanced accuracy: {:.2f} [{:.2f}, {:.2f}]\".format(np.mean(bal_acc_LR), np.percentile(bal_acc_LR, 2.5), np.percentile(bal_acc_LR, 97.5)))\n",
    "print(\"    Brier score loss: {:.2f} [{:.2f}, {:.2f}]\".format(np.mean(brier_LR), np.percentile(brier_LR, 2.5), np.percentile(brier_LR, 97.5)))\n",
    "print(\"    F1 score: {:.2f} [{:.2f}, {:.2f}]\".format(np.mean(f1_LR), np.percentile(f1_LR, 2.5), np.percentile(f1_LR, 97.5)))\n",
    "print(\"    Hamming loss: {:.2f} [{:.2f}, {:.2f}]\".format(np.mean(hamm_LR), np.percentile(hamm_LR, 2.5), np.percentile(hamm_LR, 97.5)))\n",
    "print(\"    Precision: {:.2f} [{:.2f}, {:.2f}]\".format(np.mean(prec_LR), np.percentile(prec_LR, 2.5), np.percentile(prec_LR, 97.5)))\n",
    "print(\"    Recall: {:.2f} [{:.2f}, {:.2f}]\".format(np.mean(recall_LR), np.percentile(recall_LR, 2.5), np.percentile(recall_LR, 97.5)))"
   ]
  },
  {
   "attachments": {},
   "cell_type": "markdown",
   "metadata": {},
   "source": [
    "##### 2.2.3. Random forest classifier"
   ]
  },
  {
   "cell_type": "code",
   "execution_count": 19,
   "metadata": {},
   "outputs": [
    {
     "data": {
      "text/html": [
       "<style>#sk-container-id-2 {color: black;background-color: white;}#sk-container-id-2 pre{padding: 0;}#sk-container-id-2 div.sk-toggleable {background-color: white;}#sk-container-id-2 label.sk-toggleable__label {cursor: pointer;display: block;width: 100%;margin-bottom: 0;padding: 0.3em;box-sizing: border-box;text-align: center;}#sk-container-id-2 label.sk-toggleable__label-arrow:before {content: \"▸\";float: left;margin-right: 0.25em;color: #696969;}#sk-container-id-2 label.sk-toggleable__label-arrow:hover:before {color: black;}#sk-container-id-2 div.sk-estimator:hover label.sk-toggleable__label-arrow:before {color: black;}#sk-container-id-2 div.sk-toggleable__content {max-height: 0;max-width: 0;overflow: hidden;text-align: left;background-color: #f0f8ff;}#sk-container-id-2 div.sk-toggleable__content pre {margin: 0.2em;color: black;border-radius: 0.25em;background-color: #f0f8ff;}#sk-container-id-2 input.sk-toggleable__control:checked~div.sk-toggleable__content {max-height: 200px;max-width: 100%;overflow: auto;}#sk-container-id-2 input.sk-toggleable__control:checked~label.sk-toggleable__label-arrow:before {content: \"▾\";}#sk-container-id-2 div.sk-estimator input.sk-toggleable__control:checked~label.sk-toggleable__label {background-color: #d4ebff;}#sk-container-id-2 div.sk-label input.sk-toggleable__control:checked~label.sk-toggleable__label {background-color: #d4ebff;}#sk-container-id-2 input.sk-hidden--visually {border: 0;clip: rect(1px 1px 1px 1px);clip: rect(1px, 1px, 1px, 1px);height: 1px;margin: -1px;overflow: hidden;padding: 0;position: absolute;width: 1px;}#sk-container-id-2 div.sk-estimator {font-family: monospace;background-color: #f0f8ff;border: 1px dotted black;border-radius: 0.25em;box-sizing: border-box;margin-bottom: 0.5em;}#sk-container-id-2 div.sk-estimator:hover {background-color: #d4ebff;}#sk-container-id-2 div.sk-parallel-item::after {content: \"\";width: 100%;border-bottom: 1px solid gray;flex-grow: 1;}#sk-container-id-2 div.sk-label:hover label.sk-toggleable__label {background-color: #d4ebff;}#sk-container-id-2 div.sk-serial::before {content: \"\";position: absolute;border-left: 1px solid gray;box-sizing: border-box;top: 0;bottom: 0;left: 50%;z-index: 0;}#sk-container-id-2 div.sk-serial {display: flex;flex-direction: column;align-items: center;background-color: white;padding-right: 0.2em;padding-left: 0.2em;position: relative;}#sk-container-id-2 div.sk-item {position: relative;z-index: 1;}#sk-container-id-2 div.sk-parallel {display: flex;align-items: stretch;justify-content: center;background-color: white;position: relative;}#sk-container-id-2 div.sk-item::before, #sk-container-id-2 div.sk-parallel-item::before {content: \"\";position: absolute;border-left: 1px solid gray;box-sizing: border-box;top: 0;bottom: 0;left: 50%;z-index: -1;}#sk-container-id-2 div.sk-parallel-item {display: flex;flex-direction: column;z-index: 1;position: relative;background-color: white;}#sk-container-id-2 div.sk-parallel-item:first-child::after {align-self: flex-end;width: 50%;}#sk-container-id-2 div.sk-parallel-item:last-child::after {align-self: flex-start;width: 50%;}#sk-container-id-2 div.sk-parallel-item:only-child::after {width: 0;}#sk-container-id-2 div.sk-dashed-wrapped {border: 1px dashed gray;margin: 0 0.4em 0.5em 0.4em;box-sizing: border-box;padding-bottom: 0.4em;background-color: white;}#sk-container-id-2 div.sk-label label {font-family: monospace;font-weight: bold;display: inline-block;line-height: 1.2em;}#sk-container-id-2 div.sk-label-container {text-align: center;}#sk-container-id-2 div.sk-container {/* jupyter's `normalize.less` sets `[hidden] { display: none; }` but bootstrap.min.css set `[hidden] { display: none !important; }` so we also need the `!important` here to be able to override the default hidden behavior on the sphinx rendered scikit-learn.org. See: https://github.com/scikit-learn/scikit-learn/issues/21755 */display: inline-block !important;position: relative;}#sk-container-id-2 div.sk-text-repr-fallback {display: none;}</style><div id=\"sk-container-id-2\" class=\"sk-top-container\"><div class=\"sk-text-repr-fallback\"><pre>GridSearchCV(cv=StratifiedKFold(n_splits=10, random_state=0, shuffle=True),\n",
       "             estimator=RandomForestClassifier(random_state=0), n_jobs=-1,\n",
       "             param_grid={&#x27;n_estimators&#x27;: [100, 500, 1000, 5000, 10000]},\n",
       "             return_train_score=True, scoring=&#x27;average_precision&#x27;)</pre><b>In a Jupyter environment, please rerun this cell to show the HTML representation or trust the notebook. <br />On GitHub, the HTML representation is unable to render, please try loading this page with nbviewer.org.</b></div><div class=\"sk-container\" hidden><div class=\"sk-item sk-dashed-wrapped\"><div class=\"sk-label-container\"><div class=\"sk-label sk-toggleable\"><input class=\"sk-toggleable__control sk-hidden--visually\" id=\"sk-estimator-id-4\" type=\"checkbox\" ><label for=\"sk-estimator-id-4\" class=\"sk-toggleable__label sk-toggleable__label-arrow\">GridSearchCV</label><div class=\"sk-toggleable__content\"><pre>GridSearchCV(cv=StratifiedKFold(n_splits=10, random_state=0, shuffle=True),\n",
       "             estimator=RandomForestClassifier(random_state=0), n_jobs=-1,\n",
       "             param_grid={&#x27;n_estimators&#x27;: [100, 500, 1000, 5000, 10000]},\n",
       "             return_train_score=True, scoring=&#x27;average_precision&#x27;)</pre></div></div></div><div class=\"sk-parallel\"><div class=\"sk-parallel-item\"><div class=\"sk-item\"><div class=\"sk-label-container\"><div class=\"sk-label sk-toggleable\"><input class=\"sk-toggleable__control sk-hidden--visually\" id=\"sk-estimator-id-5\" type=\"checkbox\" ><label for=\"sk-estimator-id-5\" class=\"sk-toggleable__label sk-toggleable__label-arrow\">estimator: RandomForestClassifier</label><div class=\"sk-toggleable__content\"><pre>RandomForestClassifier(random_state=0)</pre></div></div></div><div class=\"sk-serial\"><div class=\"sk-item\"><div class=\"sk-estimator sk-toggleable\"><input class=\"sk-toggleable__control sk-hidden--visually\" id=\"sk-estimator-id-6\" type=\"checkbox\" ><label for=\"sk-estimator-id-6\" class=\"sk-toggleable__label sk-toggleable__label-arrow\">RandomForestClassifier</label><div class=\"sk-toggleable__content\"><pre>RandomForestClassifier(random_state=0)</pre></div></div></div></div></div></div></div></div></div></div>"
      ],
      "text/plain": [
       "GridSearchCV(cv=StratifiedKFold(n_splits=10, random_state=0, shuffle=True),\n",
       "             estimator=RandomForestClassifier(random_state=0), n_jobs=-1,\n",
       "             param_grid={'n_estimators': [100, 500, 1000, 5000, 10000]},\n",
       "             return_train_score=True, scoring='average_precision')"
      ]
     },
     "execution_count": 19,
     "metadata": {},
     "output_type": "execute_result"
    }
   ],
   "source": [
    "### RANDOM FOREST CLASSIFIER\n",
    "# GRID SEARCH WITH STRATIFIED 10-FOLD CROSS-VALIDATION\n",
    "from sklearn.ensemble import RandomForestClassifier\n",
    "\n",
    "p_grid_RF = {'n_estimators': [100, 500, 1000, 5000, 10000]}\n",
    "\n",
    "gs_RF = GridSearchCV(\n",
    "    estimator=RandomForestClassifier(random_state=0),\n",
    "    param_grid=p_grid_RF,\n",
    "    scoring='average_precision',\n",
    "    n_jobs=-1,\n",
    "    refit=True,\n",
    "    cv=StratifiedKFold(n_splits=10, shuffle=True, random_state=0),\n",
    "    return_train_score=True)\n",
    "\n",
    "gs_RF.fit(X_train, np.ravel(y_train))"
   ]
  },
  {
   "cell_type": "code",
   "execution_count": 20,
   "metadata": {},
   "outputs": [
    {
     "name": "stdout",
     "output_type": "stream",
     "text": [
      "Best AUPRC score (mean cross-validated score of best estimator): 0.7528264771394173\n",
      "Best parameters for random forest classifier: {'n_estimators': 500}\n",
      "\n",
      "Performance of random forest classifier on training set:\n",
      "    AUPRC: 0.9994912565855065\n",
      "    AUROC: 0.9997204814620544\n",
      "    Balanced accuracy: 0.9880652485989565\n",
      "    Brier score loss: 0.024884607804187775\n",
      "    F1 score: 0.9864029666254635\n",
      "    Hamming loss: 0.009830205540661306\n",
      "    Precision: 0.9925373134328358\n",
      "    Recall: 0.9803439803439803\n"
     ]
    }
   ],
   "source": [
    "# print(gs_RF.cv_results_)\n",
    "print(\"Best AUPRC score (mean cross-validated score of best estimator): {}\". format(gs_RF.best_score_))\n",
    "print(\"Best parameters for random forest classifier: {}\".format(gs_RF.best_params_)) # Parameter setting that gave the best results on the hold out data.\n",
    "\n",
    "# Obtain performance of random forest classifier on training set\n",
    "RF_clf = gs_RF.best_estimator_.fit(X_train, np.ravel(y_train)) # also performed by 'GridSearchCV(refit=True)'\n",
    "y_prob = RF_clf.predict_proba(X_train)[:, 1] # probability estimates of the positive class\n",
    "y_pred = RF_clf.predict(X_train)\n",
    "\n",
    "print(\"\\nPerformance of random forest classifier on training set:\")\n",
    "print(\"    AUPRC: {}\".format(average_precision_score(y_train, y_prob)))\n",
    "print(\"    AUROC: {}\".format(roc_auc_score(y_train, y_prob)))\n",
    "print(\"    Balanced accuracy: {}\".format(balanced_accuracy_score(y_train, y_pred)))\n",
    "print(\"    Brier score loss: {}\".format(brier_score_loss(y_train, y_prob)))\n",
    "print(\"    F1 score: {}\".format(f1_score(y_train, y_pred)))\n",
    "print(\"    Hamming loss: {}\".format(hamming_loss(y_train, y_pred)))\n",
    "print(\"    Precision: {}\".format(precision_score(y_train, y_pred)))\n",
    "print(\"    Recall: {}\".format(recall_score(y_train, y_pred)))"
   ]
  },
  {
   "cell_type": "code",
   "execution_count": 21,
   "metadata": {},
   "outputs": [
    {
     "name": "stdout",
     "output_type": "stream",
     "text": [
      "Mean scores for random forest classifier with 95% confidence intervals:\n",
      "    AUPRC: 0.72 [0.65, 0.80]\n",
      "    AUROC: 0.82 [0.78, 0.86]\n",
      "    Balanced accuracy: 0.74 [0.70, 0.77]\n",
      "    Brier score loss: 0.16 [0.14, 0.19]\n",
      "    F1 score: 0.66 [0.59, 0.72]\n",
      "    Hamming loss: 0.24 [0.21, 0.28]\n",
      "    Precision: 0.68 [0.62, 0.76]\n",
      "    Recall: 0.65 [0.58, 0.73]\n"
     ]
    }
   ],
   "source": [
    "# print(gs_RF.best_estimator_.score(X_test, y_test))\n",
    "\n",
    "# Make empty lists for storing scores generated by bootstrapping 'y_test' 100 times\n",
    "auprc_RF = []\n",
    "auroc_RF = []\n",
    "bal_acc_RF = []\n",
    "brier_RF = []\n",
    "f1_RF = []\n",
    "hamm_RF = []\n",
    "prec_RF = []\n",
    "recall_RF = []\n",
    "\n",
    "for i in range(100):\n",
    "    X_test_resampled, y_test_resampled = resample(X_test, y_test, replace=True, n_samples=len(y_test), random_state=0+i)\n",
    "    y_prob = RF_clf.predict_proba(X_test_resampled)[:, 1] # probability estimates of the positive class\n",
    "    y_pred = RF_clf.predict(X_test_resampled)\n",
    "    # Store the scores in the empty lists so that we can calculate the mean scores and lower and upper limits of the 95% confidence interval\n",
    "    auprc_RF.append(average_precision_score(y_test_resampled, y_prob)) # average_precision_score(y_true, y_score)\n",
    "    auroc_RF.append(roc_auc_score(y_test_resampled, y_prob)) # roc_auc_score(y_true, y_score)\n",
    "    bal_acc_RF.append(balanced_accuracy_score(y_test_resampled, y_pred)) # balanced_accuracy_score(y_true, y_pred, sample_weight=None, adjusted=False)\n",
    "    brier_RF.append(brier_score_loss(y_test_resampled, y_prob)) # brier_score_loss(y_true, y_prob)\n",
    "    f1_RF.append(f1_score(y_test_resampled, y_pred)) # f1_score(y_true, y_pred)\n",
    "    hamm_RF.append(hamming_loss(y_test_resampled, y_pred)) # hamming_loss(y_true, y_pred)\n",
    "    prec_RF.append(precision_score(y_test_resampled, y_pred)) # precision_score(y_true, y_pred)\n",
    "    recall_RF.append(recall_score(y_test_resampled, y_pred)) # recall_score(y_true, y_pred)\n",
    "\n",
    "print(\"Mean scores for random forest classifier with 95% confidence intervals:\")\n",
    "print(\"    AUPRC: {:.2f} [{:.2f}, {:.2f}]\".format(np.mean(auprc_RF), np.percentile(auprc_RF, 2.5), np.percentile(auprc_RF, 97.5)))\n",
    "print(\"    AUROC: {:.2f} [{:.2f}, {:.2f}]\".format(np.mean(auroc_RF), np.percentile(auroc_RF, 2.5), np.percentile(auroc_RF, 97.5)))\n",
    "print(\"    Balanced accuracy: {:.2f} [{:.2f}, {:.2f}]\".format(np.mean(bal_acc_RF), np.percentile(bal_acc_RF, 2.5), np.percentile(bal_acc_RF, 97.5)))\n",
    "print(\"    Brier score loss: {:.2f} [{:.2f}, {:.2f}]\".format(np.mean(brier_RF), np.percentile(brier_RF, 2.5), np.percentile(brier_RF, 97.5)))\n",
    "print(\"    F1 score: {:.2f} [{:.2f}, {:.2f}]\".format(np.mean(f1_RF), np.percentile(f1_RF, 2.5), np.percentile(f1_RF, 97.5)))\n",
    "print(\"    Hamming loss: {:.2f} [{:.2f}, {:.2f}]\".format(np.mean(hamm_RF), np.percentile(hamm_RF, 2.5), np.percentile(hamm_RF, 97.5)))\n",
    "print(\"    Precision: {:.2f} [{:.2f}, {:.2f}]\".format(np.mean(prec_RF), np.percentile(prec_RF, 2.5), np.percentile(prec_RF, 97.5)))\n",
    "print(\"    Recall: {:.2f} [{:.2f}, {:.2f}]\".format(np.mean(recall_RF), np.percentile(recall_RF, 2.5), np.percentile(recall_RF, 97.5)))"
   ]
  },
  {
   "attachments": {},
   "cell_type": "markdown",
   "metadata": {},
   "source": [
    "##### 2.2.4. SVM classifier"
   ]
  },
  {
   "cell_type": "code",
   "execution_count": 22,
   "metadata": {},
   "outputs": [
    {
     "data": {
      "text/html": [
       "<style>#sk-container-id-3 {color: black;background-color: white;}#sk-container-id-3 pre{padding: 0;}#sk-container-id-3 div.sk-toggleable {background-color: white;}#sk-container-id-3 label.sk-toggleable__label {cursor: pointer;display: block;width: 100%;margin-bottom: 0;padding: 0.3em;box-sizing: border-box;text-align: center;}#sk-container-id-3 label.sk-toggleable__label-arrow:before {content: \"▸\";float: left;margin-right: 0.25em;color: #696969;}#sk-container-id-3 label.sk-toggleable__label-arrow:hover:before {color: black;}#sk-container-id-3 div.sk-estimator:hover label.sk-toggleable__label-arrow:before {color: black;}#sk-container-id-3 div.sk-toggleable__content {max-height: 0;max-width: 0;overflow: hidden;text-align: left;background-color: #f0f8ff;}#sk-container-id-3 div.sk-toggleable__content pre {margin: 0.2em;color: black;border-radius: 0.25em;background-color: #f0f8ff;}#sk-container-id-3 input.sk-toggleable__control:checked~div.sk-toggleable__content {max-height: 200px;max-width: 100%;overflow: auto;}#sk-container-id-3 input.sk-toggleable__control:checked~label.sk-toggleable__label-arrow:before {content: \"▾\";}#sk-container-id-3 div.sk-estimator input.sk-toggleable__control:checked~label.sk-toggleable__label {background-color: #d4ebff;}#sk-container-id-3 div.sk-label input.sk-toggleable__control:checked~label.sk-toggleable__label {background-color: #d4ebff;}#sk-container-id-3 input.sk-hidden--visually {border: 0;clip: rect(1px 1px 1px 1px);clip: rect(1px, 1px, 1px, 1px);height: 1px;margin: -1px;overflow: hidden;padding: 0;position: absolute;width: 1px;}#sk-container-id-3 div.sk-estimator {font-family: monospace;background-color: #f0f8ff;border: 1px dotted black;border-radius: 0.25em;box-sizing: border-box;margin-bottom: 0.5em;}#sk-container-id-3 div.sk-estimator:hover {background-color: #d4ebff;}#sk-container-id-3 div.sk-parallel-item::after {content: \"\";width: 100%;border-bottom: 1px solid gray;flex-grow: 1;}#sk-container-id-3 div.sk-label:hover label.sk-toggleable__label {background-color: #d4ebff;}#sk-container-id-3 div.sk-serial::before {content: \"\";position: absolute;border-left: 1px solid gray;box-sizing: border-box;top: 0;bottom: 0;left: 50%;z-index: 0;}#sk-container-id-3 div.sk-serial {display: flex;flex-direction: column;align-items: center;background-color: white;padding-right: 0.2em;padding-left: 0.2em;position: relative;}#sk-container-id-3 div.sk-item {position: relative;z-index: 1;}#sk-container-id-3 div.sk-parallel {display: flex;align-items: stretch;justify-content: center;background-color: white;position: relative;}#sk-container-id-3 div.sk-item::before, #sk-container-id-3 div.sk-parallel-item::before {content: \"\";position: absolute;border-left: 1px solid gray;box-sizing: border-box;top: 0;bottom: 0;left: 50%;z-index: -1;}#sk-container-id-3 div.sk-parallel-item {display: flex;flex-direction: column;z-index: 1;position: relative;background-color: white;}#sk-container-id-3 div.sk-parallel-item:first-child::after {align-self: flex-end;width: 50%;}#sk-container-id-3 div.sk-parallel-item:last-child::after {align-self: flex-start;width: 50%;}#sk-container-id-3 div.sk-parallel-item:only-child::after {width: 0;}#sk-container-id-3 div.sk-dashed-wrapped {border: 1px dashed gray;margin: 0 0.4em 0.5em 0.4em;box-sizing: border-box;padding-bottom: 0.4em;background-color: white;}#sk-container-id-3 div.sk-label label {font-family: monospace;font-weight: bold;display: inline-block;line-height: 1.2em;}#sk-container-id-3 div.sk-label-container {text-align: center;}#sk-container-id-3 div.sk-container {/* jupyter's `normalize.less` sets `[hidden] { display: none; }` but bootstrap.min.css set `[hidden] { display: none !important; }` so we also need the `!important` here to be able to override the default hidden behavior on the sphinx rendered scikit-learn.org. See: https://github.com/scikit-learn/scikit-learn/issues/21755 */display: inline-block !important;position: relative;}#sk-container-id-3 div.sk-text-repr-fallback {display: none;}</style><div id=\"sk-container-id-3\" class=\"sk-top-container\"><div class=\"sk-text-repr-fallback\"><pre>GridSearchCV(cv=StratifiedKFold(n_splits=10, random_state=0, shuffle=True),\n",
       "             estimator=SVC(class_weight=&#x27;balanced&#x27;, probability=True,\n",
       "                           random_state=0),\n",
       "             n_jobs=-1,\n",
       "             param_grid=[{&#x27;C&#x27;: [0.01, 0.1, 1, 10, 100, 500, 1000],\n",
       "                          &#x27;gamma&#x27;: [1e-05, 0.0001, 0.001, 0.01, 0.1, 1, 10],\n",
       "                          &#x27;kernel&#x27;: [&#x27;rbf&#x27;]},\n",
       "                         {&#x27;C&#x27;: [0.01, 0.1, 1, 10, 100, 500, 1000],\n",
       "                          &#x27;kernel&#x27;: [&#x27;linear&#x27;]}],\n",
       "             return_train_score=True, scoring=&#x27;average_precision&#x27;)</pre><b>In a Jupyter environment, please rerun this cell to show the HTML representation or trust the notebook. <br />On GitHub, the HTML representation is unable to render, please try loading this page with nbviewer.org.</b></div><div class=\"sk-container\" hidden><div class=\"sk-item sk-dashed-wrapped\"><div class=\"sk-label-container\"><div class=\"sk-label sk-toggleable\"><input class=\"sk-toggleable__control sk-hidden--visually\" id=\"sk-estimator-id-7\" type=\"checkbox\" ><label for=\"sk-estimator-id-7\" class=\"sk-toggleable__label sk-toggleable__label-arrow\">GridSearchCV</label><div class=\"sk-toggleable__content\"><pre>GridSearchCV(cv=StratifiedKFold(n_splits=10, random_state=0, shuffle=True),\n",
       "             estimator=SVC(class_weight=&#x27;balanced&#x27;, probability=True,\n",
       "                           random_state=0),\n",
       "             n_jobs=-1,\n",
       "             param_grid=[{&#x27;C&#x27;: [0.01, 0.1, 1, 10, 100, 500, 1000],\n",
       "                          &#x27;gamma&#x27;: [1e-05, 0.0001, 0.001, 0.01, 0.1, 1, 10],\n",
       "                          &#x27;kernel&#x27;: [&#x27;rbf&#x27;]},\n",
       "                         {&#x27;C&#x27;: [0.01, 0.1, 1, 10, 100, 500, 1000],\n",
       "                          &#x27;kernel&#x27;: [&#x27;linear&#x27;]}],\n",
       "             return_train_score=True, scoring=&#x27;average_precision&#x27;)</pre></div></div></div><div class=\"sk-parallel\"><div class=\"sk-parallel-item\"><div class=\"sk-item\"><div class=\"sk-label-container\"><div class=\"sk-label sk-toggleable\"><input class=\"sk-toggleable__control sk-hidden--visually\" id=\"sk-estimator-id-8\" type=\"checkbox\" ><label for=\"sk-estimator-id-8\" class=\"sk-toggleable__label sk-toggleable__label-arrow\">estimator: SVC</label><div class=\"sk-toggleable__content\"><pre>SVC(class_weight=&#x27;balanced&#x27;, probability=True, random_state=0)</pre></div></div></div><div class=\"sk-serial\"><div class=\"sk-item\"><div class=\"sk-estimator sk-toggleable\"><input class=\"sk-toggleable__control sk-hidden--visually\" id=\"sk-estimator-id-9\" type=\"checkbox\" ><label for=\"sk-estimator-id-9\" class=\"sk-toggleable__label sk-toggleable__label-arrow\">SVC</label><div class=\"sk-toggleable__content\"><pre>SVC(class_weight=&#x27;balanced&#x27;, probability=True, random_state=0)</pre></div></div></div></div></div></div></div></div></div></div>"
      ],
      "text/plain": [
       "GridSearchCV(cv=StratifiedKFold(n_splits=10, random_state=0, shuffle=True),\n",
       "             estimator=SVC(class_weight='balanced', probability=True,\n",
       "                           random_state=0),\n",
       "             n_jobs=-1,\n",
       "             param_grid=[{'C': [0.01, 0.1, 1, 10, 100, 500, 1000],\n",
       "                          'gamma': [1e-05, 0.0001, 0.001, 0.01, 0.1, 1, 10],\n",
       "                          'kernel': ['rbf']},\n",
       "                         {'C': [0.01, 0.1, 1, 10, 100, 500, 1000],\n",
       "                          'kernel': ['linear']}],\n",
       "             return_train_score=True, scoring='average_precision')"
      ]
     },
     "execution_count": 22,
     "metadata": {},
     "output_type": "execute_result"
    }
   ],
   "source": [
    "### SVM CLASSIFIER\n",
    "# GRID SEARCH WITH STRATIFIED 10-FOLD CROSS-VALIDATION\n",
    "from sklearn.svm import SVC\n",
    "\n",
    "p_grid_SVC = [\n",
    "    {'C': [0.01, 0.1, 1, 10, 100, 500, 1000], # np.logspace(-2, 10, 13)\n",
    "    'kernel': ['rbf'],\n",
    "    'gamma': [0.00001, 0.0001, 0.001, 0.01, 0.1, 1, 10]}, # np.logspace(-9, 3, 13)\n",
    "    {'C': [0.01, 0.1, 1, 10, 100, 500, 1000], # np.logspace(-2, 10, 13)\n",
    "    'kernel': ['linear']}]\n",
    "\n",
    "gs_SVC = GridSearchCV(\n",
    "    estimator=SVC(class_weight='balanced', random_state=0, probability=True),\n",
    "    param_grid=p_grid_SVC,\n",
    "    scoring='average_precision',\n",
    "    n_jobs=-1,\n",
    "    refit=True,\n",
    "    cv=StratifiedKFold(n_splits=10, shuffle=True, random_state=0),\n",
    "    return_train_score=True)\n",
    "\n",
    "gs_SVC.fit(X_train, np.ravel(y_train))"
   ]
  },
  {
   "cell_type": "code",
   "execution_count": 23,
   "metadata": {},
   "outputs": [
    {
     "name": "stdout",
     "output_type": "stream",
     "text": [
      "Best AUPRC score (mean cross-validated score of best estimator): 0.8012086270533004\n",
      "Best parameters for SVM classifier: {'C': 1000, 'gamma': 1e-05, 'kernel': 'rbf'}\n",
      "\n",
      "Performance of SVM classifier on training set:\n",
      "    AUPRC: 0.7963908871472832\n",
      "    AUROC: 0.8724325704662783\n",
      "    Balanced accuracy: 0.7900660491952627\n",
      "    Brier score loss: 0.13662208653082328\n",
      "    F1 score: 0.7324913892078071\n",
      "    Hamming loss: 0.20822162645218945\n",
      "    Precision: 0.6875\n",
      "    Recall: 0.7837837837837838\n"
     ]
    }
   ],
   "source": [
    "# print(gs_SVC.cv_results_)\n",
    "print(\"Best AUPRC score (mean cross-validated score of best estimator): {}\". format(gs_SVC.best_score_))\n",
    "print(\"Best parameters for SVM classifier: {}\".format(gs_SVC.best_params_)) # Parameter setting that gave the best results on the hold out data.\n",
    "\n",
    "# Obtain performance of SVM classifier on training set\n",
    "SVM_clf = gs_SVC.best_estimator_.fit(X_train, np.ravel(y_train)) # also performed by 'GridSearchCV(refit=True)'\n",
    "y_prob = SVM_clf.predict_proba(X_train)[:, 1] # probability estimates of the positive class\n",
    "y_pred = SVM_clf.predict(X_train)\n",
    "\n",
    "print(\"\\nPerformance of SVM classifier on training set:\")\n",
    "print(\"    AUPRC: {}\".format(average_precision_score(y_train, y_prob)))\n",
    "print(\"    AUROC: {}\".format(roc_auc_score(y_train, y_prob)))\n",
    "print(\"    Balanced accuracy: {}\".format(balanced_accuracy_score(y_train, y_pred)))\n",
    "print(\"    Brier score loss: {}\".format(brier_score_loss(y_train, y_prob)))\n",
    "print(\"    F1 score: {}\".format(f1_score(y_train, y_pred)))\n",
    "print(\"    Hamming loss: {}\".format(hamming_loss(y_train, y_pred)))\n",
    "print(\"    Precision: {}\".format(precision_score(y_train, y_pred)))\n",
    "print(\"    Recall: {}\".format(recall_score(y_train, y_pred)))"
   ]
  },
  {
   "cell_type": "code",
   "execution_count": 24,
   "metadata": {},
   "outputs": [
    {
     "name": "stdout",
     "output_type": "stream",
     "text": [
      "Mean scores for SVM classifier with 95% confidence intervals:\n",
      "    AUPRC: 0.76 [0.69, 0.81]\n",
      "    AUROC: 0.85 [0.80, 0.88]\n",
      "    Balanced accuracy: 0.78 [0.74, 0.82]\n",
      "    Brier score loss: 0.15 [0.14, 0.17]\n",
      "    F1 score: 0.72 [0.67, 0.76]\n",
      "    Hamming loss: 0.21 [0.18, 0.25]\n",
      "    Precision: 0.69 [0.63, 0.76]\n",
      "    Recall: 0.76 [0.70, 0.83]\n"
     ]
    }
   ],
   "source": [
    "# print(gs_SVC.best_estimator_.score(X_test, y_test))\n",
    "\n",
    "# Make empty lists for storing scores generated by bootstrapping 'y_test' 100 times\n",
    "auprc_SVC = []\n",
    "auroc_SVC = []\n",
    "bal_acc_SVC = []\n",
    "brier_SVC = []\n",
    "f1_SVC = []\n",
    "hamm_SVC = []\n",
    "prec_SVC = []\n",
    "recall_SVC = []\n",
    "\n",
    "for i in range(100):\n",
    "    X_test_resampled, y_test_resampled = resample(X_test, y_test, replace=True, n_samples=len(y_test), random_state=0+i)\n",
    "    y_prob = SVM_clf.predict_proba(X_test_resampled)[:, 1] # probability estimates of the positive class\n",
    "    y_pred = SVM_clf.predict(X_test_resampled)\n",
    "    # Store the scores in the empty lists so that we can calculate the mean scores and lower and upper limits of the 95% confidence interval\n",
    "    auprc_SVC.append(average_precision_score(y_test_resampled, y_prob)) # average_precision_score(y_true, y_score)\n",
    "    auroc_SVC.append(roc_auc_score(y_test_resampled, y_prob)) # roc_auc_score(y_true, y_score)\n",
    "    bal_acc_SVC.append(balanced_accuracy_score(y_test_resampled, y_pred)) # balanced_accuracy_score(y_true, y_pred, sample_weight=None, adjusted=False)\n",
    "    brier_SVC.append(brier_score_loss(y_test_resampled, y_prob)) # brier_score_loss(y_true, y_prob)\n",
    "    f1_SVC.append(f1_score(y_test_resampled, y_pred)) # f1_score(y_true, y_pred)\n",
    "    hamm_SVC.append(hamming_loss(y_test_resampled, y_pred)) # hamming_loss(y_true, y_pred)\n",
    "    prec_SVC.append(precision_score(y_test_resampled, y_pred)) # precision_score(y_true, y_pred)\n",
    "    recall_SVC.append(recall_score(y_test_resampled, y_pred)) # recall_score(y_true, y_pred)\n",
    "\n",
    "print(\"Mean scores for SVM classifier with 95% confidence intervals:\")\n",
    "print(\"    AUPRC: {:.2f} [{:.2f}, {:.2f}]\".format(np.mean(auprc_SVC), np.percentile(auprc_SVC, 2.5), np.percentile(auprc_SVC, 97.5)))\n",
    "print(\"    AUROC: {:.2f} [{:.2f}, {:.2f}]\".format(np.mean(auroc_SVC), np.percentile(auroc_SVC, 2.5), np.percentile(auroc_SVC, 97.5)))\n",
    "print(\"    Balanced accuracy: {:.2f} [{:.2f}, {:.2f}]\".format(np.mean(bal_acc_SVC), np.percentile(bal_acc_SVC, 2.5), np.percentile(bal_acc_SVC, 97.5)))\n",
    "print(\"    Brier score loss: {:.2f} [{:.2f}, {:.2f}]\".format(np.mean(brier_SVC), np.percentile(brier_SVC, 2.5), np.percentile(brier_SVC, 97.5)))\n",
    "print(\"    F1 score: {:.2f} [{:.2f}, {:.2f}]\".format(np.mean(f1_SVC), np.percentile(f1_SVC, 2.5), np.percentile(f1_SVC, 97.5)))\n",
    "print(\"    Hamming loss: {:.2f} [{:.2f}, {:.2f}]\".format(np.mean(hamm_SVC), np.percentile(hamm_SVC, 2.5), np.percentile(hamm_SVC, 97.5)))\n",
    "print(\"    Precision: {:.2f} [{:.2f}, {:.2f}]\".format(np.mean(prec_SVC), np.percentile(prec_SVC, 2.5), np.percentile(prec_SVC, 97.5)))\n",
    "print(\"    Recall: {:.2f} [{:.2f}, {:.2f}]\".format(np.mean(recall_SVC), np.percentile(recall_SVC, 2.5), np.percentile(recall_SVC, 97.5)))"
   ]
  },
  {
   "attachments": {},
   "cell_type": "markdown",
   "metadata": {},
   "source": [
    "### 2.3. Plotting the AUPRC and AUROC curves"
   ]
  },
  {
   "attachments": {},
   "cell_type": "markdown",
   "metadata": {},
   "source": [
    "##### AUPRC plots"
   ]
  },
  {
   "cell_type": "code",
   "execution_count": 25,
   "metadata": {},
   "outputs": [
    {
     "data": {
      "image/png": "[encoded data removed]",
      "text/plain": [
       "<Figure size 720x504 with 1 Axes>"
      ]
     },
     "metadata": {
      "needs_background": "light"
     },
     "output_type": "display_data"
    }
   ],
   "source": [
    "### AUPRC PLOT FOR THE POSITIVE CLASS\n",
    "from sklearn.metrics import PrecisionRecallDisplay \n",
    "import matplotlib.pyplot as plt\n",
    "\n",
    "y_score_uniform_rand = uniform_rand_clf.predict_proba(X_test)[:, 1] # UNIFORM RANDOM BASELINE\n",
    "y_score_mfreq = mfreq_clf.predict_proba(X_test)[:, 1] # MOST FREQUENT BASELINE\n",
    "y_score_strat_rand = strat_rand_clf.predict_proba(X_test)[:, 1] # STRATIFIED RANDOM BASELINE\n",
    "y_score_LR = LR_clf.predict_proba(X_test)[:, 1] # LOGISTIC REGRESSION CLASSIFIER\n",
    "y_score_RF = RF_clf.predict_proba(X_test)[:, 1] # RANDOM FOREST CLASSIFIER\n",
    "y_score_SVC = SVM_clf.predict_proba(X_test)[:, 1] # SVM CLASSIFIER\n",
    "\n",
    "plt.figure(figsize=(10, 7))\n",
    "ax_auprc1 = plt.axes()\n",
    "\n",
    "disp1 = PrecisionRecallDisplay.from_predictions(y_test, y_score_uniform_rand, pos_label=1, name=\"Uniform random\", ax=ax_auprc1, color=\"violet\")\n",
    "disp2 = PrecisionRecallDisplay.from_predictions(y_test, y_score_mfreq, pos_label=1, name=\"Most frequent\", ax=ax_auprc1, color=\"yellow\")\n",
    "disp3 = PrecisionRecallDisplay.from_predictions(y_test, y_score_strat_rand, pos_label=1, name=\"Stratified random\", ax=ax_auprc1, color=\"darkorange\")\n",
    "disp4 = PrecisionRecallDisplay.from_predictions(y_test, y_score_LR, pos_label=1, name=\"Logistic regression\", ax=ax_auprc1, color=\"teal\")\n",
    "disp5 = PrecisionRecallDisplay.from_predictions(y_test, y_score_RF, pos_label=1, name=\"Random forest\", ax=ax_auprc1, color=\"cornflowerblue\")\n",
    "disp6 = PrecisionRecallDisplay.from_predictions(y_test, y_score_SVC, pos_label=1, name=\"SVM classifier\", ax=ax_auprc1, color=\"red\")\n",
    "\n",
    "ax_auprc1.set_title(\"Precision-recall curve for the positive class (non-clinical depression)\", size=14)\n",
    "\n",
    "ax_auprc1.legend(loc=\"best\")\n",
    "\n",
    "ax_auprc1.set_xlabel(\"Recall\", size=12)\n",
    "ax_auprc1.set_ylabel(\"Precision\", size=12)\n",
    "\n",
    "ax_auprc1.set_xmargin(0.01)\n",
    "ax_auprc1.set_ymargin(0.01)"
   ]
  },
  {
   "cell_type": "code",
   "execution_count": 26,
   "metadata": {},
   "outputs": [
    {
     "data": {
      "image/png": "[encoded data removed]",
      "text/plain": [
       "<Figure size 720x504 with 1 Axes>"
      ]
     },
     "metadata": {
      "needs_background": "light"
     },
     "output_type": "display_data"
    }
   ],
   "source": [
    "### AUPRC PLOT FOR THE NEGATIVE CLASS\n",
    "y_score_uniform_rand = uniform_rand_clf.predict_proba(X_test)[:, 0] # UNIFORM RANDOM BASELINE\n",
    "y_score_mfreq = mfreq_clf.predict_proba(X_test)[:, 0] # MOST FREQUENT BASELINE\n",
    "y_score_strat_rand = strat_rand_clf.predict_proba(X_test)[:, 0] # STRATIFIED RANDOM BASELINE\n",
    "y_score_LR = LR_clf.predict_proba(X_test)[:, 0] # LOGISTIC REGRESSION CLASSIFIER\n",
    "y_score_RF = RF_clf.predict_proba(X_test)[:, 0] # RANDOM FOREST CLASSIFIER\n",
    "y_score_SVC = SVM_clf.predict_proba(X_test)[:, 0] # SVM CLASSIFIER\n",
    "\n",
    "plt.figure(figsize=(10, 7))\n",
    "ax_auprc0 = plt.axes()\n",
    "\n",
    "disp1 = PrecisionRecallDisplay.from_predictions(y_test, y_score_uniform_rand, pos_label=0, name=\"Uniform random\", ax=ax_auprc0, color=\"violet\")\n",
    "disp2 = PrecisionRecallDisplay.from_predictions(y_test, y_score_mfreq, pos_label=0, name=\"Most frequent\", ax=ax_auprc0, color=\"yellow\")\n",
    "disp3 = PrecisionRecallDisplay.from_predictions(y_test, y_score_strat_rand, pos_label=0, name=\"Stratified random\", ax=ax_auprc0, color=\"darkorange\")\n",
    "disp4 = PrecisionRecallDisplay.from_predictions(y_test, y_score_LR, pos_label=0, name=\"Logistic regression\", ax=ax_auprc0, color=\"teal\")\n",
    "disp5 = PrecisionRecallDisplay.from_predictions(y_test, y_score_RF, pos_label=0, name=\"Random forest\", ax=ax_auprc0, color=\"cornflowerblue\")\n",
    "disp6 = PrecisionRecallDisplay.from_predictions(y_test, y_score_SVC, pos_label=0, name=\"SVM classifier\", ax=ax_auprc0, color=\"red\")\n",
    "\n",
    "ax_auprc0.set_title(\"Precision-recall curve for the negative class (non-clinical depression)\", size=14)\n",
    "\n",
    "ax_auprc0.legend(loc=\"lower left\")\n",
    "\n",
    "ax_auprc0.set_xlabel(\"Recall\", size=12)\n",
    "ax_auprc0.set_ylabel(\"Precision\", size=12)\n",
    "\n",
    "ax_auprc0.set_xmargin(0.01)\n",
    "ax_auprc0.set_ymargin(0.01)"
   ]
  },
  {
   "attachments": {},
   "cell_type": "markdown",
   "metadata": {},
   "source": [
    "##### AUROC plots"
   ]
  },
  {
   "cell_type": "code",
   "execution_count": 27,
   "metadata": {},
   "outputs": [
    {
     "data": {
      "image/png": "[encoded data removed]",
      "text/plain": [
       "<Figure size 720x504 with 1 Axes>"
      ]
     },
     "metadata": {
      "needs_background": "light"
     },
     "output_type": "display_data"
    }
   ],
   "source": [
    "### AUROC PLOT FOR THE POSITIVE CLASS\n",
    "from sklearn.metrics import RocCurveDisplay\n",
    "\n",
    "y_score_uniform_rand = uniform_rand_clf.predict_proba(X_test)[:, 1] # UNIFORM RANDOM BASELINE\n",
    "y_score_mfreq = mfreq_clf.predict_proba(X_test)[:, 1] # MOST FREQUENT BASELINE\n",
    "y_score_strat_rand = strat_rand_clf.predict_proba(X_test)[:, 1] # STRATIFIED RANDOM BASELINE\n",
    "y_score_LR = LR_clf.predict_proba(X_test)[:, 1] # LOGISTIC REGRESSION CLASSIFIER\n",
    "y_score_RF = RF_clf.predict_proba(X_test)[:, 1] # RANDOM FOREST CLASSIFIER\n",
    "y_score_SVC = SVM_clf.predict_proba(X_test)[:, 1] # SVM CLASSIFIER\n",
    "\n",
    "plt.figure(figsize=(10, 7))\n",
    "ax_auroc1 = plt.axes()\n",
    "\n",
    "disp1 = RocCurveDisplay.from_predictions(y_test, y_score_uniform_rand, pos_label=1, name=\"Uniform random\", ax=ax_auroc1, color=\"violet\")\n",
    "disp2 = RocCurveDisplay.from_predictions(y_test, y_score_mfreq, pos_label=1, name=\"Most frequent\", ax=ax_auroc1, color=\"yellow\")\n",
    "disp3 = RocCurveDisplay.from_predictions(y_test, y_score_strat_rand, pos_label=1, name=\"Stratified random\", ax=ax_auroc1, color=\"darkorange\")\n",
    "disp4 = RocCurveDisplay.from_predictions(y_test, y_score_LR, pos_label=1, name=\"Logistic regression\", ax=ax_auroc1, color=\"teal\")\n",
    "disp5 = RocCurveDisplay.from_predictions(y_test, y_score_RF, pos_label=1, name=\"Random forest\", ax=ax_auroc1, color=\"cornflowerblue\")\n",
    "disp6 = RocCurveDisplay.from_predictions(y_test, y_score_SVC, pos_label=1, name=\"SVM classifier\", ax=ax_auroc1, color=\"red\")\n",
    "\n",
    "ax_auroc1.set_title(\"Receiver operating characteristic for the positive class (non-clinical depression)\", size=14)\n",
    "\n",
    "ax_auroc1.legend(loc=\"best\")\n",
    "\n",
    "ax_auroc1.set_xlabel(\"False positive rate\", size=12)\n",
    "ax_auroc1.set_ylabel(\"True positive rate\", size=12)\n",
    "\n",
    "ax_auroc1.set_xmargin(0.01)\n",
    "ax_auroc1.set_ymargin(0.01)"
   ]
  },
  {
   "cell_type": "code",
   "execution_count": 28,
   "metadata": {},
   "outputs": [
    {
     "data": {
      "image/png": "[encoded data removed]",
      "text/plain": [
       "<Figure size 720x504 with 1 Axes>"
      ]
     },
     "metadata": {
      "needs_background": "light"
     },
     "output_type": "display_data"
    }
   ],
   "source": [
    "### AUROC PLOT FOR THE NEGATIVE CLASS\n",
    "y_score_uniform_rand = uniform_rand_clf.predict_proba(X_test)[:, 0] # UNIFORM RANDOM BASELINE\n",
    "y_score_mfreq = mfreq_clf.predict_proba(X_test)[:, 0] # MOST FREQUENT BASELINE\n",
    "y_score_strat_rand = strat_rand_clf.predict_proba(X_test)[:, 0] # STRATIFIED RANDOM BASELINE\n",
    "y_score_LR = LR_clf.predict_proba(X_test)[:, 0] # LOGISTIC REGRESSION CLASSIFIER\n",
    "y_score_RF = RF_clf.predict_proba(X_test)[:, 0] # RANDOM FOREST CLASSIFIER\n",
    "y_score_SVC = SVM_clf.predict_proba(X_test)[:, 0] # SVM CLASSIFIER\n",
    "\n",
    "plt.figure(figsize=(10, 7))\n",
    "ax_auroc0 = plt.axes()\n",
    "\n",
    "disp1 = RocCurveDisplay.from_predictions(y_test, y_score_uniform_rand, pos_label=0, name=\"Uniform random\", ax=ax_auroc0, color=\"violet\")\n",
    "disp2 = RocCurveDisplay.from_predictions(y_test, y_score_mfreq, pos_label=0, name=\"Most frequent\", ax=ax_auroc0, color=\"yellow\")\n",
    "disp3 = RocCurveDisplay.from_predictions(y_test, y_score_strat_rand, pos_label=0, name=\"Stratified random\", ax=ax_auroc0, color=\"darkorange\")\n",
    "disp4 = RocCurveDisplay.from_predictions(y_test, y_score_LR, pos_label=0, name=\"Logistic regression\", ax=ax_auroc0, color=\"teal\")\n",
    "disp5 = RocCurveDisplay.from_predictions(y_test, y_score_RF, pos_label=0, name=\"Random forest\", ax=ax_auroc0, color=\"cornflowerblue\")\n",
    "disp6 = RocCurveDisplay.from_predictions(y_test, y_score_SVC, pos_label=0, name=\"SVM classifier\", ax=ax_auroc0, color=\"red\")\n",
    "\n",
    "ax_auroc0.set_title(\"Receiver operating characteristic for the negative class (non-clinical depression)\", size=14)\n",
    "\n",
    "ax_auroc0.legend(loc=\"best\")\n",
    "\n",
    "ax_auroc0.set_xlabel(\"False positive rate\", size=12)\n",
    "ax_auroc0.set_ylabel(\"True positive rate\", size=12)\n",
    "\n",
    "ax_auroc0.set_xmargin(0.01)\n",
    "ax_auroc0.set_ymargin(0.01)"
   ]
  },
  {
   "attachments": {},
   "cell_type": "markdown",
   "metadata": {},
   "source": [
    "##### Extra plots: confusion matrices"
   ]
  },
  {
   "cell_type": "code",
   "execution_count": 29,
   "metadata": {},
   "outputs": [
    {
     "data": {
      "image/png": "[encoded data removed]",
      "text/plain": [
       "<Figure size 432x288 with 2 Axes>"
      ]
     },
     "metadata": {
      "needs_background": "light"
     },
     "output_type": "display_data"
    }
   ],
   "source": [
    "from sklearn.metrics import confusion_matrix\n",
    "from sklearn.metrics import ConfusionMatrixDisplay\n",
    "\n",
    "# Generate a confusion matrix for the logistic regression classifier\n",
    "y_pred_LR = LR_clf.predict(X_test)\n",
    "cm_LR = confusion_matrix(y_test, y_pred_LR)\n",
    "cm_display = ConfusionMatrixDisplay(cm_LR).plot(cmap='YlGnBu')"
   ]
  },
  {
   "cell_type": "code",
   "execution_count": 30,
   "metadata": {},
   "outputs": [
    {
     "data": {
      "image/png": "[encoded data removed]",
      "text/plain": [
       "<Figure size 432x288 with 2 Axes>"
      ]
     },
     "metadata": {
      "needs_background": "light"
     },
     "output_type": "display_data"
    }
   ],
   "source": [
    "# Generate a confusion matrix for the random forest classifier\n",
    "y_pred_RF = RF_clf.predict(X_test) \n",
    "cm_RF = confusion_matrix(y_test, y_pred_RF)\n",
    "cm_display = ConfusionMatrixDisplay(cm_RF).plot(cmap='YlGnBu')"
   ]
  },
  {
   "cell_type": "code",
   "execution_count": 31,
   "metadata": {},
   "outputs": [
    {
     "data": {
      "image/png": "[encoded data removed]",
      "text/plain": [
       "<Figure size 432x288 with 2 Axes>"
      ]
     },
     "metadata": {
      "needs_background": "light"
     },
     "output_type": "display_data"
    }
   ],
   "source": [
    "# Generate a confusion matrix for the SVM classifier\n",
    "y_pred_SVC = SVM_clf.predict(X_test) \n",
    "cm_SVC = confusion_matrix(y_test, y_pred_SVC)\n",
    "cm_display = ConfusionMatrixDisplay(cm_SVC).plot(cmap='YlGnBu')"
   ]
  },
  {
   "attachments": {},
   "cell_type": "markdown",
   "metadata": {},
   "source": [
    "### 2.4. Feature importance: univariate versus multivariate scores"
   ]
  },
  {
   "cell_type": "code",
   "execution_count": 32,
   "metadata": {},
   "outputs": [],
   "source": [
    "# Load 'dataset.xlsx' file again as pandas DataFrame\n",
    "data = pd.read_excel('/Users/margaritasison/Downloads/M3.5 Lab Rotation 3/dataset.xlsx', sheet_name=0, header=0)"
   ]
  },
  {
   "attachments": {},
   "cell_type": "markdown",
   "metadata": {},
   "source": [
    "##### Preprocessing"
   ]
  },
  {
   "cell_type": "code",
   "execution_count": 33,
   "metadata": {},
   "outputs": [],
   "source": [
    "# Assign negative and positive labels to 'BDEPRESSION' scores based on the specified cut-off and store them into a new variable 'BDEP_BINARY'\n",
    "\n",
    "### Run the next two lines only once -- running them again causes the following error: 'cannot insert \"BDEP_BINARY\", already exists'\n",
    "BDEP_BINARY = pd.cut(data.BDEPRESSION, bins=[0,20,63], labels=[0, 1], include_lowest=True) # [0, 20], (20, 63]\n",
    "\n",
    "# Insert new column 'BDEP_BINARY' into the existing DataFrame 'data'\n",
    "data.insert(0, 'BDEP_BINARY', BDEP_BINARY)"
   ]
  },
  {
   "cell_type": "code",
   "execution_count": 34,
   "metadata": {},
   "outputs": [],
   "source": [
    "# Assign the target 'BDEP_BINARY' and each feature to separate variables\n",
    "ADEPRESSION = data[['BDEP_BINARY', 'ADEPRESSION']]\n",
    "AANXIETY = data[['BDEP_BINARY', 'AANXIETY']]\n",
    "quarantinesubperiod = data[['BDEP_BINARY', 'quarantinesubperiod']]\n",
    "sex = data[['BDEP_BINARY', 'sex']]\n",
    "age = data[['BDEP_BINARY', 'age']]\n",
    "mentdishist = data[['BDEP_BINARY', 'mentdishist']]\n",
    "suic = data[['BDEP_BINARY', 'suic']]"
   ]
  },
  {
   "cell_type": "code",
   "execution_count": 35,
   "metadata": {},
   "outputs": [
    {
     "name": "stdout",
     "output_type": "stream",
     "text": [
      "'quarantinesubperiod' columns:\n",
      "['BDEP_BINARY', 'quarantinesubperiod_quar first', 'quarantinesubperiod_quar second', 'quarantinesubperiod_quar third']\n",
      "\n",
      "'sex' columns:\n",
      "['BDEP_BINARY', 'sex_man', 'sex_woman']\n",
      "\n",
      "'mentdishist' columns:\n",
      "['BDEP_BINARY', 'mentdishist_no', 'mentdishist_yes']\n",
      "\n",
      "'suic' columns:\n",
      "['BDEP_BINARY', 'suic_no', 'suic_yes']\n"
     ]
    }
   ],
   "source": [
    "# Convert categorical features into dummy variables\n",
    "quarantinesubperiod = pd.get_dummies(quarantinesubperiod, columns=['quarantinesubperiod'])\n",
    "sex = pd.get_dummies(sex, columns=['sex'])\n",
    "mentdishist = pd.get_dummies(mentdishist, columns=['mentdishist'])\n",
    "suic = pd.get_dummies(suic, columns=['suic'])\n",
    "\n",
    "# Run the following lines to check if the conversion was executed correctly:\n",
    "print(\"'quarantinesubperiod' columns:\\n{}\".format(list(quarantinesubperiod.columns)))\n",
    "print(\"\\n'sex' columns:\\n{}\".format(list(sex.columns)))\n",
    "print(\"\\n'mentdishist' columns:\\n{}\".format(list(mentdishist.columns)))\n",
    "print(\"\\n'suic' columns:\\n{}\".format(list(suic.columns)))"
   ]
  },
  {
   "cell_type": "code",
   "execution_count": 36,
   "metadata": {},
   "outputs": [],
   "source": [
    "# Convert DataFrames into NumPy arrays to make them compatible with scikit-learn functions\n",
    "ADEPRESSION = np.array(ADEPRESSION)\n",
    "AANXIETY = np.array(AANXIETY)\n",
    "quarantinesubperiod = np.array(quarantinesubperiod)\n",
    "sex = np.array(sex)\n",
    "age = np.array(age)\n",
    "mentdishist = np.array(mentdishist)\n",
    "suic = np.array(suic)"
   ]
  },
  {
   "cell_type": "code",
   "execution_count": 37,
   "metadata": {},
   "outputs": [
    {
     "name": "stdout",
     "output_type": "stream",
     "text": [
      "Shown below are the first five rows of each variable and their corresponding shape.\n",
      "\n",
      "'ADEP_X':\n",
      " [[13]\n",
      " [16]\n",
      " [ 5]\n",
      " [28]\n",
      " [17]] (1492, 1)\n",
      "\n",
      "'ADEP_y':\n",
      " [[0]\n",
      " [0]\n",
      " [0]\n",
      " [1]\n",
      " [0]] (1492, 1)\n",
      "\n",
      "'AANX_X':\n",
      " [[33]\n",
      " [21]\n",
      " [20]\n",
      " [41]\n",
      " [37]] (1492, 1)\n",
      "\n",
      "'AANX_y':\n",
      " [[0]\n",
      " [0]\n",
      " [0]\n",
      " [1]\n",
      " [0]] (1492, 1)\n",
      "\n",
      "'quar_X':\n",
      " [[1 0 0]\n",
      " [1 0 0]\n",
      " [1 0 0]\n",
      " [1 0 0]\n",
      " [1 0 0]] (1492, 3)\n",
      "\n",
      "'quar_y':\n",
      " [[0]\n",
      " [0]\n",
      " [0]\n",
      " [1]\n",
      " [0]] (1492, 1)\n",
      "\n",
      "'sex_X':\n",
      " [[0 1]\n",
      " [0 1]\n",
      " [0 1]\n",
      " [0 1]\n",
      " [0 1]] (1492, 2)\n",
      "\n",
      "'sex_y':\n",
      " [[0]\n",
      " [0]\n",
      " [0]\n",
      " [1]\n",
      " [0]] (1492, 1)\n",
      "\n",
      "'age_X':\n",
      " [[22]\n",
      " [24]\n",
      " [30]\n",
      " [22]\n",
      " [25]] (1492, 1)\n",
      "\n",
      "'age_y':\n",
      " [[0]\n",
      " [0]\n",
      " [0]\n",
      " [1]\n",
      " [0]] (1492, 1)\n",
      "\n",
      "'ment_X':\n",
      " [[1 0]\n",
      " [1 0]\n",
      " [1 0]\n",
      " [0 1]\n",
      " [1 0]] (1492, 2)\n",
      "\n",
      "'ment_y':\n",
      " [[0]\n",
      " [0]\n",
      " [0]\n",
      " [1]\n",
      " [0]] (1492, 1)\n",
      "\n",
      "'suic_X':\n",
      " [[1 0]\n",
      " [0 1]\n",
      " [0 1]\n",
      " [0 1]\n",
      " [0 1]] (1492, 2)\n",
      "\n",
      "'suic_y':\n",
      " [[0]\n",
      " [0]\n",
      " [0]\n",
      " [1]\n",
      " [0]] (1492, 1)\n"
     ]
    }
   ],
   "source": [
    "# Assign features to 'X' and target to 'y'\n",
    "print(\"Shown below are the first five rows of each variable and their corresponding shape.\")\n",
    "\n",
    "# ADEPRESSION\n",
    "ADEP_X = ADEPRESSION[:, 1:]\n",
    "ADEP_y = ADEPRESSION[:, :1]\n",
    "\n",
    "# Run the following lines to check 'ADEP_X' and 'ADEP_y':\n",
    "print(\"\\n'ADEP_X':\\n\", ADEP_X[0:5], ADEP_X.shape)\n",
    "print(\"\\n'ADEP_y':\\n\", ADEP_y[0:5], ADEP_y.shape)\n",
    "##################################################\n",
    "\n",
    "# AANXIETY\n",
    "AANX_X = AANXIETY[:, 1:]\n",
    "AANX_y = AANXIETY[:, :1]\n",
    "\n",
    "# Run the following lines to check 'AANX_X' and 'AANX_y':\n",
    "print(\"\\n'AANX_X':\\n\", AANX_X[0:5], AANX_X.shape)\n",
    "print(\"\\n'AANX_y':\\n\", AANX_y[0:5], AANX_y.shape)\n",
    "##################################################\n",
    "\n",
    "# quarantinesubperiod\n",
    "quar_X = quarantinesubperiod[:, 1:]\n",
    "quar_y = quarantinesubperiod[:, :1]\n",
    "\n",
    "# Run the following lines to check 'quar_X' and 'quar_y':\n",
    "print(\"\\n'quar_X':\\n\", quar_X[0:5], quar_X.shape)\n",
    "print(\"\\n'quar_y':\\n\", quar_y[0:5], quar_y.shape)\n",
    "##################################################\n",
    "\n",
    "# sex\n",
    "sex_X = sex[:, 1:]\n",
    "sex_y = sex[:, :1]\n",
    "\n",
    "# Run the following lines to check 'sex_X' and 'sex_y':\n",
    "print(\"\\n'sex_X':\\n\", sex_X[0:5], sex_X.shape)\n",
    "print(\"\\n'sex_y':\\n\", sex_y[0:5], sex_y.shape)\n",
    "##################################################\n",
    "\n",
    "# age\n",
    "age_X = age[:, 1:]\n",
    "age_y = age[:, :1]\n",
    "\n",
    "# Run the following lines to check 'age_X' and 'age_y':\n",
    "print(\"\\n'age_X':\\n\", age_X[0:5], age_X.shape)\n",
    "print(\"\\n'age_y':\\n\", age_y[0:5], age_y.shape)\n",
    "##################################################\n",
    "\n",
    "# mentdishist\n",
    "ment_X = mentdishist[:, 1:]\n",
    "ment_y = mentdishist[:, :1]\n",
    "\n",
    "# Run the following lines to check 'ment_X' and 'ment_y':\n",
    "print(\"\\n'ment_X':\\n\", ment_X[0:5], ment_X.shape)\n",
    "print(\"\\n'ment_y':\\n\", ment_y[0:5], ment_y.shape)\n",
    "##################################################\n",
    "\n",
    "# suic\n",
    "suic_X = suic[:, 1:]\n",
    "suic_y = suic[:, :1]\n",
    "\n",
    "# Run the following lines to check 'suic_X' and 'suic_y':\n",
    "print(\"\\n'suic_X':\\n\", suic_X[0:5], suic_X.shape)\n",
    "print(\"\\n'suic_y':\\n\", suic_y[0:5], suic_y.shape)"
   ]
  },
  {
   "cell_type": "code",
   "execution_count": 38,
   "metadata": {},
   "outputs": [
    {
     "name": "stdout",
     "output_type": "stream",
     "text": [
      "'ADEPRESSION' training set -  features: (1119, 1); target: (1119, 1)\n",
      "'ADEPRESSION' test set -  features: (373, 1); target: (373, 1)\n",
      "\n",
      "'AANXIETY' training set -  features: (1119, 1); target: (1119, 1)\n",
      "'AANXIETY' test set -  features: (373, 1); target: (373, 1)\n",
      "\n",
      "'quarantinesubperiod' training set -  features: (1119, 3); target: (1119, 1)\n",
      "'quarantinesubperiod' test set -  features: (373, 3); target: (373, 1)\n",
      "\n",
      "'sex' training set -  features: (1119, 2); target: (1119, 1)\n",
      "'sex' test set -  features: (373, 2); target: (373, 1)\n",
      "\n",
      "'age' training set -  features: (1119, 1); target: (1119, 1)\n",
      "'age' test set -  features: (373, 1); target: (373, 1)\n",
      "\n",
      "'mentdishist' training set -  features: (1119, 2); target: (1119, 1)\n",
      "'mentdishist' test set -  features: (373, 2); target: (373, 1)\n",
      "\n",
      "'suic' training set -  features: (1119, 2); target: (1119, 1)\n",
      "'suic' test set -  features: (373, 2); target: (373, 1)\n"
     ]
    }
   ],
   "source": [
    "# Split 'X' and 'y' into a training set and a test set\n",
    "\n",
    "# 'ADEPRESSION' feature\n",
    "ADEP_X_train, ADEP_X_test, ADEP_y_train, ADEP_y_test = train_test_split(\n",
    "    ADEP_X, ADEP_y,\n",
    "    random_state=0,\n",
    "    stratify=ADEP_y)\n",
    "\n",
    "# Run the following lines to check training and test set dimensions:\n",
    "print(\"'ADEPRESSION' training set - \", \"features: {}; target: {}\".format(ADEP_X_train.shape, ADEP_y_train.shape))\n",
    "print(\"'ADEPRESSION' test set - \", \"features: {}; target: {}\".format(ADEP_X_test.shape, ADEP_y_test.shape))\n",
    "####################################################################################################\n",
    "\n",
    "# 'AANXIETY' feature\n",
    "AANX_X_train, AANX_X_test, AANX_y_train, AANX_y_test = train_test_split(\n",
    "    AANX_X, AANX_y,\n",
    "    random_state=0,\n",
    "    stratify=AANX_y)\n",
    "\n",
    "# Run the following lines to check training and test set dimensions:\n",
    "print(\"\\n'AANXIETY' training set - \", \"features: {}; target: {}\".format(AANX_X_train.shape, AANX_y_train.shape))\n",
    "print(\"'AANXIETY' test set - \", \"features: {}; target: {}\".format(AANX_X_test.shape, AANX_y_test.shape))\n",
    "####################################################################################################\n",
    "\n",
    "# 'quarantinesubperiod' feature\n",
    "quar_X_train, quar_X_test, quar_y_train, quar_y_test = train_test_split(\n",
    "    quar_X, quar_y,\n",
    "    random_state=0,\n",
    "    stratify=quar_y)\n",
    "\n",
    "# Run the following lines to check training and test set dimensions:\n",
    "print(\"\\n'quarantinesubperiod' training set - \", \"features: {}; target: {}\".format(quar_X_train.shape, quar_y_train.shape))\n",
    "print(\"'quarantinesubperiod' test set - \", \"features: {}; target: {}\".format(quar_X_test.shape, quar_y_test.shape))\n",
    "####################################################################################################\n",
    "\n",
    "# 'sex' feature\n",
    "sex_X_train, sex_X_test, sex_y_train, sex_y_test = train_test_split(\n",
    "    sex_X, sex_y,\n",
    "    random_state=0,\n",
    "    stratify=sex_y)\n",
    "\n",
    "# Run the following lines to check training and test set dimensions:\n",
    "print(\"\\n'sex' training set - \", \"features: {}; target: {}\".format(sex_X_train.shape, sex_y_train.shape))\n",
    "print(\"'sex' test set - \", \"features: {}; target: {}\".format(sex_X_test.shape, sex_y_test.shape))\n",
    "####################################################################################################\n",
    "\n",
    "# 'age' feature\n",
    "age_X_train, age_X_test, age_y_train, age_y_test = train_test_split(\n",
    "    age_X, age_y,\n",
    "    random_state=0,\n",
    "    stratify=age_y)\n",
    "\n",
    "# Run the following lines to check training and test set dimensions:\n",
    "print(\"\\n'age' training set - \", \"features: {}; target: {}\".format(age_X_train.shape, age_y_train.shape))\n",
    "print(\"'age' test set - \", \"features: {}; target: {}\".format(age_X_test.shape, age_y_test.shape))\n",
    "####################################################################################################\n",
    "\n",
    "# 'mentdishist' feature\n",
    "ment_X_train, ment_X_test, ment_y_train, ment_y_test = train_test_split(\n",
    "    ment_X, ment_y,\n",
    "    random_state=0,\n",
    "    stratify=ment_y)\n",
    "\n",
    "# Run the following lines to check training and test set dimensions:\n",
    "print(\"\\n'mentdishist' training set - \", \"features: {}; target: {}\".format(ment_X_train.shape, ment_y_train.shape))\n",
    "print(\"'mentdishist' test set - \", \"features: {}; target: {}\".format(ment_X_test.shape, ment_y_test.shape))\n",
    "####################################################################################################\n",
    "\n",
    "# 'suic' feature\n",
    "suic_X_train, suic_X_test, suic_y_train, suic_y_test = train_test_split(\n",
    "    suic_X, suic_y,\n",
    "    random_state=0,\n",
    "    stratify=suic_y)\n",
    "\n",
    "# Run the following lines to check training and test set dimensions:\n",
    "print(\"\\n'suic' training set - \", \"features: {}; target: {}\".format(suic_X_train.shape, suic_y_train.shape))\n",
    "print(\"'suic' test set - \", \"features: {}; target: {}\".format(suic_X_test.shape, suic_y_test.shape))"
   ]
  },
  {
   "cell_type": "code",
   "execution_count": 39,
   "metadata": {},
   "outputs": [
    {
     "name": "stdout",
     "output_type": "stream",
     "text": [
      "Shown below are the first five rows of each variable and their corresponding shape.\n",
      "'ADEP_X_train':\n",
      " [[-0.42111149]\n",
      " [ 1.03364682]\n",
      " [-1.50186053]\n",
      " [-0.13337869]\n",
      " [ 0.96742157]] (1119, 1)\n",
      "\n",
      "'ADEP_X_test':\n",
      " [[-0.51779027]\n",
      " [-0.51779027]\n",
      " [-0.04894772]\n",
      " [-0.73315571]\n",
      " [ 0.14477961]] (373, 1)\n",
      "\n",
      "'AANX_X_train':\n",
      " [[-0.1194676 ]\n",
      " [ 0.65182431]\n",
      " [-1.0819398 ]\n",
      " [-0.34415366]\n",
      " [ 1.61133325]] (1119, 1)\n",
      "\n",
      "'AANX_X_test':\n",
      " [[-0.74800946]\n",
      " [-0.26008943]\n",
      " [ 0.953493  ]\n",
      " [-0.44314942]\n",
      " [-0.1194676 ]] (373, 1)\n",
      "\n",
      "'age_X_train':\n",
      " [[-0.06905612]\n",
      " [-0.75466427]\n",
      " [-0.75466427]\n",
      " [ 0.75800423]\n",
      " [-1.17188995]] (1119, 1)\n",
      "\n",
      "'age_X_test':\n",
      " [[ 0.23938016]\n",
      " [-1.17188995]\n",
      " [-1.17188995]\n",
      " [-0.06905612]\n",
      " [-0.41016941]] (373, 1)\n"
     ]
    }
   ],
   "source": [
    "# Scale the features\n",
    "print(\"Shown below are the first five rows of each variable and their corresponding shape.\")\n",
    "\n",
    "# 'ADEPRESSION'\n",
    "qt_norm = QuantileTransformer(output_distribution='normal').fit(ADEP_X_train)\n",
    "ADEP_X_train = qt_norm.transform(ADEP_X_train)\n",
    "ADEP_X_test = qt_norm.transform(ADEP_X_test)\n",
    "\n",
    "# Run the following lines to check 'ADEP_X_train' and 'ADEP_X_test':\n",
    "print(\"'ADEP_X_train':\\n\", ADEP_X_train[0:5], ADEP_X_train.shape)\n",
    "print(\"\\n'ADEP_X_test':\\n\", ADEP_X_test[0:5], ADEP_X_test.shape)\n",
    "################################################################################\n",
    "\n",
    "# 'AANXIETY'\n",
    "qt_norm = QuantileTransformer(output_distribution='normal').fit(AANX_X_train)\n",
    "AANX_X_train = qt_norm.transform(AANX_X_train)\n",
    "AANX_X_test = qt_norm.transform(AANX_X_test)\n",
    "\n",
    "# Run the following lines to check 'AANX_X_train' and 'AANX_X_test':\n",
    "print(\"\\n'AANX_X_train':\\n\", AANX_X_train[0:5], AANX_X_train.shape)\n",
    "print(\"\\n'AANX_X_test':\\n\", AANX_X_test[0:5], AANX_X_test.shape)\n",
    "################################################################################\n",
    "\n",
    "# 'age'\n",
    "qt_norm = QuantileTransformer(output_distribution='normal').fit(age_X_train)\n",
    "age_X_train = qt_norm.transform(age_X_train)\n",
    "age_X_test = qt_norm.transform(age_X_test)\n",
    "\n",
    "# Run the following lines to check 'age_X_train' and 'age_X_test':\n",
    "print(\"\\n'age_X_train':\\n\", age_X_train[0:5], age_X_train.shape)\n",
    "print(\"\\n'age_X_test':\\n\", age_X_test[0:5], age_X_test.shape)"
   ]
  },
  {
   "attachments": {},
   "cell_type": "markdown",
   "metadata": {},
   "source": [
    "##### Logistic regression classifier"
   ]
  },
  {
   "cell_type": "code",
   "execution_count": 40,
   "metadata": {},
   "outputs": [
    {
     "name": "stdout",
     "output_type": "stream",
     "text": [
      "Mean univariate scores for logistic regression classifier with 95% confidence intervals:\n",
      "    'ADEPRESSION' average precision score: 0.72 [0.64, 0.79]\n",
      "    'AANXIETY' average precision score: 0.71 [0.64, 0.78]\n",
      "    'quarantinesubperiod' average precision score: 0.37 [0.33, 0.42]\n",
      "    'sex' average precision score: 0.38 [0.34, 0.42]\n",
      "    'age' average precision score: 0.43 [0.37, 0.50]\n",
      "    'mentdishist' average precision score: 0.46 [0.40, 0.52]\n",
      "    'suic' average precision score: 0.46 [0.39, 0.52]\n"
     ]
    }
   ],
   "source": [
    "# Obtain the univariate scores\n",
    "ADEP_LR_score = []\n",
    "AANX_LR_score = []\n",
    "quar_LR_score = []\n",
    "sex_LR_score = []\n",
    "age_LR_score = []\n",
    "ment_LR_score = []\n",
    "suic_LR_score = []\n",
    "\n",
    "# 'ADEPRESSION'\n",
    "ADEP_LR = gs_LR.best_estimator_.fit(ADEP_X_train, np.ravel(ADEP_y_train))\n",
    "\n",
    "for i in range(100):\n",
    "    ADEP_X_test_resampled, ADEP_y_test_resampled = resample(ADEP_X_test, ADEP_y_test, replace=True, n_samples=len(ADEP_y_test), random_state=0+i)\n",
    "    ADEP_y_prob = ADEP_LR.predict_proba(ADEP_X_test_resampled)[:, 1] # probability estimates of the positive class\n",
    "    ADEP_LR_score.append(average_precision_score(ADEP_y_test_resampled, ADEP_y_prob)) # average_precision_score(y_true, y_score)\n",
    "\n",
    "# 'AANXIETY'\n",
    "AANX_LR = gs_LR.best_estimator_.fit(AANX_X_train, np.ravel(AANX_y_train))\n",
    "\n",
    "for i in range(100):\n",
    "    AANX_X_test_resampled, AANX_y_test_resampled = resample(AANX_X_test, AANX_y_test, replace=True, n_samples=len(AANX_y_test), random_state=0+i)\n",
    "    AANX_y_prob = AANX_LR.predict_proba(AANX_X_test_resampled)[:, 1] # probability estimates of the positive class\n",
    "    AANX_LR_score.append(average_precision_score(AANX_y_test_resampled, AANX_y_prob)) # average_precision_score(y_true, y_score)\n",
    "\n",
    "# 'quarantinesubperiod'\n",
    "quar_LR = gs_LR.best_estimator_.fit(quar_X_train, np.ravel(quar_y_train))\n",
    "\n",
    "for i in range(100):\n",
    "    quar_X_test_resampled, quar_y_test_resampled = resample(quar_X_test, quar_y_test, replace=True, n_samples=len(quar_y_test), random_state=0+i)\n",
    "    quar_y_prob = quar_LR.predict_proba(quar_X_test_resampled)[:, 1] # probability estimates of the positive class\n",
    "    quar_LR_score.append(average_precision_score(quar_y_test_resampled, quar_y_prob)) # average_precision_score(y_true, y_score\n",
    "\n",
    "# 'sex'\n",
    "sex_LR = gs_LR.best_estimator_.fit(sex_X_train, np.ravel(sex_y_train))\n",
    "\n",
    "for i in range(100):\n",
    "    sex_X_test_resampled, sex_y_test_resampled = resample(sex_X_test, sex_y_test, replace=True, n_samples=len(sex_y_test), random_state=0+i)\n",
    "    sex_y_prob = sex_LR.predict_proba(sex_X_test_resampled)[:, 1] # probability estimates of the positive class\n",
    "    sex_LR_score.append(average_precision_score(sex_y_test_resampled, sex_y_prob)) # average_precision_score(y_true, y_score)\n",
    "\n",
    "# 'age'\n",
    "age_LR = gs_LR.best_estimator_.fit(age_X_train, np.ravel(age_y_train))\n",
    "\n",
    "for i in range(100):\n",
    "    age_X_test_resampled, age_y_test_resampled = resample(age_X_test, age_y_test, replace=True, n_samples=len(age_y_test), random_state=0+i)\n",
    "    age_y_prob = age_LR.predict_proba(age_X_test_resampled)[:, 1] # probability estimates of the positive class\n",
    "    age_LR_score.append(average_precision_score(age_y_test_resampled, age_y_prob)) # average_precision_score(y_true, y_score)\n",
    "\n",
    "# 'mentdishist'\n",
    "ment_LR = gs_LR.best_estimator_.fit(ment_X_train, np.ravel(ment_y_train))\n",
    "\n",
    "for i in range(100):\n",
    "    ment_X_test_resampled, ment_y_test_resampled = resample(ment_X_test, ment_y_test, replace=True, n_samples=len(ment_y_test), random_state=0+i)\n",
    "    ment_y_prob = ment_LR.predict_proba(ment_X_test_resampled)[:, 1] # probability estimates of the positive class\n",
    "    ment_LR_score.append(average_precision_score(ment_y_test_resampled, ment_y_prob)) # average_precision_score(y_true, y_score)\n",
    "\n",
    "# 'suic'\n",
    "suic_LR = gs_LR.best_estimator_.fit(suic_X_train, np.ravel(suic_y_train))\n",
    "\n",
    "for i in range(100):\n",
    "    suic_X_test_resampled, suic_y_test_resampled = resample(suic_X_test, suic_y_test, replace=True, n_samples=len(suic_y_test), random_state=0+i)\n",
    "    suic_y_prob = suic_LR.predict_proba(suic_X_test_resampled)[:, 1] # probability estimates of the positive class\n",
    "    suic_LR_score.append(average_precision_score(suic_y_test_resampled, suic_y_prob)) # average_precision_score(y_true, y_score)\n",
    "\n",
    "print(\"Mean univariate scores for logistic regression classifier with 95% confidence intervals:\")\n",
    "print(\"    'ADEPRESSION' average precision score: {:.2f} [{:.2f}, {:.2f}]\".format(np.mean(ADEP_LR_score), np.percentile(ADEP_LR_score, 2.5), np.percentile(ADEP_LR_score, 97.5)))\n",
    "print(\"    'AANXIETY' average precision score: {:.2f} [{:.2f}, {:.2f}]\".format(np.mean(AANX_LR_score), np.percentile(AANX_LR_score, 2.5), np.percentile(AANX_LR_score, 97.5)))\n",
    "print(\"    'quarantinesubperiod' average precision score: {:.2f} [{:.2f}, {:.2f}]\".format(np.mean(quar_LR_score), np.percentile(quar_LR_score, 2.5), np.percentile(quar_LR_score, 97.5)))\n",
    "print(\"    'sex' average precision score: {:.2f} [{:.2f}, {:.2f}]\".format(np.mean(sex_LR_score), np.percentile(sex_LR_score, 2.5), np.percentile(sex_LR_score, 97.5)))\n",
    "print(\"    'age' average precision score: {:.2f} [{:.2f}, {:.2f}]\".format(np.mean(age_LR_score), np.percentile(age_LR_score, 2.5), np.percentile(age_LR_score, 97.5)))\n",
    "print(\"    'mentdishist' average precision score: {:.2f} [{:.2f}, {:.2f}]\".format(np.mean(ment_LR_score), np.percentile(ment_LR_score, 2.5), np.percentile(ment_LR_score, 97.5)))\n",
    "print(\"    'suic' average precision score: {:.2f} [{:.2f}, {:.2f}]\".format(np.mean(suic_LR_score), np.percentile(suic_LR_score, 2.5), np.percentile(suic_LR_score, 97.5)))"
   ]
  },
  {
   "cell_type": "code",
   "execution_count": 41,
   "metadata": {},
   "outputs": [],
   "source": [
    "# Prepare the inputs for the plot\n",
    "scores = [auprc_LR, ADEP_LR_score, AANX_LR_score, quar_LR_score, sex_LR_score, age_LR_score, ment_LR_score, suic_LR_score]\n",
    "models = ['All', 'DEP', 'ANX', 'SUBP', 'Sex', 'Age', 'MDH', 'SH']\n",
    "\n",
    "mean_scores = []\n",
    "ci_lower = []\n",
    "ci_upper = []\n",
    "\n",
    "for i in scores:\n",
    "    mean_scores.append(np.mean(i))\n",
    "    ci_lower.append(np.percentile(i, 2.5))\n",
    "    ci_upper.append(np.percentile(i, 97.5))\n",
    "\n",
    "ci_lower = [ci_lower]\n",
    "ci_upper = [ci_upper]\n",
    "\n",
    "ci_lower = np.array(mean_scores) - np.array(ci_lower)\n",
    "ci_upper =np.array(ci_upper) - np.array(mean_scores)\n",
    "\n",
    "ci = np.append(ci_lower, ci_upper, axis=0)"
   ]
  },
  {
   "cell_type": "code",
   "execution_count": 42,
   "metadata": {},
   "outputs": [
    {
     "data": {
      "image/png": "[encoded data removed]",
      "text/plain": [
       "<Figure size 720x504 with 1 Axes>"
      ]
     },
     "metadata": {
      "needs_background": "light"
     },
     "output_type": "display_data"
    }
   ],
   "source": [
    "# Generate the plot\n",
    "plt.figure(figsize=(10, 7))\n",
    "\n",
    "plt.errorbar(models, mean_scores, yerr=ci, fmt='-ob', capsize=3)\n",
    "\n",
    "ax = plt.gca()\n",
    "ax.set_ylim(0, 1)\n",
    "\n",
    "plt.title('Mean multi- and univariate scores for the LR classifier (depression)', size=14)\n",
    "plt.xlabel('Multivariate and univariate models', size=12, labelpad=10.0)\n",
    "plt.ylabel('Mean average precision scores', size=12)\n",
    "\n",
    "plt.show()"
   ]
  },
  {
   "attachments": {},
   "cell_type": "markdown",
   "metadata": {},
   "source": [
    "##### Random forest classifier"
   ]
  },
  {
   "cell_type": "code",
   "execution_count": 43,
   "metadata": {},
   "outputs": [
    {
     "name": "stdout",
     "output_type": "stream",
     "text": [
      "Mean univariate scores for random forest classifier with 95% confidence intervals:\n",
      "    'ADEPRESSION' average precision score: 0.73 [0.67, 0.78]\n",
      "    'AANXIETY' average precision score: 0.68 [0.59, 0.75]\n",
      "    'quarantinesubperiod' average precision score: 0.37 [0.33, 0.42]\n",
      "    'sex' average precision score: 0.38 [0.34, 0.42]\n",
      "    'age' average precision score: 0.40 [0.35, 0.49]\n",
      "    'mentdishist' average precision score: 0.46 [0.40, 0.52]\n",
      "    'suic' average precision score: 0.46 [0.39, 0.52]\n"
     ]
    }
   ],
   "source": [
    "# Obtain the univariate scores\n",
    "ADEP_RF_score = []\n",
    "AANX_RF_score = []\n",
    "quar_RF_score = []\n",
    "sex_RF_score = []\n",
    "age_RF_score = []\n",
    "ment_RF_score = []\n",
    "suic_RF_score = []\n",
    "\n",
    "# 'ADEPRESSION'\n",
    "ADEP_RF = gs_RF.best_estimator_.fit(ADEP_X_train, np.ravel(ADEP_y_train))\n",
    "\n",
    "for i in range(100):\n",
    "    ADEP_X_test_resampled, ADEP_y_test_resampled = resample(ADEP_X_test, ADEP_y_test, replace=True, n_samples=len(ADEP_y_test), random_state=0+i)\n",
    "    ADEP_y_prob = ADEP_RF.predict_proba(ADEP_X_test_resampled)[:, 1] # probability estimates of the positive class\n",
    "    ADEP_RF_score.append(average_precision_score(ADEP_y_test_resampled, ADEP_y_prob)) # average_precision_score(y_true, y_score)\n",
    "\n",
    "# 'AANXIETY'\n",
    "AANX_RF = gs_RF.best_estimator_.fit(AANX_X_train, np.ravel(AANX_y_train))\n",
    "\n",
    "for i in range(100):\n",
    "    AANX_X_test_resampled, AANX_y_test_resampled = resample(AANX_X_test, AANX_y_test, replace=True, n_samples=len(AANX_y_test), random_state=0+i)\n",
    "    AANX_y_prob = AANX_RF.predict_proba(AANX_X_test_resampled)[:, 1] # probability estimates of the positive class\n",
    "    AANX_RF_score.append(average_precision_score(AANX_y_test_resampled, AANX_y_prob)) # average_precision_score(y_true, y_score)\n",
    "\n",
    "# 'quarantinesubperiod'\n",
    "quar_RF = gs_RF.best_estimator_.fit(quar_X_train, np.ravel(quar_y_train))\n",
    "\n",
    "for i in range(100):\n",
    "    quar_X_test_resampled, quar_y_test_resampled = resample(quar_X_test, quar_y_test, replace=True, n_samples=len(quar_y_test), random_state=0+i)\n",
    "    quar_y_prob = quar_RF.predict_proba(quar_X_test_resampled)[:, 1] # probability estimates of the positive class\n",
    "    quar_RF_score.append(average_precision_score(quar_y_test_resampled, quar_y_prob)) # average_precision_score(y_true, y_score\n",
    "\n",
    "# 'sex'\n",
    "sex_RF = gs_RF.best_estimator_.fit(sex_X_train, np.ravel(sex_y_train))\n",
    "\n",
    "for i in range(100):\n",
    "    sex_X_test_resampled, sex_y_test_resampled = resample(sex_X_test, sex_y_test, replace=True, n_samples=len(sex_y_test), random_state=0+i)\n",
    "    sex_y_prob = sex_RF.predict_proba(sex_X_test_resampled)[:, 1] # probability estimates of the positive class\n",
    "    sex_RF_score.append(average_precision_score(sex_y_test_resampled, sex_y_prob)) # average_precision_score(y_true, y_score)\n",
    "\n",
    "# 'age'\n",
    "age_RF = gs_RF.best_estimator_.fit(age_X_train, np.ravel(age_y_train))\n",
    "\n",
    "for i in range(100):\n",
    "    age_X_test_resampled, age_y_test_resampled = resample(age_X_test, age_y_test, replace=True, n_samples=len(age_y_test), random_state=0+i)\n",
    "    age_y_prob = age_RF.predict_proba(age_X_test_resampled)[:, 1] # probability estimates of the positive class\n",
    "    age_RF_score.append(average_precision_score(age_y_test_resampled, age_y_prob)) # average_precision_score(y_true, y_score)\n",
    "\n",
    "# 'mentdishist'\n",
    "ment_RF = gs_RF.best_estimator_.fit(ment_X_train, np.ravel(ment_y_train))\n",
    "\n",
    "for i in range(100):\n",
    "    ment_X_test_resampled, ment_y_test_resampled = resample(ment_X_test, ment_y_test, replace=True, n_samples=len(ment_y_test), random_state=0+i)\n",
    "    ment_y_prob = ment_RF.predict_proba(ment_X_test_resampled)[:, 1] # probability estimates of the positive class\n",
    "    ment_RF_score.append(average_precision_score(ment_y_test_resampled, ment_y_prob)) # average_precision_score(y_true, y_score)\n",
    "\n",
    "# 'suic'\n",
    "suic_RF = gs_RF.best_estimator_.fit(suic_X_train, np.ravel(suic_y_train))\n",
    "\n",
    "for i in range(100):\n",
    "    suic_X_test_resampled, suic_y_test_resampled = resample(suic_X_test, suic_y_test, replace=True, n_samples=len(suic_y_test), random_state=0+i)\n",
    "    suic_y_prob = suic_RF.predict_proba(suic_X_test_resampled)[:, 1] # probability estimates of the positive class\n",
    "    suic_RF_score.append(average_precision_score(suic_y_test_resampled, suic_y_prob)) # average_precision_score(y_true, y_score)\n",
    "\n",
    "print(\"Mean univariate scores for random forest classifier with 95% confidence intervals:\")\n",
    "print(\"    'ADEPRESSION' average precision score: {:.2f} [{:.2f}, {:.2f}]\".format(np.mean(ADEP_RF_score), np.percentile(ADEP_RF_score, 2.5), np.percentile(ADEP_RF_score, 97.5)))\n",
    "print(\"    'AANXIETY' average precision score: {:.2f} [{:.2f}, {:.2f}]\".format(np.mean(AANX_RF_score), np.percentile(AANX_RF_score, 2.5), np.percentile(AANX_RF_score, 97.5)))\n",
    "print(\"    'quarantinesubperiod' average precision score: {:.2f} [{:.2f}, {:.2f}]\".format(np.mean(quar_RF_score), np.percentile(quar_RF_score, 2.5), np.percentile(quar_RF_score, 97.5)))\n",
    "print(\"    'sex' average precision score: {:.2f} [{:.2f}, {:.2f}]\".format(np.mean(sex_RF_score), np.percentile(sex_RF_score, 2.5), np.percentile(sex_RF_score, 97.5)))\n",
    "print(\"    'age' average precision score: {:.2f} [{:.2f}, {:.2f}]\".format(np.mean(age_RF_score), np.percentile(age_RF_score, 2.5), np.percentile(age_RF_score, 97.5)))\n",
    "print(\"    'mentdishist' average precision score: {:.2f} [{:.2f}, {:.2f}]\".format(np.mean(ment_RF_score), np.percentile(ment_RF_score, 2.5), np.percentile(ment_RF_score, 97.5)))\n",
    "print(\"    'suic' average precision score: {:.2f} [{:.2f}, {:.2f}]\".format(np.mean(suic_RF_score), np.percentile(suic_RF_score, 2.5), np.percentile(suic_RF_score, 97.5)))"
   ]
  },
  {
   "cell_type": "code",
   "execution_count": 44,
   "metadata": {},
   "outputs": [],
   "source": [
    "# Prepare the inputs for the plot\n",
    "scores = [auprc_RF, ADEP_RF_score, AANX_RF_score, quar_RF_score, sex_RF_score, age_RF_score, ment_RF_score, suic_RF_score]\n",
    "models = ['All', 'DEP', 'ANX', 'SUBP', 'Sex', 'Age', 'MDH', 'SH']\n",
    "\n",
    "mean_scores = []\n",
    "ci_lower = []\n",
    "ci_upper = []\n",
    "\n",
    "for i in scores:\n",
    "    mean_scores.append(np.mean(i))\n",
    "    ci_lower.append(np.percentile(i, 2.5))\n",
    "    ci_upper.append(np.percentile(i, 97.5))\n",
    "\n",
    "ci_lower = [ci_lower]\n",
    "ci_upper = [ci_upper]\n",
    "\n",
    "ci_lower = np.array(mean_scores) - np.array(ci_lower)\n",
    "ci_upper =np.array(ci_upper) - np.array(mean_scores)\n",
    "\n",
    "ci = np.append(ci_lower, ci_upper, axis=0)"
   ]
  },
  {
   "cell_type": "code",
   "execution_count": 45,
   "metadata": {},
   "outputs": [
    {
     "data": {
      "image/png": "[encoded data removed]",
      "text/plain": [
       "<Figure size 720x504 with 1 Axes>"
      ]
     },
     "metadata": {
      "needs_background": "light"
     },
     "output_type": "display_data"
    }
   ],
   "source": [
    "# Generate the plot\n",
    "plt.figure(figsize=(10, 7))\n",
    "\n",
    "plt.errorbar(models, mean_scores, yerr=ci, fmt='-ob', capsize=3)\n",
    "\n",
    "ax = plt.gca()\n",
    "ax.set_ylim(0, 1)\n",
    "\n",
    "plt.title('Mean multi- and univariate scores for RF classifier (depression)', size=14)\n",
    "plt.xlabel('Multivariate and univariate models', size=12, labelpad=10.0)\n",
    "plt.ylabel('Mean average precision scores', size=12)\n",
    "\n",
    "plt.show()"
   ]
  },
  {
   "attachments": {},
   "cell_type": "markdown",
   "metadata": {},
   "source": [
    "##### SVM classifier"
   ]
  },
  {
   "cell_type": "code",
   "execution_count": 46,
   "metadata": {},
   "outputs": [
    {
     "name": "stdout",
     "output_type": "stream",
     "text": [
      "Mean univariate scores for SVM classifier with 95% confidence intervals:\n",
      "    'ADEPRESSION' average precision score: 0.72 [0.64, 0.79]\n",
      "    'AANXIETY' average precision score: 0.71 [0.64, 0.78]\n",
      "    'quarantinesubperiod' average precision score: 0.41 [0.35, 0.47]\n",
      "    'sex' average precision score: 0.38 [0.34, 0.42]\n",
      "    'age' average precision score: 0.43 [0.37, 0.50]\n",
      "    'mentdishist' average precision score: 0.46 [0.40, 0.52]\n",
      "    'suic' average precision score: 0.46 [0.39, 0.52]\n"
     ]
    }
   ],
   "source": [
    "# Obtain the univariate scores\n",
    "ADEP_SVC_score = []\n",
    "AANX_SVC_score = []\n",
    "quar_SVC_score = []\n",
    "sex_SVC_score = []\n",
    "age_SVC_score = []\n",
    "ment_SVC_score = []\n",
    "suic_SVC_score = []\n",
    "\n",
    "# 'ADEPRESSION'\n",
    "ADEP_SVC = gs_SVC.best_estimator_.fit(ADEP_X_train, np.ravel(ADEP_y_train))\n",
    "\n",
    "for i in range(100):\n",
    "    ADEP_X_test_resampled, ADEP_y_test_resampled = resample(ADEP_X_test, ADEP_y_test, replace=True, n_samples=len(ADEP_y_test), random_state=0+i)\n",
    "    ADEP_y_prob = ADEP_SVC.predict_proba(ADEP_X_test_resampled)[:, 1] # probability estimates of the positive class\n",
    "    ADEP_SVC_score.append(average_precision_score(ADEP_y_test_resampled, ADEP_y_prob)) # average_precision_score(y_true, y_score)\n",
    "\n",
    "# 'AANXIETY'\n",
    "AANX_SVC = gs_SVC.best_estimator_.fit(AANX_X_train, np.ravel(AANX_y_train))\n",
    "\n",
    "for i in range(100):\n",
    "    AANX_X_test_resampled, AANX_y_test_resampled = resample(AANX_X_test, AANX_y_test, replace=True, n_samples=len(AANX_y_test), random_state=0+i)\n",
    "    AANX_y_prob = AANX_SVC.predict_proba(AANX_X_test_resampled)[:, 1] # probability estimates of the positive class\n",
    "    AANX_SVC_score.append(average_precision_score(AANX_y_test_resampled, AANX_y_prob)) # average_precision_score(y_true, y_score)\n",
    "\n",
    "# 'quarantinesubperiod'\n",
    "quar_SVC = gs_SVC.best_estimator_.fit(quar_X_train, np.ravel(quar_y_train))\n",
    "\n",
    "for i in range(100):\n",
    "    quar_X_test_resampled, quar_y_test_resampled = resample(quar_X_test, quar_y_test, replace=True, n_samples=len(quar_y_test), random_state=0+i)\n",
    "    quar_y_prob = quar_SVC.predict_proba(quar_X_test_resampled)[:, 1] # probability estimates of the positive class\n",
    "    quar_SVC_score.append(average_precision_score(quar_y_test_resampled, quar_y_prob)) # average_precision_score(y_true, y_score\n",
    "\n",
    "# 'sex'\n",
    "sex_SVC = gs_SVC.best_estimator_.fit(sex_X_train, np.ravel(sex_y_train))\n",
    "\n",
    "for i in range(100):\n",
    "    sex_X_test_resampled, sex_y_test_resampled = resample(sex_X_test, sex_y_test, replace=True, n_samples=len(sex_y_test), random_state=0+i)\n",
    "    sex_y_prob = sex_SVC.predict_proba(sex_X_test_resampled)[:, 1] # probability estimates of the positive class\n",
    "    sex_SVC_score.append(average_precision_score(sex_y_test_resampled, sex_y_prob)) # average_precision_score(y_true, y_score)\n",
    "\n",
    "# 'age'\n",
    "age_SVC = gs_SVC.best_estimator_.fit(age_X_train, np.ravel(age_y_train))\n",
    "\n",
    "for i in range(100):\n",
    "    age_X_test_resampled, age_y_test_resampled = resample(age_X_test, age_y_test, replace=True, n_samples=len(age_y_test), random_state=0+i)\n",
    "    age_y_prob = age_SVC.predict_proba(age_X_test_resampled)[:, 1] # probability estimates of the positive class\n",
    "    age_SVC_score.append(average_precision_score(age_y_test_resampled, age_y_prob)) # average_precision_score(y_true, y_score)\n",
    "\n",
    "# 'mentdishist'\n",
    "ment_SVC = gs_SVC.best_estimator_.fit(ment_X_train, np.ravel(ment_y_train))\n",
    "\n",
    "for i in range(100):\n",
    "    ment_X_test_resampled, ment_y_test_resampled = resample(ment_X_test, ment_y_test, replace=True, n_samples=len(ment_y_test), random_state=0+i)\n",
    "    ment_y_prob = ment_SVC.predict_proba(ment_X_test_resampled)[:, 1] # probability estimates of the positive class\n",
    "    ment_SVC_score.append(average_precision_score(ment_y_test_resampled, ment_y_prob)) # average_precision_score(y_true, y_score)\n",
    "\n",
    "# 'suic'\n",
    "suic_SVC = gs_SVC.best_estimator_.fit(suic_X_train, np.ravel(suic_y_train))\n",
    "\n",
    "for i in range(100):\n",
    "    suic_X_test_resampled, suic_y_test_resampled = resample(suic_X_test, suic_y_test, replace=True, n_samples=len(suic_y_test), random_state=0+i)\n",
    "    suic_y_prob = suic_SVC.predict_proba(suic_X_test_resampled)[:, 1] # probability estimates of the positive class\n",
    "    suic_SVC_score.append(average_precision_score(suic_y_test_resampled, suic_y_prob)) # average_precision_score(y_true, y_score)\n",
    "\n",
    "print(\"Mean univariate scores for SVM classifier with 95% confidence intervals:\")\n",
    "print(\"    'ADEPRESSION' average precision score: {:.2f} [{:.2f}, {:.2f}]\".format(np.mean(ADEP_SVC_score), np.percentile(ADEP_SVC_score, 2.5), np.percentile(ADEP_SVC_score, 97.5)))\n",
    "print(\"    'AANXIETY' average precision score: {:.2f} [{:.2f}, {:.2f}]\".format(np.mean(AANX_SVC_score), np.percentile(AANX_SVC_score, 2.5), np.percentile(AANX_SVC_score, 97.5)))\n",
    "print(\"    'quarantinesubperiod' average precision score: {:.2f} [{:.2f}, {:.2f}]\".format(np.mean(quar_SVC_score), np.percentile(quar_SVC_score, 2.5), np.percentile(quar_SVC_score, 97.5)))\n",
    "print(\"    'sex' average precision score: {:.2f} [{:.2f}, {:.2f}]\".format(np.mean(sex_SVC_score), np.percentile(sex_SVC_score, 2.5), np.percentile(sex_SVC_score, 97.5)))\n",
    "print(\"    'age' average precision score: {:.2f} [{:.2f}, {:.2f}]\".format(np.mean(age_SVC_score), np.percentile(age_SVC_score, 2.5), np.percentile(age_SVC_score, 97.5)))\n",
    "print(\"    'mentdishist' average precision score: {:.2f} [{:.2f}, {:.2f}]\".format(np.mean(ment_SVC_score), np.percentile(ment_SVC_score, 2.5), np.percentile(ment_SVC_score, 97.5)))\n",
    "print(\"    'suic' average precision score: {:.2f} [{:.2f}, {:.2f}]\".format(np.mean(suic_SVC_score), np.percentile(suic_SVC_score, 2.5), np.percentile(suic_SVC_score, 97.5)))"
   ]
  },
  {
   "cell_type": "code",
   "execution_count": 47,
   "metadata": {},
   "outputs": [],
   "source": [
    "# Prepare the inputs for the plot\n",
    "scores = [auprc_SVC, ADEP_SVC_score, AANX_SVC_score, quar_SVC_score, sex_SVC_score, age_SVC_score, ment_SVC_score, suic_SVC_score]\n",
    "models = ['All', 'DEP', 'ANX', 'SUBP', 'Sex', 'Age', 'MDH', 'SH']\n",
    "\n",
    "mean_scores = []\n",
    "ci_lower = []\n",
    "ci_upper = []\n",
    "\n",
    "for i in scores:\n",
    "    mean_scores.append(np.mean(i))\n",
    "    ci_lower.append(np.percentile(i, 2.5))\n",
    "    ci_upper.append(np.percentile(i, 97.5))\n",
    "\n",
    "ci_lower = [ci_lower]\n",
    "ci_upper = [ci_upper]\n",
    "\n",
    "ci_lower = np.array(mean_scores) - np.array(ci_lower)\n",
    "ci_upper =np.array(ci_upper) - np.array(mean_scores)\n",
    "\n",
    "ci = np.append(ci_lower, ci_upper, axis=0)"
   ]
  },
  {
   "cell_type": "code",
   "execution_count": 48,
   "metadata": {},
   "outputs": [
    {
     "data": {
      "image/png": "[encoded data removed]",
      "text/plain": [
       "<Figure size 720x504 with 1 Axes>"
      ]
     },
     "metadata": {
      "needs_background": "light"
     },
     "output_type": "display_data"
    }
   ],
   "source": [
    "# Generate the plot\n",
    "plt.figure(figsize=(10, 7))\n",
    "\n",
    "plt.errorbar(models, mean_scores, yerr=ci, fmt='-ob', capsize=3)\n",
    "\n",
    "ax = plt.gca()\n",
    "ax.set_ylim(0, 1)\n",
    "\n",
    "plt.title('Mean multi- and univariate scores for SVM classifier (depression)', size=14)\n",
    "plt.xlabel('Multivariate and univariate models', size=12, labelpad=10.0)\n",
    "plt.ylabel('Mean average precision scores', size=12)\n",
    "\n",
    "plt.show()"
   ]
  }
 ],
 "metadata": {
  "kernelspec": {
   "display_name": "Python 3.9.12 ('base')",
   "language": "python",
   "name": "python3"
  },
  "language_info": {
   "codemirror_mode": {
    "name": "ipython",
    "version": 3
   },
   "file_extension": ".py",
   "mimetype": "text/x-python",
   "name": "python",
   "nbconvert_exporter": "python",
   "pygments_lexer": "ipython3",
   "version": "3.9.12"
  },
  "orig_nbformat": 4,
  "vscode": {
   "interpreter": {
    "hash": "aba9ac38390b12c9e4aaf88d1f168c7fdaa11ad7d9dea13356d850735df39080"
   }
  }
 },
 "nbformat": 4,
 "nbformat_minor": 2
}
